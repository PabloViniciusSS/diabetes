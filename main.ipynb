{
 "cells": [
  {
   "cell_type": "markdown",
   "metadata": {},
   "source": [
    "# Rede Neural de Dados sobre Diabetes"
   ]
  },
  {
   "cell_type": "code",
   "execution_count": 1,
   "metadata": {},
   "outputs": [
    {
     "name": "stdout",
     "output_type": "stream",
     "text": [
      ".. _diabetes_dataset:\n",
      "\n",
      "Diabetes dataset\n",
      "----------------\n",
      "\n",
      "Ten baseline variables, age, sex, body mass index, average blood\n",
      "pressure, and six blood serum measurements were obtained for each of n =\n",
      "442 diabetes patients, as well as the response of interest, a\n",
      "quantitative measure of disease progression one year after baseline.\n",
      "\n",
      "**Data Set Characteristics:**\n",
      "\n",
      "  :Number of Instances: 442\n",
      "\n",
      "  :Number of Attributes: First 10 columns are numeric predictive values\n",
      "\n",
      "  :Target: Column 11 is a quantitative measure of disease progression one year after baseline\n",
      "\n",
      "  :Attribute Information:\n",
      "      - age     age in years\n",
      "      - sex\n",
      "      - bmi     body mass index\n",
      "      - bp      average blood pressure\n",
      "      - s1      tc, T-Cells (a type of white blood cells)\n",
      "      - s2      ldl, low-density lipoproteins\n",
      "      - s3      hdl, high-density lipoproteins\n",
      "      - s4      tch, thyroid stimulating hormone\n",
      "      - s5      ltg, lamotrigine\n",
      "      - s6      glu, blood sugar level\n",
      "\n",
      "Note: Each of these 10 feature variables have been mean centered and scaled by the standard deviation times `n_samples` (i.e. the sum of squares of each column totals 1).\n",
      "\n",
      "Source URL:\n",
      "https://www4.stat.ncsu.edu/~boos/var.select/diabetes.html\n",
      "\n",
      "For more information see:\n",
      "Bradley Efron, Trevor Hastie, Iain Johnstone and Robert Tibshirani (2004) \"Least Angle Regression,\" Annals of Statistics (with discussion), 407-499.\n",
      "(https://web.stanford.edu/~hastie/Papers/LARS/LeastAngle_2002.pdf)\n"
     ]
    }
   ],
   "source": [
    "from sklearn.datasets import load_diabetes\n",
    "import tensorflow as tf\n",
    "#Load dos dados do dataset diabetes e ver a descrição do dataset\n",
    "diabetes_dataset = load_diabetes()\n",
    "print(diabetes_dataset['DESCR'])"
   ]
  },
  {
   "cell_type": "code",
   "execution_count": 2,
   "metadata": {},
   "outputs": [
    {
     "name": "stdout",
     "output_type": "stream",
     "text": [
      "dict_keys(['data', 'target', 'frame', 'DESCR', 'feature_names', 'data_filename', 'target_filename'])\n"
     ]
    }
   ],
   "source": [
    "#verificar as chaves existentes no dataset\n",
    "print(diabetes_dataset.keys())"
   ]
  },
  {
   "cell_type": "code",
   "execution_count": 3,
   "metadata": {},
   "outputs": [],
   "source": [
    "#Salvar as entras e os rotulos em variaveis\n",
    "data = diabetes_dataset[\"data\"]\n",
    "targets = diabetes_dataset[\"target\"]"
   ]
  },
  {
   "cell_type": "code",
   "execution_count": 4,
   "metadata": {},
   "outputs": [],
   "source": [
    "#Normalizar os dados\n",
    "targets = (targets - targets.mean(axis=0)) / targets.std()"
   ]
  },
  {
   "cell_type": "code",
   "execution_count": 5,
   "metadata": {},
   "outputs": [
    {
     "name": "stdout",
     "output_type": "stream",
     "text": [
      "(397, 10)\n",
      "(45, 10)\n",
      "(397,)\n",
      "(45,)\n"
     ]
    }
   ],
   "source": [
    "#Dividis os dados em treino e testes\n",
    "from sklearn.model_selection import train_test_split\n",
    "\n",
    "train_data, test_data, train_targets, test_targets = train_test_split(data, targets, test_size=0.1)\n",
    "\n",
    "print(train_data.shape)\n",
    "print(test_data.shape)\n",
    "print(train_targets.shape)\n",
    "print(test_targets.shape)"
   ]
  },
  {
   "cell_type": "markdown",
   "metadata": {},
   "source": [
    "### FeedFoward Rede Neural"
   ]
  },
  {
   "cell_type": "code",
   "execution_count": 6,
   "metadata": {},
   "outputs": [],
   "source": [
    "from tensorflow.keras.models import Sequential\n",
    "from tensorflow.keras.layers import Dense\n",
    "\n",
    "\n",
    "#Criando a rede Neural\n",
    "\n",
    "def get_model():\n",
    "  model = Sequential([\n",
    "          Dense(128, activation=\"relu\", input_shape=(train_data.shape[1],)),\n",
    "          Dense(128, activation=\"relu\"),\n",
    "          Dense(128, activation=\"relu\"),\n",
    "          Dense(128, activation=\"relu\"),\n",
    "          Dense(128, activation=\"relu\"),\n",
    "          Dense(128, activation=\"relu\"),\n",
    "          Dense(1, activation=\"sigmoid\")\n",
    "  ])\n",
    "\n",
    "  return model"
   ]
  },
  {
   "cell_type": "code",
   "execution_count": 7,
   "metadata": {},
   "outputs": [],
   "source": [
    "#Criando uma variavel para a rede neural\n",
    "model = get_model()"
   ]
  },
  {
   "cell_type": "code",
   "execution_count": 8,
   "metadata": {},
   "outputs": [
    {
     "name": "stdout",
     "output_type": "stream",
     "text": [
      "Model: \"sequential\"\n",
      "_________________________________________________________________\n",
      " Layer (type)                Output Shape              Param #   \n",
      "=================================================================\n",
      " dense (Dense)               (None, 128)               1408      \n",
      "                                                                 \n",
      " dense_1 (Dense)             (None, 128)               16512     \n",
      "                                                                 \n",
      " dense_2 (Dense)             (None, 128)               16512     \n",
      "                                                                 \n",
      " dense_3 (Dense)             (None, 128)               16512     \n",
      "                                                                 \n",
      " dense_4 (Dense)             (None, 128)               16512     \n",
      "                                                                 \n",
      " dense_5 (Dense)             (None, 128)               16512     \n",
      "                                                                 \n",
      " dense_6 (Dense)             (None, 1)                 129       \n",
      "                                                                 \n",
      "=================================================================\n",
      "Total params: 84,097\n",
      "Trainable params: 84,097\n",
      "Non-trainable params: 0\n",
      "_________________________________________________________________\n"
     ]
    }
   ],
   "source": [
    "#Ver o sumario da rede neural\n",
    "\n",
    "model.summary()"
   ]
  },
  {
   "cell_type": "code",
   "execution_count": 9,
   "metadata": {},
   "outputs": [],
   "source": [
    "#Copilar o modelo\n",
    "\n",
    "opt = tf.keras.optimizers.Adam(learning_rate=0.005)\n",
    "mse = tf.keras.metrics.mean_squared_error\n",
    "\n",
    "model.compile(\n",
    "      optimizer=opt,\n",
    "      loss=\"mse\",\n",
    "      metrics=mse\n",
    ")"
   ]
  },
  {
   "cell_type": "code",
   "execution_count": 10,
   "metadata": {},
   "outputs": [
    {
     "name": "stdout",
     "output_type": "stream",
     "text": [
      "Epoch 1/100\n",
      "6/6 - 1s - loss: 1.1458 - mean_squared_error: 1.1458 - val_loss: 0.9441 - val_mean_squared_error: 0.9441 - 1s/epoch - 240ms/step\n",
      "Epoch 2/100\n",
      "6/6 - 0s - loss: 0.9819 - mean_squared_error: 0.9819 - val_loss: 0.9422 - val_mean_squared_error: 0.9422 - 42ms/epoch - 7ms/step\n",
      "Epoch 3/100\n",
      "6/6 - 0s - loss: 0.9192 - mean_squared_error: 0.9192 - val_loss: 0.8356 - val_mean_squared_error: 0.8356 - 39ms/epoch - 7ms/step\n",
      "Epoch 4/100\n",
      "6/6 - 0s - loss: 0.8295 - mean_squared_error: 0.8295 - val_loss: 0.8006 - val_mean_squared_error: 0.8006 - 39ms/epoch - 7ms/step\n",
      "Epoch 5/100\n",
      "6/6 - 0s - loss: 0.8116 - mean_squared_error: 0.8116 - val_loss: 0.7078 - val_mean_squared_error: 0.7078 - 36ms/epoch - 6ms/step\n",
      "Epoch 6/100\n",
      "6/6 - 0s - loss: 0.7534 - mean_squared_error: 0.7534 - val_loss: 0.7055 - val_mean_squared_error: 0.7055 - 30ms/epoch - 5ms/step\n",
      "Epoch 7/100\n",
      "6/6 - 0s - loss: 0.7323 - mean_squared_error: 0.7323 - val_loss: 0.7420 - val_mean_squared_error: 0.7420 - 41ms/epoch - 7ms/step\n",
      "Epoch 8/100\n",
      "6/6 - 0s - loss: 0.7331 - mean_squared_error: 0.7331 - val_loss: 0.7137 - val_mean_squared_error: 0.7137 - 39ms/epoch - 6ms/step\n",
      "Epoch 9/100\n",
      "6/6 - 0s - loss: 0.7276 - mean_squared_error: 0.7276 - val_loss: 0.7388 - val_mean_squared_error: 0.7388 - 41ms/epoch - 7ms/step\n",
      "Epoch 10/100\n",
      "6/6 - 0s - loss: 0.7417 - mean_squared_error: 0.7417 - val_loss: 0.7267 - val_mean_squared_error: 0.7267 - 43ms/epoch - 7ms/step\n",
      "Epoch 11/100\n",
      "6/6 - 0s - loss: 0.7554 - mean_squared_error: 0.7554 - val_loss: 0.7187 - val_mean_squared_error: 0.7187 - 23ms/epoch - 4ms/step\n",
      "Epoch 12/100\n",
      "6/6 - 0s - loss: 0.7200 - mean_squared_error: 0.7200 - val_loss: 0.7375 - val_mean_squared_error: 0.7375 - 55ms/epoch - 9ms/step\n",
      "Epoch 13/100\n",
      "6/6 - 0s - loss: 0.7354 - mean_squared_error: 0.7354 - val_loss: 0.7113 - val_mean_squared_error: 0.7113 - 36ms/epoch - 6ms/step\n",
      "Epoch 14/100\n",
      "6/6 - 0s - loss: 0.7738 - mean_squared_error: 0.7738 - val_loss: 0.7079 - val_mean_squared_error: 0.7079 - 38ms/epoch - 6ms/step\n",
      "Epoch 15/100\n",
      "6/6 - 0s - loss: 0.7114 - mean_squared_error: 0.7114 - val_loss: 0.6996 - val_mean_squared_error: 0.6996 - 37ms/epoch - 6ms/step\n",
      "Epoch 16/100\n",
      "6/6 - 0s - loss: 0.7166 - mean_squared_error: 0.7166 - val_loss: 0.7019 - val_mean_squared_error: 0.7019 - 41ms/epoch - 7ms/step\n",
      "Epoch 17/100\n",
      "6/6 - 0s - loss: 0.6990 - mean_squared_error: 0.6990 - val_loss: 0.6772 - val_mean_squared_error: 0.6772 - 43ms/epoch - 7ms/step\n",
      "Epoch 18/100\n",
      "6/6 - 0s - loss: 0.6895 - mean_squared_error: 0.6895 - val_loss: 0.7182 - val_mean_squared_error: 0.7182 - 40ms/epoch - 7ms/step\n",
      "Epoch 19/100\n",
      "6/6 - 0s - loss: 0.7276 - mean_squared_error: 0.7276 - val_loss: 0.7209 - val_mean_squared_error: 0.7209 - 35ms/epoch - 6ms/step\n",
      "Epoch 20/100\n",
      "6/6 - 0s - loss: 0.7512 - mean_squared_error: 0.7512 - val_loss: 0.7253 - val_mean_squared_error: 0.7253 - 45ms/epoch - 8ms/step\n",
      "Epoch 21/100\n",
      "6/6 - 0s - loss: 0.7113 - mean_squared_error: 0.7113 - val_loss: 0.7298 - val_mean_squared_error: 0.7298 - 32ms/epoch - 5ms/step\n",
      "Epoch 22/100\n",
      "6/6 - 0s - loss: 0.7440 - mean_squared_error: 0.7440 - val_loss: 0.7209 - val_mean_squared_error: 0.7209 - 56ms/epoch - 9ms/step\n",
      "Epoch 23/100\n",
      "6/6 - 0s - loss: 0.7462 - mean_squared_error: 0.7462 - val_loss: 0.7358 - val_mean_squared_error: 0.7358 - 43ms/epoch - 7ms/step\n",
      "Epoch 24/100\n",
      "6/6 - 0s - loss: 0.7221 - mean_squared_error: 0.7221 - val_loss: 0.7255 - val_mean_squared_error: 0.7255 - 46ms/epoch - 8ms/step\n",
      "Epoch 25/100\n",
      "6/6 - 0s - loss: 0.7033 - mean_squared_error: 0.7033 - val_loss: 0.7135 - val_mean_squared_error: 0.7135 - 36ms/epoch - 6ms/step\n",
      "Epoch 26/100\n",
      "6/6 - 0s - loss: 0.7229 - mean_squared_error: 0.7229 - val_loss: 0.7085 - val_mean_squared_error: 0.7085 - 46ms/epoch - 8ms/step\n",
      "Epoch 27/100\n",
      "6/6 - 0s - loss: 0.7009 - mean_squared_error: 0.7009 - val_loss: 0.7225 - val_mean_squared_error: 0.7225 - 31ms/epoch - 5ms/step\n",
      "Epoch 28/100\n",
      "6/6 - 0s - loss: 0.7478 - mean_squared_error: 0.7478 - val_loss: 0.7031 - val_mean_squared_error: 0.7031 - 43ms/epoch - 7ms/step\n",
      "Epoch 29/100\n",
      "6/6 - 0s - loss: 0.7143 - mean_squared_error: 0.7143 - val_loss: 0.6903 - val_mean_squared_error: 0.6903 - 37ms/epoch - 6ms/step\n",
      "Epoch 30/100\n",
      "6/6 - 0s - loss: 0.7140 - mean_squared_error: 0.7140 - val_loss: 0.7077 - val_mean_squared_error: 0.7077 - 40ms/epoch - 7ms/step\n",
      "Epoch 31/100\n",
      "6/6 - 0s - loss: 0.7042 - mean_squared_error: 0.7042 - val_loss: 0.7316 - val_mean_squared_error: 0.7316 - 49ms/epoch - 8ms/step\n",
      "Epoch 32/100\n",
      "6/6 - 0s - loss: 0.7854 - mean_squared_error: 0.7854 - val_loss: 0.7400 - val_mean_squared_error: 0.7400 - 31ms/epoch - 5ms/step\n",
      "Epoch 33/100\n",
      "6/6 - 0s - loss: 0.7714 - mean_squared_error: 0.7714 - val_loss: 0.7207 - val_mean_squared_error: 0.7207 - 40ms/epoch - 7ms/step\n",
      "Epoch 34/100\n",
      "6/6 - 0s - loss: 0.7116 - mean_squared_error: 0.7116 - val_loss: 0.6702 - val_mean_squared_error: 0.6702 - 47ms/epoch - 8ms/step\n",
      "Epoch 35/100\n",
      "6/6 - 0s - loss: 0.6947 - mean_squared_error: 0.6947 - val_loss: 0.6693 - val_mean_squared_error: 0.6693 - 31ms/epoch - 5ms/step\n",
      "Epoch 36/100\n",
      "6/6 - 0s - loss: 0.7143 - mean_squared_error: 0.7143 - val_loss: 0.7033 - val_mean_squared_error: 0.7033 - 46ms/epoch - 8ms/step\n",
      "Epoch 37/100\n",
      "6/6 - 0s - loss: 0.7076 - mean_squared_error: 0.7076 - val_loss: 0.7018 - val_mean_squared_error: 0.7018 - 32ms/epoch - 5ms/step\n",
      "Epoch 38/100\n",
      "6/6 - 0s - loss: 0.6923 - mean_squared_error: 0.6923 - val_loss: 0.7183 - val_mean_squared_error: 0.7183 - 40ms/epoch - 7ms/step\n",
      "Epoch 39/100\n",
      "6/6 - 0s - loss: 0.7060 - mean_squared_error: 0.7060 - val_loss: 0.7199 - val_mean_squared_error: 0.7199 - 42ms/epoch - 7ms/step\n",
      "Epoch 40/100\n",
      "6/6 - 0s - loss: 0.7071 - mean_squared_error: 0.7071 - val_loss: 0.7098 - val_mean_squared_error: 0.7098 - 38ms/epoch - 6ms/step\n",
      "Epoch 41/100\n",
      "6/6 - 0s - loss: 0.7141 - mean_squared_error: 0.7141 - val_loss: 0.6777 - val_mean_squared_error: 0.6777 - 40ms/epoch - 7ms/step\n",
      "Epoch 42/100\n",
      "6/6 - 0s - loss: 0.7168 - mean_squared_error: 0.7168 - val_loss: 0.7052 - val_mean_squared_error: 0.7052 - 41ms/epoch - 7ms/step\n",
      "Epoch 43/100\n",
      "6/6 - 0s - loss: 0.7243 - mean_squared_error: 0.7243 - val_loss: 0.6725 - val_mean_squared_error: 0.6725 - 39ms/epoch - 7ms/step\n",
      "Epoch 44/100\n",
      "6/6 - 0s - loss: 0.7168 - mean_squared_error: 0.7168 - val_loss: 0.6935 - val_mean_squared_error: 0.6935 - 39ms/epoch - 7ms/step\n",
      "Epoch 45/100\n",
      "6/6 - 0s - loss: 0.7137 - mean_squared_error: 0.7137 - val_loss: 0.6951 - val_mean_squared_error: 0.6951 - 39ms/epoch - 6ms/step\n",
      "Epoch 46/100\n",
      "6/6 - 0s - loss: 0.7037 - mean_squared_error: 0.7037 - val_loss: 0.7081 - val_mean_squared_error: 0.7081 - 38ms/epoch - 6ms/step\n",
      "Epoch 47/100\n",
      "6/6 - 0s - loss: 0.6826 - mean_squared_error: 0.6826 - val_loss: 0.7084 - val_mean_squared_error: 0.7084 - 37ms/epoch - 6ms/step\n",
      "Epoch 48/100\n",
      "6/6 - 0s - loss: 0.6863 - mean_squared_error: 0.6863 - val_loss: 0.7054 - val_mean_squared_error: 0.7054 - 27ms/epoch - 4ms/step\n",
      "Epoch 49/100\n",
      "6/6 - 0s - loss: 0.6822 - mean_squared_error: 0.6822 - val_loss: 0.7110 - val_mean_squared_error: 0.7110 - 27ms/epoch - 4ms/step\n",
      "Epoch 50/100\n",
      "6/6 - 0s - loss: 0.6833 - mean_squared_error: 0.6833 - val_loss: 0.6982 - val_mean_squared_error: 0.6982 - 40ms/epoch - 7ms/step\n",
      "Epoch 51/100\n",
      "6/6 - 0s - loss: 0.6804 - mean_squared_error: 0.6804 - val_loss: 0.7031 - val_mean_squared_error: 0.7031 - 37ms/epoch - 6ms/step\n",
      "Epoch 52/100\n",
      "6/6 - 0s - loss: 0.6794 - mean_squared_error: 0.6794 - val_loss: 0.6985 - val_mean_squared_error: 0.6985 - 36ms/epoch - 6ms/step\n",
      "Epoch 53/100\n",
      "6/6 - 0s - loss: 0.6775 - mean_squared_error: 0.6775 - val_loss: 0.6932 - val_mean_squared_error: 0.6932 - 31ms/epoch - 5ms/step\n",
      "Epoch 54/100\n",
      "6/6 - 0s - loss: 0.6721 - mean_squared_error: 0.6721 - val_loss: 0.6966 - val_mean_squared_error: 0.6966 - 44ms/epoch - 7ms/step\n",
      "Epoch 55/100\n",
      "6/6 - 0s - loss: 0.6718 - mean_squared_error: 0.6718 - val_loss: 0.6972 - val_mean_squared_error: 0.6972 - 44ms/epoch - 7ms/step\n",
      "Epoch 56/100\n",
      "6/6 - 0s - loss: 0.6703 - mean_squared_error: 0.6703 - val_loss: 0.6988 - val_mean_squared_error: 0.6988 - 39ms/epoch - 7ms/step\n",
      "Epoch 57/100\n",
      "6/6 - 0s - loss: 0.6699 - mean_squared_error: 0.6699 - val_loss: 0.6996 - val_mean_squared_error: 0.6996 - 47ms/epoch - 8ms/step\n",
      "Epoch 58/100\n",
      "6/6 - 0s - loss: 0.6694 - mean_squared_error: 0.6694 - val_loss: 0.6959 - val_mean_squared_error: 0.6959 - 30ms/epoch - 5ms/step\n",
      "Epoch 59/100\n",
      "6/6 - 0s - loss: 0.6689 - mean_squared_error: 0.6689 - val_loss: 0.6921 - val_mean_squared_error: 0.6921 - 52ms/epoch - 9ms/step\n",
      "Epoch 60/100\n",
      "6/6 - 0s - loss: 0.6692 - mean_squared_error: 0.6692 - val_loss: 0.6855 - val_mean_squared_error: 0.6855 - 37ms/epoch - 6ms/step\n",
      "Epoch 61/100\n",
      "6/6 - 0s - loss: 0.6687 - mean_squared_error: 0.6687 - val_loss: 0.6891 - val_mean_squared_error: 0.6891 - 33ms/epoch - 5ms/step\n",
      "Epoch 62/100\n",
      "6/6 - 0s - loss: 0.6699 - mean_squared_error: 0.6699 - val_loss: 0.6783 - val_mean_squared_error: 0.6783 - 31ms/epoch - 5ms/step\n",
      "Epoch 63/100\n",
      "6/6 - 0s - loss: 0.6805 - mean_squared_error: 0.6805 - val_loss: 0.7351 - val_mean_squared_error: 0.7351 - 49ms/epoch - 8ms/step\n",
      "Epoch 64/100\n",
      "6/6 - 0s - loss: 0.7158 - mean_squared_error: 0.7158 - val_loss: 0.7383 - val_mean_squared_error: 0.7383 - 27ms/epoch - 4ms/step\n",
      "Epoch 65/100\n",
      "6/6 - 0s - loss: 0.7116 - mean_squared_error: 0.7116 - val_loss: 0.7418 - val_mean_squared_error: 0.7418 - 40ms/epoch - 7ms/step\n",
      "Epoch 66/100\n",
      "6/6 - 0s - loss: 0.6851 - mean_squared_error: 0.6851 - val_loss: 0.6847 - val_mean_squared_error: 0.6847 - 31ms/epoch - 5ms/step\n",
      "Epoch 67/100\n",
      "6/6 - 0s - loss: 0.6958 - mean_squared_error: 0.6958 - val_loss: 0.6827 - val_mean_squared_error: 0.6827 - 54ms/epoch - 9ms/step\n",
      "Epoch 68/100\n",
      "6/6 - 0s - loss: 0.7058 - mean_squared_error: 0.7058 - val_loss: 0.6586 - val_mean_squared_error: 0.6586 - 42ms/epoch - 7ms/step\n",
      "Epoch 69/100\n",
      "6/6 - 0s - loss: 0.7112 - mean_squared_error: 0.7112 - val_loss: 0.6582 - val_mean_squared_error: 0.6582 - 40ms/epoch - 7ms/step\n",
      "Epoch 70/100\n",
      "6/6 - 0s - loss: 0.7441 - mean_squared_error: 0.7441 - val_loss: 0.6563 - val_mean_squared_error: 0.6563 - 31ms/epoch - 5ms/step\n",
      "Epoch 71/100\n",
      "6/6 - 0s - loss: 0.7390 - mean_squared_error: 0.7390 - val_loss: 0.6438 - val_mean_squared_error: 0.6438 - 52ms/epoch - 9ms/step\n",
      "Epoch 72/100\n",
      "6/6 - 0s - loss: 0.7392 - mean_squared_error: 0.7392 - val_loss: 0.7110 - val_mean_squared_error: 0.7110 - 32ms/epoch - 5ms/step\n",
      "Epoch 73/100\n",
      "6/6 - 0s - loss: 0.7653 - mean_squared_error: 0.7653 - val_loss: 0.7275 - val_mean_squared_error: 0.7275 - 31ms/epoch - 5ms/step\n",
      "Epoch 74/100\n",
      "6/6 - 0s - loss: 0.7388 - mean_squared_error: 0.7388 - val_loss: 0.6576 - val_mean_squared_error: 0.6576 - 29ms/epoch - 5ms/step\n",
      "Epoch 75/100\n",
      "6/6 - 0s - loss: 0.7102 - mean_squared_error: 0.7102 - val_loss: 0.6763 - val_mean_squared_error: 0.6763 - 31ms/epoch - 5ms/step\n",
      "Epoch 76/100\n",
      "6/6 - 0s - loss: 0.7046 - mean_squared_error: 0.7046 - val_loss: 0.6961 - val_mean_squared_error: 0.6961 - 31ms/epoch - 5ms/step\n",
      "Epoch 77/100\n",
      "6/6 - 0s - loss: 0.7020 - mean_squared_error: 0.7020 - val_loss: 0.7092 - val_mean_squared_error: 0.7092 - 31ms/epoch - 5ms/step\n",
      "Epoch 78/100\n",
      "6/6 - 0s - loss: 0.7337 - mean_squared_error: 0.7337 - val_loss: 0.7248 - val_mean_squared_error: 0.7248 - 47ms/epoch - 8ms/step\n",
      "Epoch 79/100\n",
      "6/6 - 0s - loss: 0.7469 - mean_squared_error: 0.7469 - val_loss: 0.6737 - val_mean_squared_error: 0.6737 - 31ms/epoch - 5ms/step\n",
      "Epoch 80/100\n",
      "6/6 - 0s - loss: 0.7342 - mean_squared_error: 0.7342 - val_loss: 0.6589 - val_mean_squared_error: 0.6589 - 49ms/epoch - 8ms/step\n",
      "Epoch 81/100\n",
      "6/6 - 0s - loss: 0.7579 - mean_squared_error: 0.7579 - val_loss: 0.6551 - val_mean_squared_error: 0.6551 - 27ms/epoch - 4ms/step\n",
      "Epoch 82/100\n",
      "6/6 - 0s - loss: 0.7123 - mean_squared_error: 0.7123 - val_loss: 0.6711 - val_mean_squared_error: 0.6711 - 38ms/epoch - 6ms/step\n",
      "Epoch 83/100\n",
      "6/6 - 0s - loss: 0.7139 - mean_squared_error: 0.7139 - val_loss: 0.7114 - val_mean_squared_error: 0.7114 - 28ms/epoch - 5ms/step\n",
      "Epoch 84/100\n",
      "6/6 - 0s - loss: 0.7249 - mean_squared_error: 0.7249 - val_loss: 0.7164 - val_mean_squared_error: 0.7164 - 40ms/epoch - 7ms/step\n",
      "Epoch 85/100\n",
      "6/6 - 0s - loss: 0.7162 - mean_squared_error: 0.7162 - val_loss: 0.6761 - val_mean_squared_error: 0.6761 - 46ms/epoch - 8ms/step\n",
      "Epoch 86/100\n",
      "6/6 - 0s - loss: 0.7061 - mean_squared_error: 0.7061 - val_loss: 0.6770 - val_mean_squared_error: 0.6770 - 33ms/epoch - 5ms/step\n",
      "Epoch 87/100\n",
      "6/6 - 0s - loss: 0.7003 - mean_squared_error: 0.7003 - val_loss: 0.6722 - val_mean_squared_error: 0.6722 - 40ms/epoch - 7ms/step\n",
      "Epoch 88/100\n",
      "6/6 - 0s - loss: 0.6941 - mean_squared_error: 0.6941 - val_loss: 0.6829 - val_mean_squared_error: 0.6829 - 40ms/epoch - 7ms/step\n",
      "Epoch 89/100\n",
      "6/6 - 0s - loss: 0.7018 - mean_squared_error: 0.7018 - val_loss: 0.6839 - val_mean_squared_error: 0.6839 - 54ms/epoch - 9ms/step\n",
      "Epoch 90/100\n",
      "6/6 - 0s - loss: 0.6958 - mean_squared_error: 0.6958 - val_loss: 0.6455 - val_mean_squared_error: 0.6455 - 41ms/epoch - 7ms/step\n",
      "Epoch 91/100\n",
      "6/6 - 0s - loss: 0.7047 - mean_squared_error: 0.7047 - val_loss: 0.6501 - val_mean_squared_error: 0.6501 - 38ms/epoch - 6ms/step\n",
      "Epoch 92/100\n",
      "6/6 - 0s - loss: 0.7009 - mean_squared_error: 0.7009 - val_loss: 0.7180 - val_mean_squared_error: 0.7180 - 39ms/epoch - 7ms/step\n",
      "Epoch 93/100\n",
      "6/6 - 0s - loss: 0.6981 - mean_squared_error: 0.6981 - val_loss: 0.6930 - val_mean_squared_error: 0.6930 - 42ms/epoch - 7ms/step\n",
      "Epoch 94/100\n",
      "6/6 - 0s - loss: 0.7055 - mean_squared_error: 0.7055 - val_loss: 0.6601 - val_mean_squared_error: 0.6601 - 33ms/epoch - 6ms/step\n",
      "Epoch 95/100\n",
      "6/6 - 0s - loss: 0.7066 - mean_squared_error: 0.7066 - val_loss: 0.6910 - val_mean_squared_error: 0.6910 - 31ms/epoch - 5ms/step\n",
      "Epoch 96/100\n",
      "6/6 - 0s - loss: 0.6975 - mean_squared_error: 0.6975 - val_loss: 0.6848 - val_mean_squared_error: 0.6848 - 51ms/epoch - 9ms/step\n",
      "Epoch 97/100\n",
      "6/6 - 0s - loss: 0.6899 - mean_squared_error: 0.6899 - val_loss: 0.6912 - val_mean_squared_error: 0.6912 - 38ms/epoch - 6ms/step\n",
      "Epoch 98/100\n",
      "6/6 - 0s - loss: 0.6881 - mean_squared_error: 0.6881 - val_loss: 0.6893 - val_mean_squared_error: 0.6893 - 37ms/epoch - 6ms/step\n",
      "Epoch 99/100\n",
      "6/6 - 0s - loss: 0.6898 - mean_squared_error: 0.6898 - val_loss: 0.6923 - val_mean_squared_error: 0.6923 - 24ms/epoch - 4ms/step\n",
      "Epoch 100/100\n",
      "6/6 - 0s - loss: 0.6857 - mean_squared_error: 0.6857 - val_loss: 0.6917 - val_mean_squared_error: 0.6917 - 39ms/epoch - 7ms/step\n"
     ]
    }
   ],
   "source": [
    "history = model.fit(train_data, train_targets, epochs=100, validation_split=0.15,batch_size=64, verbose=2)"
   ]
  },
  {
   "cell_type": "code",
   "execution_count": 11,
   "metadata": {},
   "outputs": [
    {
     "name": "stdout",
     "output_type": "stream",
     "text": [
      "2/2 - 0s - loss: 0.7698 - mean_squared_error: 0.7698 - 22ms/epoch - 11ms/step\n"
     ]
    },
    {
     "data": {
      "text/plain": [
       "[0.7698451280593872, 0.7698451280593872]"
      ]
     },
     "execution_count": 11,
     "metadata": {},
     "output_type": "execute_result"
    }
   ],
   "source": [
    "model.evaluate(test_data, test_targets, verbose=2)"
   ]
  },
  {
   "cell_type": "markdown",
   "metadata": {},
   "source": [
    "### Plotando o gráfico de aprendizado"
   ]
  },
  {
   "cell_type": "code",
   "execution_count": 12,
   "metadata": {},
   "outputs": [],
   "source": [
    "import matplotlib.pyplot as plt\n",
    "%matplotlib inline"
   ]
  },
  {
   "cell_type": "code",
   "execution_count": 13,
   "metadata": {},
   "outputs": [
    {
     "data": {
      "image/png": "[encoded data removed]",
      "text/plain": [
       "<Figure size 432x288 with 1 Axes>"
      ]
     },
     "metadata": {
      "needs_background": "light"
     },
     "output_type": "display_data"
    }
   ],
   "source": [
    "plt.plot(history.history['loss'])\n",
    "plt.plot(history.history['val_loss'])\n",
    "plt.title('Loss vs. epochs')\n",
    "plt.ylabel('Loss')\n",
    "plt.xlabel('Epoch')\n",
    "plt.legend(['Training', 'Validation'], loc='upper right')\n",
    "plt.show()"
   ]
  },
  {
   "cell_type": "markdown",
   "metadata": {},
   "source": [
    "### Agora vamos analisar utilizando regularização no modelo"
   ]
  },
  {
   "cell_type": "code",
   "execution_count": 14,
   "metadata": {},
   "outputs": [],
   "source": [
    "from tensorflow.keras.layers import Dropout\n",
    "from tensorflow.keras import regularizers"
   ]
  },
  {
   "cell_type": "code",
   "execution_count": 17,
   "metadata": {},
   "outputs": [],
   "source": [
    "def get_regularised_model(wd, rate):\n",
    "  model = Sequential([\n",
    "    Dense(128, kernel_regularizer=regularizers.l2(wd), activation='relu', input_shape=(train_data.shape[1],)),\n",
    "    Dropout(rate),\n",
    "    Dense(128, kernel_regularizer=regularizers.l2(wd), activation='relu'),\n",
    "    Dropout(rate),\n",
    "    Dense(128, kernel_regularizer=regularizers.l2(wd), activation='relu'),\n",
    "    Dropout(rate),\n",
    "    Dense(128, kernel_regularizer=regularizers.l2(wd), activation='relu'),\n",
    "    Dropout(rate),\n",
    "    Dense(128, kernel_regularizer=regularizers.l2(wd), activation='relu'),\n",
    "    Dropout(rate),\n",
    "    Dense(128, kernel_regularizer=regularizers.l2(wd), activation='relu'),\n",
    "    Dropout(rate),\n",
    "    Dense(1, activation='sigmoid')\n",
    "  ])\n",
    "  return model"
   ]
  },
  {
   "cell_type": "code",
   "execution_count": 18,
   "metadata": {},
   "outputs": [],
   "source": [
    "model = get_regularised_model(1e-5, 0.3)"
   ]
  },
  {
   "cell_type": "code",
   "execution_count": 20,
   "metadata": {},
   "outputs": [],
   "source": [
    "opt = tf.keras.optimizers.Adam()\n",
    "\n",
    "model.compile(\n",
    "              optimizer=opt,\n",
    "              loss = 'mse',\n",
    "              metrics = [mse]\n",
    "              )"
   ]
  },
  {
   "cell_type": "code",
   "execution_count": 21,
   "metadata": {},
   "outputs": [
    {
     "name": "stdout",
     "output_type": "stream",
     "text": [
      "Epoch 1/100\n",
      "6/6 - 1s - loss: 1.2584 - mean_squared_error: 1.2519 - val_loss: 1.1103 - val_mean_squared_error: 1.1038 - 1s/epoch - 247ms/step\n",
      "Epoch 2/100\n",
      "6/6 - 0s - loss: 1.1858 - mean_squared_error: 1.1793 - val_loss: 1.0153 - val_mean_squared_error: 1.0088 - 48ms/epoch - 8ms/step\n",
      "Epoch 3/100\n",
      "6/6 - 0s - loss: 1.0609 - mean_squared_error: 1.0544 - val_loss: 0.9213 - val_mean_squared_error: 0.9147 - 51ms/epoch - 9ms/step\n",
      "Epoch 4/100\n",
      "6/6 - 0s - loss: 0.9667 - mean_squared_error: 0.9602 - val_loss: 0.9240 - val_mean_squared_error: 0.9175 - 42ms/epoch - 7ms/step\n",
      "Epoch 5/100\n",
      "6/6 - 0s - loss: 0.9514 - mean_squared_error: 0.9448 - val_loss: 0.8956 - val_mean_squared_error: 0.8891 - 57ms/epoch - 9ms/step\n",
      "Epoch 6/100\n",
      "6/6 - 0s - loss: 0.9155 - mean_squared_error: 0.9090 - val_loss: 0.8457 - val_mean_squared_error: 0.8393 - 48ms/epoch - 8ms/step\n",
      "Epoch 7/100\n",
      "6/6 - 0s - loss: 0.8843 - mean_squared_error: 0.8779 - val_loss: 0.8205 - val_mean_squared_error: 0.8140 - 52ms/epoch - 9ms/step\n",
      "Epoch 8/100\n",
      "6/6 - 0s - loss: 0.8499 - mean_squared_error: 0.8435 - val_loss: 0.7977 - val_mean_squared_error: 0.7912 - 50ms/epoch - 8ms/step\n",
      "Epoch 9/100\n",
      "6/6 - 0s - loss: 0.8284 - mean_squared_error: 0.8220 - val_loss: 0.7853 - val_mean_squared_error: 0.7789 - 41ms/epoch - 7ms/step\n",
      "Epoch 10/100\n",
      "6/6 - 0s - loss: 0.8141 - mean_squared_error: 0.8077 - val_loss: 0.7677 - val_mean_squared_error: 0.7613 - 54ms/epoch - 9ms/step\n",
      "Epoch 11/100\n",
      "6/6 - 0s - loss: 0.8092 - mean_squared_error: 0.8029 - val_loss: 0.7654 - val_mean_squared_error: 0.7590 - 53ms/epoch - 9ms/step\n",
      "Epoch 12/100\n",
      "6/6 - 0s - loss: 0.8006 - mean_squared_error: 0.7943 - val_loss: 0.7740 - val_mean_squared_error: 0.7676 - 40ms/epoch - 7ms/step\n",
      "Epoch 13/100\n",
      "6/6 - 0s - loss: 0.8021 - mean_squared_error: 0.7958 - val_loss: 0.7916 - val_mean_squared_error: 0.7852 - 42ms/epoch - 7ms/step\n",
      "Epoch 14/100\n",
      "6/6 - 0s - loss: 0.8000 - mean_squared_error: 0.7937 - val_loss: 0.7727 - val_mean_squared_error: 0.7664 - 52ms/epoch - 9ms/step\n",
      "Epoch 15/100\n",
      "6/6 - 0s - loss: 0.7994 - mean_squared_error: 0.7931 - val_loss: 0.7648 - val_mean_squared_error: 0.7585 - 56ms/epoch - 9ms/step\n",
      "Epoch 16/100\n",
      "6/6 - 0s - loss: 0.7948 - mean_squared_error: 0.7885 - val_loss: 0.7592 - val_mean_squared_error: 0.7529 - 53ms/epoch - 9ms/step\n",
      "Epoch 17/100\n",
      "6/6 - 0s - loss: 0.7894 - mean_squared_error: 0.7831 - val_loss: 0.7803 - val_mean_squared_error: 0.7740 - 41ms/epoch - 7ms/step\n",
      "Epoch 18/100\n",
      "6/6 - 0s - loss: 0.7862 - mean_squared_error: 0.7800 - val_loss: 0.7849 - val_mean_squared_error: 0.7786 - 48ms/epoch - 8ms/step\n",
      "Epoch 19/100\n",
      "6/6 - 0s - loss: 0.7836 - mean_squared_error: 0.7774 - val_loss: 0.7487 - val_mean_squared_error: 0.7425 - 58ms/epoch - 10ms/step\n",
      "Epoch 20/100\n",
      "6/6 - 0s - loss: 0.7676 - mean_squared_error: 0.7614 - val_loss: 0.7290 - val_mean_squared_error: 0.7228 - 49ms/epoch - 8ms/step\n",
      "Epoch 21/100\n",
      "6/6 - 0s - loss: 0.7490 - mean_squared_error: 0.7428 - val_loss: 0.7424 - val_mean_squared_error: 0.7362 - 47ms/epoch - 8ms/step\n",
      "Epoch 22/100\n",
      "6/6 - 0s - loss: 0.7414 - mean_squared_error: 0.7352 - val_loss: 0.7363 - val_mean_squared_error: 0.7301 - 47ms/epoch - 8ms/step\n",
      "Epoch 23/100\n",
      "6/6 - 0s - loss: 0.7302 - mean_squared_error: 0.7240 - val_loss: 0.7493 - val_mean_squared_error: 0.7431 - 51ms/epoch - 8ms/step\n",
      "Epoch 24/100\n",
      "6/6 - 0s - loss: 0.7445 - mean_squared_error: 0.7383 - val_loss: 0.7380 - val_mean_squared_error: 0.7317 - 53ms/epoch - 9ms/step\n",
      "Epoch 25/100\n",
      "6/6 - 0s - loss: 0.7310 - mean_squared_error: 0.7248 - val_loss: 0.7174 - val_mean_squared_error: 0.7112 - 40ms/epoch - 7ms/step\n",
      "Epoch 26/100\n",
      "6/6 - 0s - loss: 0.7360 - mean_squared_error: 0.7298 - val_loss: 0.7173 - val_mean_squared_error: 0.7111 - 60ms/epoch - 10ms/step\n",
      "Epoch 27/100\n",
      "6/6 - 0s - loss: 0.7215 - mean_squared_error: 0.7153 - val_loss: 0.7272 - val_mean_squared_error: 0.7211 - 48ms/epoch - 8ms/step\n",
      "Epoch 28/100\n",
      "6/6 - 0s - loss: 0.7449 - mean_squared_error: 0.7387 - val_loss: 0.7393 - val_mean_squared_error: 0.7332 - 53ms/epoch - 9ms/step\n",
      "Epoch 29/100\n",
      "6/6 - 0s - loss: 0.7323 - mean_squared_error: 0.7261 - val_loss: 0.7108 - val_mean_squared_error: 0.7047 - 54ms/epoch - 9ms/step\n",
      "Epoch 30/100\n",
      "6/6 - 0s - loss: 0.7170 - mean_squared_error: 0.7109 - val_loss: 0.7024 - val_mean_squared_error: 0.6963 - 60ms/epoch - 10ms/step\n",
      "Epoch 31/100\n",
      "6/6 - 0s - loss: 0.7126 - mean_squared_error: 0.7065 - val_loss: 0.7201 - val_mean_squared_error: 0.7140 - 51ms/epoch - 9ms/step\n",
      "Epoch 32/100\n",
      "6/6 - 0s - loss: 0.7170 - mean_squared_error: 0.7108 - val_loss: 0.7074 - val_mean_squared_error: 0.7013 - 40ms/epoch - 7ms/step\n",
      "Epoch 33/100\n",
      "6/6 - 0s - loss: 0.7201 - mean_squared_error: 0.7140 - val_loss: 0.7035 - val_mean_squared_error: 0.6974 - 40ms/epoch - 7ms/step\n",
      "Epoch 34/100\n",
      "6/6 - 0s - loss: 0.7097 - mean_squared_error: 0.7036 - val_loss: 0.7138 - val_mean_squared_error: 0.7078 - 59ms/epoch - 10ms/step\n",
      "Epoch 35/100\n",
      "6/6 - 0s - loss: 0.7068 - mean_squared_error: 0.7007 - val_loss: 0.6948 - val_mean_squared_error: 0.6888 - 49ms/epoch - 8ms/step\n",
      "Epoch 36/100\n",
      "6/6 - 0s - loss: 0.6987 - mean_squared_error: 0.6927 - val_loss: 0.6950 - val_mean_squared_error: 0.6889 - 48ms/epoch - 8ms/step\n",
      "Epoch 37/100\n",
      "6/6 - 0s - loss: 0.6941 - mean_squared_error: 0.6881 - val_loss: 0.7039 - val_mean_squared_error: 0.6978 - 48ms/epoch - 8ms/step\n",
      "Epoch 38/100\n",
      "6/6 - 0s - loss: 0.7012 - mean_squared_error: 0.6951 - val_loss: 0.6886 - val_mean_squared_error: 0.6825 - 48ms/epoch - 8ms/step\n",
      "Epoch 39/100\n",
      "6/6 - 0s - loss: 0.7166 - mean_squared_error: 0.7106 - val_loss: 0.6805 - val_mean_squared_error: 0.6745 - 50ms/epoch - 8ms/step\n",
      "Epoch 40/100\n",
      "6/6 - 0s - loss: 0.7043 - mean_squared_error: 0.6983 - val_loss: 0.6936 - val_mean_squared_error: 0.6875 - 47ms/epoch - 8ms/step\n",
      "Epoch 41/100\n",
      "6/6 - 0s - loss: 0.7187 - mean_squared_error: 0.7126 - val_loss: 0.6993 - val_mean_squared_error: 0.6933 - 39ms/epoch - 6ms/step\n",
      "Epoch 42/100\n",
      "6/6 - 0s - loss: 0.7105 - mean_squared_error: 0.7045 - val_loss: 0.7093 - val_mean_squared_error: 0.7032 - 48ms/epoch - 8ms/step\n",
      "Epoch 43/100\n",
      "6/6 - 0s - loss: 0.7026 - mean_squared_error: 0.6966 - val_loss: 0.6841 - val_mean_squared_error: 0.6781 - 47ms/epoch - 8ms/step\n",
      "Epoch 44/100\n",
      "6/6 - 0s - loss: 0.7183 - mean_squared_error: 0.7123 - val_loss: 0.6711 - val_mean_squared_error: 0.6651 - 49ms/epoch - 8ms/step\n",
      "Epoch 45/100\n",
      "6/6 - 0s - loss: 0.7113 - mean_squared_error: 0.7052 - val_loss: 0.6922 - val_mean_squared_error: 0.6862 - 47ms/epoch - 8ms/step\n",
      "Epoch 46/100\n",
      "6/6 - 0s - loss: 0.7064 - mean_squared_error: 0.7004 - val_loss: 0.6986 - val_mean_squared_error: 0.6926 - 48ms/epoch - 8ms/step\n",
      "Epoch 47/100\n",
      "6/6 - 0s - loss: 0.6967 - mean_squared_error: 0.6907 - val_loss: 0.7008 - val_mean_squared_error: 0.6948 - 47ms/epoch - 8ms/step\n",
      "Epoch 48/100\n",
      "6/6 - 0s - loss: 0.6837 - mean_squared_error: 0.6777 - val_loss: 0.6643 - val_mean_squared_error: 0.6583 - 48ms/epoch - 8ms/step\n",
      "Epoch 49/100\n",
      "6/6 - 0s - loss: 0.6851 - mean_squared_error: 0.6791 - val_loss: 0.6656 - val_mean_squared_error: 0.6596 - 47ms/epoch - 8ms/step\n",
      "Epoch 50/100\n",
      "6/6 - 0s - loss: 0.6858 - mean_squared_error: 0.6799 - val_loss: 0.6659 - val_mean_squared_error: 0.6600 - 45ms/epoch - 8ms/step\n",
      "Epoch 51/100\n",
      "6/6 - 0s - loss: 0.7083 - mean_squared_error: 0.7023 - val_loss: 0.6583 - val_mean_squared_error: 0.6523 - 53ms/epoch - 9ms/step\n",
      "Epoch 52/100\n",
      "6/6 - 0s - loss: 0.6905 - mean_squared_error: 0.6846 - val_loss: 0.6621 - val_mean_squared_error: 0.6561 - 48ms/epoch - 8ms/step\n",
      "Epoch 53/100\n",
      "6/6 - 0s - loss: 0.7076 - mean_squared_error: 0.7017 - val_loss: 0.7200 - val_mean_squared_error: 0.7141 - 57ms/epoch - 10ms/step\n",
      "Epoch 54/100\n",
      "6/6 - 0s - loss: 0.7121 - mean_squared_error: 0.7062 - val_loss: 0.7034 - val_mean_squared_error: 0.6974 - 49ms/epoch - 8ms/step\n",
      "Epoch 55/100\n",
      "6/6 - 0s - loss: 0.6898 - mean_squared_error: 0.6838 - val_loss: 0.7086 - val_mean_squared_error: 0.7026 - 49ms/epoch - 8ms/step\n",
      "Epoch 56/100\n",
      "6/6 - 0s - loss: 0.7079 - mean_squared_error: 0.7020 - val_loss: 0.6982 - val_mean_squared_error: 0.6923 - 49ms/epoch - 8ms/step\n",
      "Epoch 57/100\n",
      "6/6 - 0s - loss: 0.6985 - mean_squared_error: 0.6926 - val_loss: 0.7190 - val_mean_squared_error: 0.7131 - 45ms/epoch - 8ms/step\n",
      "Epoch 58/100\n",
      "6/6 - 0s - loss: 0.6983 - mean_squared_error: 0.6924 - val_loss: 0.6847 - val_mean_squared_error: 0.6788 - 53ms/epoch - 9ms/step\n",
      "Epoch 59/100\n",
      "6/6 - 0s - loss: 0.6869 - mean_squared_error: 0.6810 - val_loss: 0.6695 - val_mean_squared_error: 0.6636 - 41ms/epoch - 7ms/step\n",
      "Epoch 60/100\n",
      "6/6 - 0s - loss: 0.6950 - mean_squared_error: 0.6891 - val_loss: 0.6686 - val_mean_squared_error: 0.6627 - 54ms/epoch - 9ms/step\n",
      "Epoch 61/100\n",
      "6/6 - 0s - loss: 0.6861 - mean_squared_error: 0.6803 - val_loss: 0.6695 - val_mean_squared_error: 0.6636 - 48ms/epoch - 8ms/step\n",
      "Epoch 62/100\n",
      "6/6 - 0s - loss: 0.6786 - mean_squared_error: 0.6727 - val_loss: 0.6802 - val_mean_squared_error: 0.6744 - 49ms/epoch - 8ms/step\n",
      "Epoch 63/100\n",
      "6/6 - 0s - loss: 0.6875 - mean_squared_error: 0.6816 - val_loss: 0.7046 - val_mean_squared_error: 0.6987 - 46ms/epoch - 8ms/step\n",
      "Epoch 64/100\n",
      "6/6 - 0s - loss: 0.6709 - mean_squared_error: 0.6651 - val_loss: 0.6752 - val_mean_squared_error: 0.6693 - 46ms/epoch - 8ms/step\n",
      "Epoch 65/100\n",
      "6/6 - 0s - loss: 0.6754 - mean_squared_error: 0.6695 - val_loss: 0.6682 - val_mean_squared_error: 0.6624 - 47ms/epoch - 8ms/step\n",
      "Epoch 66/100\n",
      "6/6 - 0s - loss: 0.6927 - mean_squared_error: 0.6868 - val_loss: 0.6680 - val_mean_squared_error: 0.6622 - 48ms/epoch - 8ms/step\n",
      "Epoch 67/100\n",
      "6/6 - 0s - loss: 0.6814 - mean_squared_error: 0.6755 - val_loss: 0.7169 - val_mean_squared_error: 0.7111 - 51ms/epoch - 9ms/step\n",
      "Epoch 68/100\n",
      "6/6 - 0s - loss: 0.6908 - mean_squared_error: 0.6850 - val_loss: 0.6991 - val_mean_squared_error: 0.6933 - 48ms/epoch - 8ms/step\n",
      "Epoch 69/100\n",
      "6/6 - 0s - loss: 0.6683 - mean_squared_error: 0.6624 - val_loss: 0.6763 - val_mean_squared_error: 0.6704 - 49ms/epoch - 8ms/step\n",
      "Epoch 70/100\n",
      "6/6 - 0s - loss: 0.6803 - mean_squared_error: 0.6744 - val_loss: 0.6650 - val_mean_squared_error: 0.6592 - 40ms/epoch - 7ms/step\n",
      "Epoch 71/100\n",
      "6/6 - 0s - loss: 0.6807 - mean_squared_error: 0.6748 - val_loss: 0.6645 - val_mean_squared_error: 0.6586 - 58ms/epoch - 10ms/step\n",
      "Epoch 72/100\n",
      "6/6 - 0s - loss: 0.6800 - mean_squared_error: 0.6741 - val_loss: 0.6668 - val_mean_squared_error: 0.6610 - 44ms/epoch - 7ms/step\n",
      "Epoch 73/100\n",
      "6/6 - 0s - loss: 0.6785 - mean_squared_error: 0.6727 - val_loss: 0.6727 - val_mean_squared_error: 0.6669 - 54ms/epoch - 9ms/step\n",
      "Epoch 74/100\n",
      "6/6 - 0s - loss: 0.6966 - mean_squared_error: 0.6908 - val_loss: 0.6624 - val_mean_squared_error: 0.6566 - 47ms/epoch - 8ms/step\n",
      "Epoch 75/100\n",
      "6/6 - 0s - loss: 0.6931 - mean_squared_error: 0.6873 - val_loss: 0.6638 - val_mean_squared_error: 0.6580 - 47ms/epoch - 8ms/step\n",
      "Epoch 76/100\n",
      "6/6 - 0s - loss: 0.6773 - mean_squared_error: 0.6715 - val_loss: 0.7024 - val_mean_squared_error: 0.6966 - 48ms/epoch - 8ms/step\n",
      "Epoch 77/100\n",
      "6/6 - 0s - loss: 0.6752 - mean_squared_error: 0.6694 - val_loss: 0.6889 - val_mean_squared_error: 0.6831 - 47ms/epoch - 8ms/step\n",
      "Epoch 78/100\n",
      "6/6 - 0s - loss: 0.6841 - mean_squared_error: 0.6783 - val_loss: 0.6966 - val_mean_squared_error: 0.6908 - 47ms/epoch - 8ms/step\n",
      "Epoch 79/100\n",
      "6/6 - 0s - loss: 0.6718 - mean_squared_error: 0.6660 - val_loss: 0.7282 - val_mean_squared_error: 0.7224 - 47ms/epoch - 8ms/step\n",
      "Epoch 80/100\n",
      "6/6 - 0s - loss: 0.6754 - mean_squared_error: 0.6696 - val_loss: 0.7262 - val_mean_squared_error: 0.7204 - 49ms/epoch - 8ms/step\n",
      "Epoch 81/100\n",
      "6/6 - 0s - loss: 0.6771 - mean_squared_error: 0.6713 - val_loss: 0.6867 - val_mean_squared_error: 0.6809 - 48ms/epoch - 8ms/step\n",
      "Epoch 82/100\n",
      "6/6 - 0s - loss: 0.6664 - mean_squared_error: 0.6606 - val_loss: 0.7136 - val_mean_squared_error: 0.7079 - 48ms/epoch - 8ms/step\n",
      "Epoch 83/100\n",
      "6/6 - 0s - loss: 0.6695 - mean_squared_error: 0.6637 - val_loss: 0.7257 - val_mean_squared_error: 0.7199 - 48ms/epoch - 8ms/step\n",
      "Epoch 84/100\n",
      "6/6 - 0s - loss: 0.6779 - mean_squared_error: 0.6721 - val_loss: 0.7224 - val_mean_squared_error: 0.7166 - 47ms/epoch - 8ms/step\n",
      "Epoch 85/100\n",
      "6/6 - 0s - loss: 0.6908 - mean_squared_error: 0.6850 - val_loss: 0.6919 - val_mean_squared_error: 0.6862 - 43ms/epoch - 7ms/step\n",
      "Epoch 86/100\n",
      "6/6 - 0s - loss: 0.6783 - mean_squared_error: 0.6725 - val_loss: 0.7321 - val_mean_squared_error: 0.7263 - 54ms/epoch - 9ms/step\n",
      "Epoch 87/100\n",
      "6/6 - 0s - loss: 0.6817 - mean_squared_error: 0.6760 - val_loss: 0.7294 - val_mean_squared_error: 0.7236 - 51ms/epoch - 9ms/step\n",
      "Epoch 88/100\n",
      "6/6 - 0s - loss: 0.7034 - mean_squared_error: 0.6976 - val_loss: 0.7409 - val_mean_squared_error: 0.7351 - 53ms/epoch - 9ms/step\n",
      "Epoch 89/100\n",
      "6/6 - 0s - loss: 0.6593 - mean_squared_error: 0.6536 - val_loss: 0.7439 - val_mean_squared_error: 0.7381 - 53ms/epoch - 9ms/step\n",
      "Epoch 90/100\n",
      "6/6 - 0s - loss: 0.6603 - mean_squared_error: 0.6546 - val_loss: 0.7401 - val_mean_squared_error: 0.7343 - 51ms/epoch - 9ms/step\n",
      "Epoch 91/100\n",
      "6/6 - 0s - loss: 0.6667 - mean_squared_error: 0.6610 - val_loss: 0.7473 - val_mean_squared_error: 0.7416 - 46ms/epoch - 8ms/step\n",
      "Epoch 92/100\n",
      "6/6 - 0s - loss: 0.6652 - mean_squared_error: 0.6595 - val_loss: 0.7424 - val_mean_squared_error: 0.7367 - 48ms/epoch - 8ms/step\n",
      "Epoch 93/100\n",
      "6/6 - 0s - loss: 0.6613 - mean_squared_error: 0.6555 - val_loss: 0.7404 - val_mean_squared_error: 0.7346 - 55ms/epoch - 9ms/step\n",
      "Epoch 94/100\n",
      "6/6 - 0s - loss: 0.6672 - mean_squared_error: 0.6615 - val_loss: 0.7343 - val_mean_squared_error: 0.7285 - 61ms/epoch - 10ms/step\n",
      "Epoch 95/100\n",
      "6/6 - 0s - loss: 0.6560 - mean_squared_error: 0.6502 - val_loss: 0.7284 - val_mean_squared_error: 0.7227 - 50ms/epoch - 8ms/step\n",
      "Epoch 96/100\n",
      "6/6 - 0s - loss: 0.6579 - mean_squared_error: 0.6522 - val_loss: 0.7340 - val_mean_squared_error: 0.7283 - 55ms/epoch - 9ms/step\n",
      "Epoch 97/100\n",
      "6/6 - 0s - loss: 0.6499 - mean_squared_error: 0.6442 - val_loss: 0.7348 - val_mean_squared_error: 0.7291 - 44ms/epoch - 7ms/step\n",
      "Epoch 98/100\n",
      "6/6 - 0s - loss: 0.6779 - mean_squared_error: 0.6721 - val_loss: 0.7281 - val_mean_squared_error: 0.7224 - 46ms/epoch - 8ms/step\n",
      "Epoch 99/100\n",
      "6/6 - 0s - loss: 0.6685 - mean_squared_error: 0.6628 - val_loss: 0.7347 - val_mean_squared_error: 0.7290 - 48ms/epoch - 8ms/step\n",
      "Epoch 100/100\n",
      "6/6 - 0s - loss: 0.6984 - mean_squared_error: 0.6927 - val_loss: 0.7299 - val_mean_squared_error: 0.7242 - 44ms/epoch - 7ms/step\n"
     ]
    }
   ],
   "source": [
    "history = model.fit(train_data, train_targets, epochs=100, validation_split=0.15, batch_size=64, verbose=2)"
   ]
  },
  {
   "cell_type": "code",
   "execution_count": 22,
   "metadata": {},
   "outputs": [
    {
     "name": "stdout",
     "output_type": "stream",
     "text": [
      "2/2 - 0s - loss: 0.8040 - mean_squared_error: 0.7983 - 15ms/epoch - 7ms/step\n"
     ]
    },
    {
     "data": {
      "text/plain": [
       "[0.803987979888916, 0.798266589641571]"
      ]
     },
     "execution_count": 22,
     "metadata": {},
     "output_type": "execute_result"
    }
   ],
   "source": [
    "model.evaluate(test_data, test_targets, verbose=2)\n"
   ]
  },
  {
   "cell_type": "code",
   "execution_count": 23,
   "metadata": {},
   "outputs": [
    {
     "data": {
      "image/png": "[encoded data removed]",
      "text/plain": [
       "<Figure size 432x288 with 1 Axes>"
      ]
     },
     "metadata": {
      "needs_background": "light"
     },
     "output_type": "display_data"
    }
   ],
   "source": [
    "plt.plot(history.history['loss'])\n",
    "plt.plot(history.history['val_loss'])\n",
    "plt.title('Loss vs. epochs')\n",
    "plt.ylabel('Loss')\n",
    "plt.xlabel('Epoch')\n",
    "plt.legend(['Training', 'Validation'], loc='upper right')\n",
    "plt.show()"
   ]
  },
  {
   "cell_type": "markdown",
   "metadata": {},
   "source": [
    "### Normalização por lote"
   ]
  },
  {
   "cell_type": "code",
   "execution_count": 24,
   "metadata": {},
   "outputs": [],
   "source": [
    "from tensorflow.keras.models import Sequential\n",
    "from tensorflow.keras.layers import Flatten, Dense, Conv2D, MaxPooling2D, BatchNormalization, Dropout"
   ]
  },
  {
   "cell_type": "code",
   "execution_count": 25,
   "metadata": {},
   "outputs": [],
   "source": [
    "#Criando o modelo\n",
    "def get_batch_model():\n",
    "    model = Sequential([\n",
    "    Dense(64, input_shape=[train_data.shape[1],], activation=\"relu\"),\n",
    "    BatchNormalization(),  # Camada com o lote de normalização\n",
    "    Dropout(0.5),\n",
    "    BatchNormalization(),  # Camada com o lote de normalização\n",
    "    Dropout(0.5),\n",
    "    Dense(256, activation='relu'),\n",
    " \n",
    "])\n",
    "    \n",
    "    return model"
   ]
  },
  {
   "cell_type": "code",
   "execution_count": 26,
   "metadata": {},
   "outputs": [],
   "source": [
    "model = get_batch_model()"
   ]
  },
  {
   "cell_type": "code",
   "execution_count": 27,
   "metadata": {},
   "outputs": [
    {
     "name": "stdout",
     "output_type": "stream",
     "text": [
      "Model: \"sequential_2\"\n",
      "_________________________________________________________________\n",
      " Layer (type)                Output Shape              Param #   \n",
      "=================================================================\n",
      " dense_14 (Dense)            (None, 64)                704       \n",
      "                                                                 \n",
      " batch_normalization (BatchN  (None, 64)               256       \n",
      " ormalization)                                                   \n",
      "                                                                 \n",
      " dropout_6 (Dropout)         (None, 64)                0         \n",
      "                                                                 \n",
      " batch_normalization_1 (Batc  (None, 64)               256       \n",
      " hNormalization)                                                 \n",
      "                                                                 \n",
      " dropout_7 (Dropout)         (None, 64)                0         \n",
      "                                                                 \n",
      " dense_15 (Dense)            (None, 256)               16640     \n",
      "                                                                 \n",
      "=================================================================\n",
      "Total params: 17,856\n",
      "Trainable params: 17,600\n",
      "Non-trainable params: 256\n",
      "_________________________________________________________________\n"
     ]
    }
   ],
   "source": [
    "model.summary()"
   ]
  },
  {
   "cell_type": "code",
   "execution_count": 28,
   "metadata": {},
   "outputs": [],
   "source": [
    "#Definindo as configurações do lote\n",
    "model.add(tf.keras.layers.BatchNormalization(\n",
    "    momentum=0.95,\n",
    "    epsilon=0.005,\n",
    "    axis=-1,\n",
    "    beta_initializer=tf.initializers.RandomNormal(mean=0.0, stddev=0.05),\n",
    "    gamma_initializer=tf.keras.initializers.Constant(value=0.5)\n",
    "))"
   ]
  },
  {
   "cell_type": "code",
   "execution_count": 29,
   "metadata": {},
   "outputs": [],
   "source": [
    "model.add(Dense(1, activation='sigmoid'))"
   ]
  },
  {
   "cell_type": "code",
   "execution_count": 30,
   "metadata": {},
   "outputs": [],
   "source": [
    "opt = tf.keras.optimizers.Adam()\n",
    "\n",
    "model.compile(\n",
    "    optimizer=opt,\n",
    "    loss='mse',\n",
    "    metrics=['mse']\n",
    ")"
   ]
  },
  {
   "cell_type": "code",
   "execution_count": 31,
   "metadata": {},
   "outputs": [
    {
     "name": "stdout",
     "output_type": "stream",
     "text": [
      "Epoch 1/100\n",
      "6/6 - 2s - loss: 1.1805 - mse: 1.1805 - val_loss: 1.0964 - val_mse: 1.0964 - 2s/epoch - 262ms/step\n",
      "Epoch 2/100\n",
      "6/6 - 0s - loss: 0.9829 - mse: 0.9829 - val_loss: 1.0677 - val_mse: 1.0677 - 44ms/epoch - 7ms/step\n",
      "Epoch 3/100\n",
      "6/6 - 0s - loss: 0.9351 - mse: 0.9351 - val_loss: 1.0341 - val_mse: 1.0341 - 40ms/epoch - 7ms/step\n",
      "Epoch 4/100\n",
      "6/6 - 0s - loss: 0.8988 - mse: 0.8988 - val_loss: 1.0040 - val_mse: 1.0040 - 38ms/epoch - 6ms/step\n",
      "Epoch 5/100\n",
      "6/6 - 0s - loss: 0.8922 - mse: 0.8922 - val_loss: 0.9791 - val_mse: 0.9791 - 39ms/epoch - 7ms/step\n",
      "Epoch 6/100\n",
      "6/6 - 0s - loss: 0.8664 - mse: 0.8664 - val_loss: 0.9617 - val_mse: 0.9617 - 46ms/epoch - 8ms/step\n",
      "Epoch 7/100\n",
      "6/6 - 0s - loss: 0.8349 - mse: 0.8349 - val_loss: 0.9517 - val_mse: 0.9517 - 40ms/epoch - 7ms/step\n",
      "Epoch 8/100\n",
      "6/6 - 0s - loss: 0.8210 - mse: 0.8210 - val_loss: 0.9451 - val_mse: 0.9451 - 38ms/epoch - 6ms/step\n",
      "Epoch 9/100\n",
      "6/6 - 0s - loss: 0.8081 - mse: 0.8081 - val_loss: 0.9400 - val_mse: 0.9400 - 40ms/epoch - 7ms/step\n",
      "Epoch 10/100\n",
      "6/6 - 0s - loss: 0.8082 - mse: 0.8082 - val_loss: 0.9372 - val_mse: 0.9372 - 38ms/epoch - 6ms/step\n",
      "Epoch 11/100\n",
      "6/6 - 0s - loss: 0.8010 - mse: 0.8010 - val_loss: 0.9347 - val_mse: 0.9347 - 43ms/epoch - 7ms/step\n",
      "Epoch 12/100\n",
      "6/6 - 0s - loss: 0.7959 - mse: 0.7959 - val_loss: 0.9330 - val_mse: 0.9330 - 35ms/epoch - 6ms/step\n",
      "Epoch 13/100\n",
      "6/6 - 0s - loss: 0.7699 - mse: 0.7699 - val_loss: 0.9323 - val_mse: 0.9323 - 42ms/epoch - 7ms/step\n",
      "Epoch 14/100\n",
      "6/6 - 0s - loss: 0.7836 - mse: 0.7836 - val_loss: 0.9312 - val_mse: 0.9312 - 43ms/epoch - 7ms/step\n",
      "Epoch 15/100\n",
      "6/6 - 0s - loss: 0.7864 - mse: 0.7864 - val_loss: 0.9299 - val_mse: 0.9299 - 34ms/epoch - 6ms/step\n",
      "Epoch 16/100\n",
      "6/6 - 0s - loss: 0.7489 - mse: 0.7489 - val_loss: 0.9288 - val_mse: 0.9288 - 46ms/epoch - 8ms/step\n",
      "Epoch 17/100\n",
      "6/6 - 0s - loss: 0.7522 - mse: 0.7522 - val_loss: 0.9284 - val_mse: 0.9284 - 33ms/epoch - 5ms/step\n",
      "Epoch 18/100\n",
      "6/6 - 0s - loss: 0.7509 - mse: 0.7509 - val_loss: 0.9281 - val_mse: 0.9281 - 39ms/epoch - 7ms/step\n",
      "Epoch 19/100\n",
      "6/6 - 0s - loss: 0.7764 - mse: 0.7764 - val_loss: 0.9282 - val_mse: 0.9282 - 47ms/epoch - 8ms/step\n",
      "Epoch 20/100\n",
      "6/6 - 0s - loss: 0.7416 - mse: 0.7416 - val_loss: 0.9284 - val_mse: 0.9284 - 43ms/epoch - 7ms/step\n",
      "Epoch 21/100\n",
      "6/6 - 0s - loss: 0.7556 - mse: 0.7556 - val_loss: 0.9285 - val_mse: 0.9285 - 38ms/epoch - 6ms/step\n",
      "Epoch 22/100\n",
      "6/6 - 0s - loss: 0.7323 - mse: 0.7323 - val_loss: 0.9283 - val_mse: 0.9283 - 44ms/epoch - 7ms/step\n",
      "Epoch 23/100\n",
      "6/6 - 0s - loss: 0.7373 - mse: 0.7373 - val_loss: 0.9272 - val_mse: 0.9272 - 38ms/epoch - 6ms/step\n",
      "Epoch 24/100\n",
      "6/6 - 0s - loss: 0.7591 - mse: 0.7591 - val_loss: 0.9269 - val_mse: 0.9269 - 41ms/epoch - 7ms/step\n",
      "Epoch 25/100\n",
      "6/6 - 0s - loss: 0.7288 - mse: 0.7288 - val_loss: 0.9261 - val_mse: 0.9261 - 37ms/epoch - 6ms/step\n",
      "Epoch 26/100\n",
      "6/6 - 0s - loss: 0.7692 - mse: 0.7692 - val_loss: 0.9262 - val_mse: 0.9262 - 49ms/epoch - 8ms/step\n",
      "Epoch 27/100\n",
      "6/6 - 0s - loss: 0.7611 - mse: 0.7611 - val_loss: 0.9257 - val_mse: 0.9257 - 39ms/epoch - 7ms/step\n",
      "Epoch 28/100\n",
      "6/6 - 0s - loss: 0.7659 - mse: 0.7659 - val_loss: 0.9254 - val_mse: 0.9254 - 35ms/epoch - 6ms/step\n",
      "Epoch 29/100\n",
      "6/6 - 0s - loss: 0.7578 - mse: 0.7578 - val_loss: 0.9251 - val_mse: 0.9251 - 45ms/epoch - 7ms/step\n",
      "Epoch 30/100\n",
      "6/6 - 0s - loss: 0.7276 - mse: 0.7276 - val_loss: 0.9249 - val_mse: 0.9249 - 33ms/epoch - 5ms/step\n",
      "Epoch 31/100\n",
      "6/6 - 0s - loss: 0.7856 - mse: 0.7856 - val_loss: 0.9236 - val_mse: 0.9236 - 67ms/epoch - 11ms/step\n",
      "Epoch 32/100\n",
      "6/6 - 0s - loss: 0.7198 - mse: 0.7198 - val_loss: 0.9231 - val_mse: 0.9231 - 31ms/epoch - 5ms/step\n",
      "Epoch 33/100\n",
      "6/6 - 0s - loss: 0.7398 - mse: 0.7398 - val_loss: 0.9221 - val_mse: 0.9221 - 56ms/epoch - 9ms/step\n",
      "Epoch 34/100\n",
      "6/6 - 0s - loss: 0.7381 - mse: 0.7381 - val_loss: 0.9217 - val_mse: 0.9217 - 32ms/epoch - 5ms/step\n",
      "Epoch 35/100\n",
      "6/6 - 0s - loss: 0.7357 - mse: 0.7357 - val_loss: 0.9203 - val_mse: 0.9203 - 47ms/epoch - 8ms/step\n",
      "Epoch 36/100\n",
      "6/6 - 0s - loss: 0.7180 - mse: 0.7180 - val_loss: 0.9191 - val_mse: 0.9191 - 39ms/epoch - 7ms/step\n",
      "Epoch 37/100\n",
      "6/6 - 0s - loss: 0.7483 - mse: 0.7483 - val_loss: 0.9202 - val_mse: 0.9202 - 32ms/epoch - 5ms/step\n",
      "Epoch 38/100\n",
      "6/6 - 0s - loss: 0.7544 - mse: 0.7544 - val_loss: 0.9195 - val_mse: 0.9195 - 28ms/epoch - 5ms/step\n",
      "Epoch 39/100\n",
      "6/6 - 0s - loss: 0.7438 - mse: 0.7438 - val_loss: 0.9176 - val_mse: 0.9176 - 48ms/epoch - 8ms/step\n",
      "Epoch 40/100\n",
      "6/6 - 0s - loss: 0.7528 - mse: 0.7528 - val_loss: 0.9149 - val_mse: 0.9149 - 27ms/epoch - 5ms/step\n",
      "Epoch 41/100\n",
      "6/6 - 0s - loss: 0.7149 - mse: 0.7149 - val_loss: 0.9125 - val_mse: 0.9125 - 39ms/epoch - 7ms/step\n",
      "Epoch 42/100\n",
      "6/6 - 0s - loss: 0.7060 - mse: 0.7060 - val_loss: 0.9089 - val_mse: 0.9089 - 40ms/epoch - 7ms/step\n",
      "Epoch 43/100\n",
      "6/6 - 0s - loss: 0.7273 - mse: 0.7273 - val_loss: 0.9061 - val_mse: 0.9061 - 40ms/epoch - 7ms/step\n",
      "Epoch 44/100\n",
      "6/6 - 0s - loss: 0.7401 - mse: 0.7401 - val_loss: 0.9041 - val_mse: 0.9041 - 43ms/epoch - 7ms/step\n",
      "Epoch 45/100\n",
      "6/6 - 0s - loss: 0.7133 - mse: 0.7133 - val_loss: 0.9019 - val_mse: 0.9019 - 35ms/epoch - 6ms/step\n",
      "Epoch 46/100\n",
      "6/6 - 0s - loss: 0.7367 - mse: 0.7367 - val_loss: 0.8999 - val_mse: 0.8999 - 40ms/epoch - 7ms/step\n",
      "Epoch 47/100\n",
      "6/6 - 0s - loss: 0.7352 - mse: 0.7352 - val_loss: 0.8995 - val_mse: 0.8995 - 42ms/epoch - 7ms/step\n",
      "Epoch 48/100\n",
      "6/6 - 0s - loss: 0.7365 - mse: 0.7365 - val_loss: 0.8972 - val_mse: 0.8972 - 38ms/epoch - 6ms/step\n",
      "Epoch 49/100\n",
      "6/6 - 0s - loss: 0.7328 - mse: 0.7328 - val_loss: 0.8943 - val_mse: 0.8943 - 47ms/epoch - 8ms/step\n",
      "Epoch 50/100\n",
      "6/6 - 0s - loss: 0.7404 - mse: 0.7404 - val_loss: 0.8934 - val_mse: 0.8934 - 31ms/epoch - 5ms/step\n",
      "Epoch 51/100\n",
      "6/6 - 0s - loss: 0.7343 - mse: 0.7343 - val_loss: 0.8905 - val_mse: 0.8905 - 40ms/epoch - 7ms/step\n",
      "Epoch 52/100\n",
      "6/6 - 0s - loss: 0.7229 - mse: 0.7229 - val_loss: 0.8869 - val_mse: 0.8869 - 40ms/epoch - 7ms/step\n",
      "Epoch 53/100\n",
      "6/6 - 0s - loss: 0.7404 - mse: 0.7404 - val_loss: 0.8868 - val_mse: 0.8868 - 40ms/epoch - 7ms/step\n",
      "Epoch 54/100\n",
      "6/6 - 0s - loss: 0.7147 - mse: 0.7147 - val_loss: 0.8866 - val_mse: 0.8866 - 44ms/epoch - 7ms/step\n",
      "Epoch 55/100\n",
      "6/6 - 0s - loss: 0.7204 - mse: 0.7204 - val_loss: 0.8824 - val_mse: 0.8824 - 32ms/epoch - 5ms/step\n",
      "Epoch 56/100\n",
      "6/6 - 0s - loss: 0.7171 - mse: 0.7171 - val_loss: 0.8801 - val_mse: 0.8801 - 37ms/epoch - 6ms/step\n",
      "Epoch 57/100\n",
      "6/6 - 0s - loss: 0.7019 - mse: 0.7019 - val_loss: 0.8769 - val_mse: 0.8769 - 40ms/epoch - 7ms/step\n",
      "Epoch 58/100\n",
      "6/6 - 0s - loss: 0.7141 - mse: 0.7141 - val_loss: 0.8760 - val_mse: 0.8760 - 40ms/epoch - 7ms/step\n",
      "Epoch 59/100\n",
      "6/6 - 0s - loss: 0.7309 - mse: 0.7309 - val_loss: 0.8739 - val_mse: 0.8739 - 44ms/epoch - 7ms/step\n",
      "Epoch 60/100\n",
      "6/6 - 0s - loss: 0.6918 - mse: 0.6918 - val_loss: 0.8639 - val_mse: 0.8639 - 40ms/epoch - 7ms/step\n",
      "Epoch 61/100\n",
      "6/6 - 0s - loss: 0.6945 - mse: 0.6945 - val_loss: 0.8568 - val_mse: 0.8568 - 44ms/epoch - 7ms/step\n",
      "Epoch 62/100\n",
      "6/6 - 0s - loss: 0.6993 - mse: 0.6993 - val_loss: 0.8542 - val_mse: 0.8542 - 46ms/epoch - 8ms/step\n",
      "Epoch 63/100\n",
      "6/6 - 0s - loss: 0.7241 - mse: 0.7241 - val_loss: 0.8501 - val_mse: 0.8501 - 36ms/epoch - 6ms/step\n",
      "Epoch 64/100\n",
      "6/6 - 0s - loss: 0.7180 - mse: 0.7180 - val_loss: 0.8431 - val_mse: 0.8431 - 44ms/epoch - 7ms/step\n",
      "Epoch 65/100\n",
      "6/6 - 0s - loss: 0.7321 - mse: 0.7321 - val_loss: 0.8374 - val_mse: 0.8374 - 34ms/epoch - 6ms/step\n",
      "Epoch 66/100\n",
      "6/6 - 0s - loss: 0.7375 - mse: 0.7375 - val_loss: 0.8257 - val_mse: 0.8257 - 34ms/epoch - 6ms/step\n",
      "Epoch 67/100\n",
      "6/6 - 0s - loss: 0.7339 - mse: 0.7339 - val_loss: 0.8153 - val_mse: 0.8153 - 47ms/epoch - 8ms/step\n",
      "Epoch 68/100\n",
      "6/6 - 0s - loss: 0.7295 - mse: 0.7295 - val_loss: 0.8048 - val_mse: 0.8048 - 31ms/epoch - 5ms/step\n",
      "Epoch 69/100\n",
      "6/6 - 0s - loss: 0.7260 - mse: 0.7260 - val_loss: 0.8062 - val_mse: 0.8062 - 35ms/epoch - 6ms/step\n",
      "Epoch 70/100\n",
      "6/6 - 0s - loss: 0.7374 - mse: 0.7374 - val_loss: 0.8098 - val_mse: 0.8098 - 40ms/epoch - 7ms/step\n",
      "Epoch 71/100\n",
      "6/6 - 0s - loss: 0.7260 - mse: 0.7260 - val_loss: 0.8055 - val_mse: 0.8055 - 34ms/epoch - 6ms/step\n",
      "Epoch 72/100\n",
      "6/6 - 0s - loss: 0.7274 - mse: 0.7274 - val_loss: 0.7994 - val_mse: 0.7994 - 39ms/epoch - 7ms/step\n",
      "Epoch 73/100\n",
      "6/6 - 0s - loss: 0.7080 - mse: 0.7080 - val_loss: 0.7973 - val_mse: 0.7973 - 40ms/epoch - 7ms/step\n",
      "Epoch 74/100\n",
      "6/6 - 0s - loss: 0.7063 - mse: 0.7063 - val_loss: 0.7904 - val_mse: 0.7904 - 41ms/epoch - 7ms/step\n",
      "Epoch 75/100\n",
      "6/6 - 0s - loss: 0.7074 - mse: 0.7074 - val_loss: 0.7836 - val_mse: 0.7836 - 39ms/epoch - 7ms/step\n",
      "Epoch 76/100\n",
      "6/6 - 0s - loss: 0.7189 - mse: 0.7189 - val_loss: 0.7779 - val_mse: 0.7779 - 39ms/epoch - 7ms/step\n",
      "Epoch 77/100\n",
      "6/6 - 0s - loss: 0.7256 - mse: 0.7256 - val_loss: 0.7777 - val_mse: 0.7777 - 40ms/epoch - 7ms/step\n",
      "Epoch 78/100\n",
      "6/6 - 0s - loss: 0.7136 - mse: 0.7136 - val_loss: 0.7721 - val_mse: 0.7721 - 40ms/epoch - 7ms/step\n",
      "Epoch 79/100\n",
      "6/6 - 0s - loss: 0.6844 - mse: 0.6844 - val_loss: 0.7672 - val_mse: 0.7672 - 39ms/epoch - 6ms/step\n",
      "Epoch 80/100\n",
      "6/6 - 0s - loss: 0.7186 - mse: 0.7186 - val_loss: 0.7622 - val_mse: 0.7622 - 42ms/epoch - 7ms/step\n",
      "Epoch 81/100\n",
      "6/6 - 0s - loss: 0.7044 - mse: 0.7044 - val_loss: 0.7592 - val_mse: 0.7592 - 34ms/epoch - 6ms/step\n",
      "Epoch 82/100\n",
      "6/6 - 0s - loss: 0.7101 - mse: 0.7101 - val_loss: 0.7519 - val_mse: 0.7519 - 40ms/epoch - 7ms/step\n",
      "Epoch 83/100\n",
      "6/6 - 0s - loss: 0.6958 - mse: 0.6958 - val_loss: 0.7515 - val_mse: 0.7515 - 47ms/epoch - 8ms/step\n",
      "Epoch 84/100\n",
      "6/6 - 0s - loss: 0.7358 - mse: 0.7358 - val_loss: 0.7524 - val_mse: 0.7524 - 32ms/epoch - 5ms/step\n",
      "Epoch 85/100\n",
      "6/6 - 0s - loss: 0.7061 - mse: 0.7061 - val_loss: 0.7531 - val_mse: 0.7531 - 42ms/epoch - 7ms/step\n",
      "Epoch 86/100\n",
      "6/6 - 0s - loss: 0.7251 - mse: 0.7251 - val_loss: 0.7618 - val_mse: 0.7618 - 41ms/epoch - 7ms/step\n",
      "Epoch 87/100\n",
      "6/6 - 0s - loss: 0.7062 - mse: 0.7062 - val_loss: 0.7614 - val_mse: 0.7614 - 37ms/epoch - 6ms/step\n",
      "Epoch 88/100\n",
      "6/6 - 0s - loss: 0.7157 - mse: 0.7157 - val_loss: 0.7560 - val_mse: 0.7560 - 48ms/epoch - 8ms/step\n",
      "Epoch 89/100\n",
      "6/6 - 0s - loss: 0.7278 - mse: 0.7278 - val_loss: 0.7445 - val_mse: 0.7445 - 30ms/epoch - 5ms/step\n",
      "Epoch 90/100\n",
      "6/6 - 0s - loss: 0.6976 - mse: 0.6976 - val_loss: 0.7373 - val_mse: 0.7373 - 29ms/epoch - 5ms/step\n",
      "Epoch 91/100\n",
      "6/6 - 0s - loss: 0.6962 - mse: 0.6962 - val_loss: 0.7311 - val_mse: 0.7311 - 41ms/epoch - 7ms/step\n",
      "Epoch 92/100\n",
      "6/6 - 0s - loss: 0.7282 - mse: 0.7282 - val_loss: 0.7256 - val_mse: 0.7256 - 39ms/epoch - 7ms/step\n",
      "Epoch 93/100\n",
      "6/6 - 0s - loss: 0.6930 - mse: 0.6930 - val_loss: 0.7221 - val_mse: 0.7221 - 55ms/epoch - 9ms/step\n",
      "Epoch 94/100\n",
      "6/6 - 0s - loss: 0.6943 - mse: 0.6943 - val_loss: 0.7211 - val_mse: 0.7211 - 38ms/epoch - 6ms/step\n",
      "Epoch 95/100\n",
      "6/6 - 0s - loss: 0.6972 - mse: 0.6972 - val_loss: 0.7199 - val_mse: 0.7199 - 45ms/epoch - 7ms/step\n",
      "Epoch 96/100\n",
      "6/6 - 0s - loss: 0.7004 - mse: 0.7004 - val_loss: 0.7178 - val_mse: 0.7178 - 33ms/epoch - 6ms/step\n",
      "Epoch 97/100\n",
      "6/6 - 0s - loss: 0.7170 - mse: 0.7170 - val_loss: 0.7142 - val_mse: 0.7142 - 43ms/epoch - 7ms/step\n",
      "Epoch 98/100\n",
      "6/6 - 0s - loss: 0.6975 - mse: 0.6975 - val_loss: 0.7113 - val_mse: 0.7113 - 42ms/epoch - 7ms/step\n",
      "Epoch 99/100\n",
      "6/6 - 0s - loss: 0.7077 - mse: 0.7077 - val_loss: 0.7079 - val_mse: 0.7079 - 38ms/epoch - 6ms/step\n",
      "Epoch 100/100\n",
      "6/6 - 0s - loss: 0.7018 - mse: 0.7018 - val_loss: 0.7056 - val_mse: 0.7056 - 23ms/epoch - 4ms/step\n"
     ]
    }
   ],
   "source": [
    "history = model.fit(train_data, train_targets, epochs=100, validation_split=0.15, batch_size=64,verbose=2)"
   ]
  },
  {
   "cell_type": "code",
   "execution_count": 32,
   "metadata": {},
   "outputs": [
    {
     "name": "stdout",
     "output_type": "stream",
     "text": [
      "2/2 - 0s - loss: 0.8237 - mse: 0.8237 - 23ms/epoch - 12ms/step\n"
     ]
    },
    {
     "data": {
      "text/plain": [
       "[0.8236560225486755, 0.8236560225486755]"
      ]
     },
     "execution_count": 32,
     "metadata": {},
     "output_type": "execute_result"
    }
   ],
   "source": [
    "model.evaluate(test_data, test_targets, verbose=2)"
   ]
  },
  {
   "cell_type": "code",
   "execution_count": 33,
   "metadata": {},
   "outputs": [
    {
     "data": {
      "text/plain": [
       "<matplotlib.legend.Legend at 0x2148fc69ac0>"
      ]
     },
     "execution_count": 33,
     "metadata": {},
     "output_type": "execute_result"
    },
    {
     "data": {
      "image/png": "[encoded data removed]",
      "text/plain": [
       "<Figure size 864x288 with 2 Axes>"
      ]
     },
     "metadata": {
      "needs_background": "light"
     },
     "output_type": "display_data"
    }
   ],
   "source": [
    "# Criando grafico de Perda e Precisão\n",
    "\n",
    "import pandas as pd\n",
    "import numpy as np\n",
    "import matplotlib.pyplot as plt\n",
    "%matplotlib inline\n",
    "\n",
    "frame = pd.DataFrame(history.history)\n",
    "epochs = np.arange(len(frame))\n",
    "\n",
    "fig = plt.figure(figsize=(12,4))\n",
    "\n",
    "# Perda\n",
    "ax = fig.add_subplot(121)\n",
    "ax.plot(epochs, frame['loss'], label=\"Train\")\n",
    "ax.plot(epochs, frame['val_loss'], label=\"Validation\")\n",
    "ax.set_xlabel(\"Epochs\")\n",
    "ax.set_ylabel(\"Loss\")\n",
    "ax.set_title(\"Loss vs Epochs\")\n",
    "ax.legend()\n",
    "\n",
    "# Precisão\n",
    "ax = fig.add_subplot(122)\n",
    "ax.plot(epochs, frame['mse'], label=\"Train\")\n",
    "ax.plot(epochs, frame['val_mse'], label=\"Validation\")\n",
    "ax.set_xlabel(\"Epochs\")\n",
    "ax.set_ylabel(\"Mean Absolute Error\")\n",
    "ax.set_title(\"Mean Absolute Error vs Epochs\")\n",
    "ax.legend()"
   ]
  },
  {
   "cell_type": "markdown",
   "metadata": {},
   "source": [
    "### Aprendendo a utilizar Callbacks simples"
   ]
  },
  {
   "cell_type": "code",
   "execution_count": 34,
   "metadata": {},
   "outputs": [],
   "source": [
    "from tensorflow.keras.callbacks import Callback"
   ]
  },
  {
   "cell_type": "code",
   "execution_count": 35,
   "metadata": {},
   "outputs": [],
   "source": [
    "#Exemplo de callback de treinamento\n",
    "\n",
    "class TrainingCallback(Callback):\n",
    "\n",
    "  def on_train_begin(self, log=None):\n",
    "    print(\"Começando o Treinamento...\")\n",
    "\n",
    "  def on_epoch_begin(self, epoch, logs=None):\n",
    "    print(f\"Começando as epoch {epoch} \")\n",
    "\n",
    "  def on_train_batch_begin(self, batch, logs=None):\n",
    "    print(f\"Treinamento: Comçando batch {batch}\")\n",
    "\n",
    "  def on_train_batch_end(self, batch, logs=None):\n",
    "    print(f\"Treinamento: Terminando batch {batch}\")\n",
    "\n",
    "  def on_epoch_end(self, epoch, logs=None):\n",
    "    print(f\"Terminando epoch {epoch}\")\n",
    "\n",
    "  def on_train_end(self, logs=None):\n",
    "    print(\"Terminando treinamento!\")"
   ]
  },
  {
   "cell_type": "code",
   "execution_count": 36,
   "metadata": {},
   "outputs": [],
   "source": [
    "#Exemplos de Callbacks de teste\n",
    "\n",
    "class TestCallback(Callback):\n",
    "    \n",
    "    def on_test_begin(self, logs=None):\n",
    "        print(\"Começando o teste...\")\n",
    "\n",
    "    def on_test_batch_begin(self, batch, logs=None):\n",
    "        print(f\"Teste: Começando batch {batch}\")\n",
    "\n",
    "    def on_test_batch_end(self, batch, logs=None):\n",
    "        print(f\"Teste: Terminando batch {batch}\")  \n",
    "\n",
    "    def on_test_end(self, logs=None):\n",
    "        print(\"Terminando treinamento!\")     "
   ]
  },
  {
   "cell_type": "code",
   "execution_count": 37,
   "metadata": {},
   "outputs": [],
   "source": [
    "#Exemplo de Callback de Previsão\n",
    "\n",
    "class PredictionCallback(Callback):\n",
    "    \n",
    "    def on_predict_begin(self, logs=None):\n",
    "        print(\"Começando previão...\")\n",
    "\n",
    "    def on_predict_batch_begin(self, batch, logs=None):\n",
    "        print(f\"Previsão: Comaçando batch {batch}\")\n",
    "\n",
    "    def on_predict_batch_end(self, batch, logs=None):\n",
    "        print(f\"Previsão: Terminando batch {batch}\")\n",
    "    \n",
    "    def on_predict_end(self, logs=None):\n",
    "        print(\"Terminando a previsão!\")\n",
    "         "
   ]
  },
  {
   "cell_type": "code",
   "execution_count": 38,
   "metadata": {},
   "outputs": [],
   "source": [
    "model = get_regularised_model(1e-5, 0.3)"
   ]
  },
  {
   "cell_type": "code",
   "execution_count": 39,
   "metadata": {},
   "outputs": [],
   "source": [
    "model.compile(optimizer=\"adam\", loss=\"mse\")"
   ]
  },
  {
   "cell_type": "code",
   "execution_count": 40,
   "metadata": {},
   "outputs": [
    {
     "name": "stdout",
     "output_type": "stream",
     "text": [
      "Começando o Treinamento...\n",
      "Começando as epoch 0 \n",
      "Treinamento: Comçando batch 0\n",
      "Treinamento: Terminando batch 0\n",
      "Treinamento: Comçando batch 1\n",
      "Treinamento: Terminando batch 1\n",
      "Treinamento: Comçando batch 2\n",
      "Treinamento: Terminando batch 2\n",
      "Treinamento: Comçando batch 3\n",
      "Treinamento: Terminando batch 3\n",
      "Terminando epoch 0\n",
      "Começando as epoch 1 \n",
      "Treinamento: Comçando batch 0\n",
      "Treinamento: Terminando batch 0\n",
      "Treinamento: Comçando batch 1\n",
      "Treinamento: Terminando batch 1\n",
      "Treinamento: Comçando batch 2\n",
      "Treinamento: Terminando batch 2\n",
      "Treinamento: Comçando batch 3\n",
      "Treinamento: Terminando batch 3\n",
      "Terminando epoch 1\n",
      "Começando as epoch 2 \n",
      "Treinamento: Comçando batch 0\n",
      "Treinamento: Terminando batch 0\n",
      "Treinamento: Comçando batch 1\n",
      "Treinamento: Terminando batch 1\n",
      "Treinamento: Comçando batch 2\n",
      "Treinamento: Terminando batch 2\n",
      "Treinamento: Comçando batch 3\n",
      "Treinamento: Terminando batch 3\n",
      "Terminando epoch 2\n",
      "Terminando treinamento!\n"
     ]
    },
    {
     "data": {
      "text/plain": [
       "<keras.callbacks.History at 0x2148fc047c0>"
      ]
     },
     "execution_count": 40,
     "metadata": {},
     "output_type": "execute_result"
    }
   ],
   "source": [
    "model.fit(train_data, train_targets, epochs=3, batch_size=128, verbose=False, callbacks=[TrainingCallback()])"
   ]
  },
  {
   "cell_type": "code",
   "execution_count": 41,
   "metadata": {},
   "outputs": [
    {
     "name": "stdout",
     "output_type": "stream",
     "text": [
      "Começando o teste...\n",
      "Teste: Começando batch 0\n",
      "Teste: Terminando batch 0\n",
      "Teste: Começando batch 1\n",
      "Teste: Terminando batch 1\n",
      "Terminando treinamento!\n"
     ]
    },
    {
     "data": {
      "text/plain": [
       "1.1667120456695557"
      ]
     },
     "execution_count": 41,
     "metadata": {},
     "output_type": "execute_result"
    }
   ],
   "source": [
    "model.evaluate(test_data, test_targets, verbose=False, callbacks=[TestCallback()])"
   ]
  },
  {
   "cell_type": "code",
   "execution_count": 42,
   "metadata": {},
   "outputs": [
    {
     "name": "stdout",
     "output_type": "stream",
     "text": [
      "Começando previão...\n",
      "Previsão: Comaçando batch 0\n",
      "Previsão: Terminando batch 0\n",
      "Previsão: Comaçando batch 1\n",
      "Previsão: Terminando batch 1\n",
      "Terminando a previsão!\n"
     ]
    },
    {
     "data": {
      "text/plain": [
       "array([[0.35010585],\n",
       "       [0.32270375],\n",
       "       [0.34249392],\n",
       "       [0.34596702],\n",
       "       [0.33195686],\n",
       "       [0.33836633],\n",
       "       [0.35604396],\n",
       "       [0.305436  ],\n",
       "       [0.35301667],\n",
       "       [0.30050293],\n",
       "       [0.321391  ],\n",
       "       [0.29550758],\n",
       "       [0.3355731 ],\n",
       "       [0.3321533 ],\n",
       "       [0.34378803],\n",
       "       [0.34926823],\n",
       "       [0.35134006],\n",
       "       [0.30448908],\n",
       "       [0.34696254],\n",
       "       [0.32538924],\n",
       "       [0.34080616],\n",
       "       [0.35138884],\n",
       "       [0.3608223 ],\n",
       "       [0.3267144 ],\n",
       "       [0.34626183],\n",
       "       [0.30645853],\n",
       "       [0.36510044],\n",
       "       [0.3498289 ],\n",
       "       [0.3233828 ],\n",
       "       [0.3368066 ],\n",
       "       [0.36275744],\n",
       "       [0.337507  ],\n",
       "       [0.34735385],\n",
       "       [0.35392877],\n",
       "       [0.3361404 ],\n",
       "       [0.3480837 ],\n",
       "       [0.30914825],\n",
       "       [0.33808702],\n",
       "       [0.3530833 ],\n",
       "       [0.33962333],\n",
       "       [0.32518566],\n",
       "       [0.33691102],\n",
       "       [0.36056617],\n",
       "       [0.34629798],\n",
       "       [0.31928974]], dtype=float32)"
      ]
     },
     "execution_count": 42,
     "metadata": {},
     "output_type": "execute_result"
    }
   ],
   "source": [
    "model.predict(test_data, verbose=False, callbacks=[PredictionCallback()])"
   ]
  },
  {
   "cell_type": "markdown",
   "metadata": {},
   "source": [
    "# Manipulando as logs dos Callbacks"
   ]
  },
  {
   "cell_type": "markdown",
   "metadata": {},
   "source": [
    "Podemos utilizar os logs para passar informações de metricas."
   ]
  },
  {
   "cell_type": "code",
   "execution_count": 43,
   "metadata": {},
   "outputs": [],
   "source": [
    "#Criar um modelo\n",
    "model = tf.keras.Sequential([\n",
    "  Dense(128, activation='relu', input_shape=(train_data.shape[1],)),\n",
    "  Dense(64, activation=\"relu\"),\n",
    "  tf.keras.layers.BatchNormalization(),\n",
    "  Dense(64, activation=\"relu\"),\n",
    "  Dense(64, activation=\"relu\"),\n",
    "  Dense(1)\n",
    "\n",
    "])"
   ]
  },
  {
   "cell_type": "code",
   "execution_count": 44,
   "metadata": {},
   "outputs": [],
   "source": [
    "#compila o modelo\n",
    "\n",
    "model.compile(loss='mse', optimizer='adam', metrics=['mae'])"
   ]
  },
  {
   "cell_type": "markdown",
   "metadata": {},
   "source": [
    "# Customizar Callback"
   ]
  },
  {
   "cell_type": "markdown",
   "metadata": {},
   "source": [
    "Vamos customizar as Callback para os logs de dicionarios tenham acesso de perda e metrica de valores"
   ]
  },
  {
   "cell_type": "code",
   "execution_count": 45,
   "metadata": {},
   "outputs": [],
   "source": [
    "class LossAndMetricCallback(tf.keras.callbacks.Callback):\n",
    "\n",
    "  #Imprimir a perda a cada segundo do lote de treinamento\n",
    "  def on_train_batch_begin(self, batch, logs=None):\n",
    "    if logs is not None and 'loss' in logs:\n",
    "      if batch %2 == 0:\n",
    "        print('\\n After batch {}, the loss is {:7.2f}.'.format(batch, logs['loss']))\n",
    "\n",
    "   # Imprimir a perda após cada lote no conjunto de teste\n",
    "  def on_test_batch_end(self, batch, logs=None):\n",
    "    if logs is not None and 'loss' in logs:\n",
    "      print('\\n After batch {}, the loss is {:.2f}.'.format(batch, logs['loss']))\n",
    "\n",
    "   # Imprimir a perda e o erro médio absoluto após cada época\n",
    "  def on_epoch_end(self, epoch, logs=None):\n",
    "    if logs is not None and 'loss' in logs:\n",
    "      print('Epoch {}: Average loss is {:.2f}, mean absolute error is {:.2f}.'.format(epoch, logs['loss'], logs['mae']))\n",
    "\n",
    "# Notificar o utilizador quando a previsão tiver terminado em cada lote\n",
    "  def on_predict_batch_end(self, batch, logs=None):\n",
    "    print(\"Finished prediction on batch {}!\".format(batch))"
   ]
  },
  {
   "cell_type": "code",
   "execution_count": 46,
   "metadata": {},
   "outputs": [
    {
     "name": "stdout",
     "output_type": "stream",
     "text": [
      "Epoch 0: Average loss is 1.00, mean absolute error is 0.83.\n",
      "Epoch 1: Average loss is 0.73, mean absolute error is 0.72.\n",
      "Epoch 2: Average loss is 0.58, mean absolute error is 0.64.\n",
      "Epoch 3: Average loss is 0.49, mean absolute error is 0.57.\n",
      "Epoch 4: Average loss is 0.47, mean absolute error is 0.55.\n",
      "Epoch 5: Average loss is 0.44, mean absolute error is 0.53.\n",
      "Epoch 6: Average loss is 0.42, mean absolute error is 0.51.\n",
      "Epoch 7: Average loss is 0.41, mean absolute error is 0.51.\n",
      "Epoch 8: Average loss is 0.40, mean absolute error is 0.50.\n",
      "Epoch 9: Average loss is 0.38, mean absolute error is 0.49.\n",
      "Epoch 10: Average loss is 0.37, mean absolute error is 0.48.\n",
      "Epoch 11: Average loss is 0.37, mean absolute error is 0.48.\n",
      "Epoch 12: Average loss is 0.35, mean absolute error is 0.46.\n",
      "Epoch 13: Average loss is 0.35, mean absolute error is 0.46.\n",
      "Epoch 14: Average loss is 0.33, mean absolute error is 0.45.\n",
      "Epoch 15: Average loss is 0.32, mean absolute error is 0.44.\n",
      "Epoch 16: Average loss is 0.31, mean absolute error is 0.43.\n",
      "Epoch 17: Average loss is 0.31, mean absolute error is 0.43.\n",
      "Epoch 18: Average loss is 0.29, mean absolute error is 0.41.\n",
      "Epoch 19: Average loss is 0.28, mean absolute error is 0.41.\n"
     ]
    }
   ],
   "source": [
    "#treinar o modelo\n",
    "history = model.fit(train_data, train_targets, epochs=20,\n",
    "                    batch_size=100, callbacks=[LossAndMetricCallback()], verbose=False)"
   ]
  },
  {
   "cell_type": "code",
   "execution_count": 47,
   "metadata": {},
   "outputs": [
    {
     "name": "stdout",
     "output_type": "stream",
     "text": [
      "\n",
      " After batch 0, the loss is 0.80.\n",
      "\n",
      " After batch 1, the loss is 0.96.\n",
      "\n",
      " After batch 2, the loss is 1.05.\n",
      "\n",
      " After batch 3, the loss is 1.11.\n",
      "\n",
      " After batch 4, the loss is 1.11.\n"
     ]
    }
   ],
   "source": [
    "model_eval = model.evaluate(test_data, test_targets, batch_size=10, callbacks=[LossAndMetricCallback()], verbose=False)"
   ]
  },
  {
   "cell_type": "markdown",
   "metadata": {},
   "source": [
    "### CallBacks personalizadas"
   ]
  },
  {
   "cell_type": "markdown",
   "metadata": {},
   "source": [
    "Vamos definir uma callback para alterar a taxa de aprendizado do otimizador de um modelo durante o treinamento. Faremos isso especificando as épocas e as novas taxas de aprendizagem em que gostaríamos que fossem alteradas."
   ]
  },
  {
   "cell_type": "code",
   "execution_count": 48,
   "metadata": {},
   "outputs": [],
   "source": [
    "lr_schedule =[\n",
    "  (4, 0.03), (7, 0.02), (11, 0.005), (15, 0.007)\n",
    "]\n",
    "\n",
    "def get_new_epoch_lr(epoch, lr):\n",
    "  #Verifica se a época de entrada está listada na tabela de taxas de #aprendizagem e, se estiver, devolve o índice em lr_schedule\n",
    "  epoch_in_sched = [i for i in range(len(lr_schedule)) if lr_schedule[i][0]==int(epoch)]\n",
    "  if len(epoch_in_sched)>0:\n",
    "  # Se for, devolve a taxa de aprendizagem correspondente à época  \n",
    "    return lr_schedule[epoch_in_sched[0]][1]\n",
    "  else:\n",
    "    # Caso contrário, devolver a taxa de aprendizagem existente\n",
    "    return lr"
   ]
  },
  {
   "cell_type": "code",
   "execution_count": 49,
   "metadata": {},
   "outputs": [],
   "source": [
    "class LRScheduler(tf.keras.callbacks.Callback):\n",
    "\n",
    "  def __init__(self, new_lr):\n",
    "    super(LRScheduler, self).__init__()\n",
    "    # Adicionar a nova função de taxa de aprendizagem ao nosso retorno de chamada\n",
    "    self.new_lr = new_lr\n",
    "\n",
    "  def on_epoch_begin(self, epoch, logs=None):\n",
    "    # Certifique-se de que o optimizador que escolhemos tem uma taxa de aprendizagem e, se não tiver, assinala um erro\n",
    "    if not hasattr(self.model.optimizer, 'lr'):\n",
    "      raise ValueError('Erro: Optimizer does not have a learning rate.')\n",
    "    \n",
    "     # Obter a taxa de aprendizagem atual\n",
    "    curr_rate = float(tf.keras.backend.get_value(self.model.optimizer.lr))\n",
    "\n",
    "     # Chamar a função auxiliar para obter a taxa de aprendizagem programada para a época atual\n",
    "    scheduled_rate = self.new_lr(epoch, curr_rate)\n",
    "\n",
    "  # Definir a taxa de aprendizagem para a taxa de aprendizagem programada\n",
    "    tf.keras.backend.set_value(self.model.optimizer.lr, scheduled_rate)\n",
    "    print('Learning rate for epoch {} is {:.3f}'.format(epoch, scheduled_rate))\n",
    "\n"
   ]
  },
  {
   "cell_type": "code",
   "execution_count": 50,
   "metadata": {},
   "outputs": [],
   "source": [
    "new_model = tf.keras.Sequential([\n",
    "  Dense(128, activation='relu', input_shape=(train_data.shape[1],)),\n",
    "  Dense(64, activation='relu'),\n",
    "  tf.keras.layers.BatchNormalization(),\n",
    "  Dense(64, activation='relu'),\n",
    "  Dense(64, activation='relu'),\n",
    "  Dense(1)\n",
    "])"
   ]
  },
  {
   "cell_type": "code",
   "execution_count": 51,
   "metadata": {},
   "outputs": [],
   "source": [
    "new_model.compile(loss=\"mse\",\n",
    "                  optimizer=\"adam\",\n",
    "                  metrics=['mae', 'mse'])"
   ]
  },
  {
   "cell_type": "code",
   "execution_count": 52,
   "metadata": {},
   "outputs": [
    {
     "name": "stdout",
     "output_type": "stream",
     "text": [
      "Learning rate for epoch 0 is 0.001\n",
      "Learning rate for epoch 1 is 0.001\n",
      "Learning rate for epoch 2 is 0.001\n",
      "Learning rate for epoch 3 is 0.001\n",
      "Learning rate for epoch 4 is 0.030\n",
      "Learning rate for epoch 5 is 0.030\n",
      "Learning rate for epoch 6 is 0.030\n",
      "Learning rate for epoch 7 is 0.020\n",
      "Learning rate for epoch 8 is 0.020\n",
      "Learning rate for epoch 9 is 0.020\n",
      "Learning rate for epoch 10 is 0.020\n",
      "Learning rate for epoch 11 is 0.005\n",
      "Learning rate for epoch 12 is 0.005\n",
      "Learning rate for epoch 13 is 0.005\n",
      "Learning rate for epoch 14 is 0.005\n",
      "Learning rate for epoch 15 is 0.007\n",
      "Learning rate for epoch 16 is 0.007\n",
      "Learning rate for epoch 17 is 0.007\n",
      "Learning rate for epoch 18 is 0.007\n",
      "Learning rate for epoch 19 is 0.007\n"
     ]
    }
   ],
   "source": [
    "new_history = new_model.fit(train_data, train_targets, epochs=20,\n",
    "                            batch_size=100, callbacks=[LRScheduler(get_new_epoch_lr)], verbose=False)"
   ]
  },
  {
   "cell_type": "markdown",
   "metadata": {},
   "source": [
    "# Utilizando Parada Antecipada(Early Stopping)\n",
    "\n",
    "A utilização de Parada Antecipada é para que não haja overfitting, quando o modelo de validação para de melhorar, o modelo é parado também."
   ]
  },
  {
   "cell_type": "code",
   "execution_count": 53,
   "metadata": {},
   "outputs": [],
   "source": [
    "#Aqui é usando a parada antecipada em um modelo não regularizado\n",
    "unregularised_model = get_model()\n",
    "unregularised_model.compile(optimizer=\"adam\", loss=\"mse\")\n",
    "unreg_history = unregularised_model.fit(train_data, train_targets, epochs=100,\n",
    "                                       validation_split=0.15, batch_size=64, verbose=False,\n",
    "                                       callbacks=[tf.keras.callbacks.EarlyStopping(patience=2)])"
   ]
  },
  {
   "cell_type": "code",
   "execution_count": 56,
   "metadata": {},
   "outputs": [
    {
     "name": "stdout",
     "output_type": "stream",
     "text": [
      "2/2 - 0s - loss: 0.8209 - 26ms/epoch - 13ms/step\n"
     ]
    },
    {
     "data": {
      "text/plain": [
       "0.8209124207496643"
      ]
     },
     "execution_count": 56,
     "metadata": {},
     "output_type": "execute_result"
    }
   ],
   "source": [
    "unregularised_model.evaluate(test_data, test_targets, verbose=2)\n"
   ]
  },
  {
   "cell_type": "code",
   "execution_count": 57,
   "metadata": {},
   "outputs": [],
   "source": [
    "#Aqui é usando a parada antecipada em um modelo regularizado\n",
    "\n",
    "regularised_model = get_regularised_model(1e-8, 0.2)\n",
    "regularised_model.compile(optimizer=\"adam\", loss=\"mse\")\n",
    "reg_history = regularised_model.fit(train_data, train_targets, epochs=100,\n",
    "                                   validation_split=0.15, batch_size=64, verbose=False,\n",
    "                                   callbacks=[tf.keras.callbacks.EarlyStopping(patience=2)])\n"
   ]
  },
  {
   "cell_type": "code",
   "execution_count": 58,
   "metadata": {},
   "outputs": [
    {
     "name": "stdout",
     "output_type": "stream",
     "text": [
      "2/2 - 0s - loss: 0.9352 - 28ms/epoch - 14ms/step\n"
     ]
    },
    {
     "data": {
      "text/plain": [
       "0.9352350831031799"
      ]
     },
     "execution_count": 58,
     "metadata": {},
     "output_type": "execute_result"
    }
   ],
   "source": [
    "regularised_model.evaluate(test_data, test_targets, verbose=2)"
   ]
  },
  {
   "cell_type": "code",
   "execution_count": 59,
   "metadata": {},
   "outputs": [
    {
     "data": {
      "image/png": "[encoded data removed]",
      "text/plain": [
       "<Figure size 864x360 with 2 Axes>"
      ]
     },
     "metadata": {
      "needs_background": "light"
     },
     "output_type": "display_data"
    }
   ],
   "source": [
    "import matplotlib.pyplot as plt\n",
    "\n",
    "fig = plt.figure(figsize=(12, 5))\n",
    "\n",
    "fig.add_subplot(121)\n",
    "\n",
    "plt.plot(unreg_history.history['loss'])\n",
    "plt.plot(unreg_history.history['val_loss'])\n",
    "plt.title('Unregularised model: loss vs. epochs')\n",
    "plt.ylabel('Loss')\n",
    "plt.xlabel('Epoch')\n",
    "plt.legend(['Training', 'Validation'], loc='upper right')\n",
    "\n",
    "fig.add_subplot(122)\n",
    "\n",
    "plt.plot(reg_history.history['loss'])\n",
    "plt.plot(reg_history.history['val_loss'])\n",
    "plt.title('Regularised model: loss vs. epochs')\n",
    "plt.ylabel('Loss')\n",
    "plt.xlabel('Epoch')\n",
    "plt.legend(['Training', 'Validation'], loc='upper right')\n",
    "\n",
    "plt.show()"
   ]
  }
 ],
 "metadata": {
  "kernelspec": {
   "display_name": "base",
   "language": "python",
   "name": "python3"
  },
  "language_info": {
   "codemirror_mode": {
    "name": "ipython",
    "version": 3
   },
   "file_extension": ".py",
   "mimetype": "text/x-python",
   "name": "python",
   "nbconvert_exporter": "python",
   "pygments_lexer": "ipython3",
   "version": "3.8.8"
  }
 },
 "nbformat": 4,
 "nbformat_minor": 2
}
