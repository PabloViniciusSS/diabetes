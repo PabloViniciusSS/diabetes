{
 "cells": [
  {
   "cell_type": "markdown",
   "metadata": {},
   "source": [
    "# Rede Neural de Dados sobre Diabetes"
   ]
  },
  {
   "cell_type": "code",
   "execution_count": 1,
   "metadata": {},
   "outputs": [
    {
     "name": "stdout",
     "output_type": "stream",
     "text": [
      ".. _diabetes_dataset:\n",
      "\n",
      "Diabetes dataset\n",
      "----------------\n",
      "\n",
      "Ten baseline variables, age, sex, body mass index, average blood\n",
      "pressure, and six blood serum measurements were obtained for each of n =\n",
      "442 diabetes patients, as well as the response of interest, a\n",
      "quantitative measure of disease progression one year after baseline.\n",
      "\n",
      "**Data Set Characteristics:**\n",
      "\n",
      "  :Number of Instances: 442\n",
      "\n",
      "  :Number of Attributes: First 10 columns are numeric predictive values\n",
      "\n",
      "  :Target: Column 11 is a quantitative measure of disease progression one year after baseline\n",
      "\n",
      "  :Attribute Information:\n",
      "      - age     age in years\n",
      "      - sex\n",
      "      - bmi     body mass index\n",
      "      - bp      average blood pressure\n",
      "      - s1      tc, T-Cells (a type of white blood cells)\n",
      "      - s2      ldl, low-density lipoproteins\n",
      "      - s3      hdl, high-density lipoproteins\n",
      "      - s4      tch, thyroid stimulating hormone\n",
      "      - s5      ltg, lamotrigine\n",
      "      - s6      glu, blood sugar level\n",
      "\n",
      "Note: Each of these 10 feature variables have been mean centered and scaled by the standard deviation times `n_samples` (i.e. the sum of squares of each column totals 1).\n",
      "\n",
      "Source URL:\n",
      "https://www4.stat.ncsu.edu/~boos/var.select/diabetes.html\n",
      "\n",
      "For more information see:\n",
      "Bradley Efron, Trevor Hastie, Iain Johnstone and Robert Tibshirani (2004) \"Least Angle Regression,\" Annals of Statistics (with discussion), 407-499.\n",
      "(https://web.stanford.edu/~hastie/Papers/LARS/LeastAngle_2002.pdf)\n"
     ]
    }
   ],
   "source": [
    "from sklearn.datasets import load_diabetes\n",
    "import tensorflow as tf\n",
    "#Load dos dados do dataset diabetes e ver a descrição do dataset\n",
    "diabetes_dataset = load_diabetes()\n",
    "print(diabetes_dataset['DESCR'])"
   ]
  },
  {
   "cell_type": "code",
   "execution_count": 2,
   "metadata": {},
   "outputs": [
    {
     "name": "stdout",
     "output_type": "stream",
     "text": [
      "dict_keys(['data', 'target', 'frame', 'DESCR', 'feature_names', 'data_filename', 'target_filename'])\n"
     ]
    }
   ],
   "source": [
    "#verificar as chaves existentes no dataset\n",
    "print(diabetes_dataset.keys())"
   ]
  },
  {
   "cell_type": "code",
   "execution_count": 4,
   "metadata": {},
   "outputs": [],
   "source": [
    "#Salvar as entras e os rotulos em variaveis\n",
    "data = diabetes_dataset[\"data\"]\n",
    "targets = diabetes_dataset[\"target\"]"
   ]
  },
  {
   "cell_type": "code",
   "execution_count": 5,
   "metadata": {},
   "outputs": [],
   "source": [
    "#Normalizar os dados\n",
    "targets = (targets - targets.mean(axis=0)) / targets.std()"
   ]
  },
  {
   "cell_type": "code",
   "execution_count": 6,
   "metadata": {},
   "outputs": [
    {
     "name": "stdout",
     "output_type": "stream",
     "text": [
      "(397, 10)\n",
      "(45, 10)\n",
      "(397,)\n",
      "(45,)\n"
     ]
    }
   ],
   "source": [
    "#Dividis os dados em treino e testes\n",
    "from sklearn.model_selection import train_test_split\n",
    "\n",
    "train_data, test_data, train_targets, test_targets = train_test_split(data, targets, test_size=0.1)\n",
    "\n",
    "print(train_data.shape)\n",
    "print(test_data.shape)\n",
    "print(train_targets.shape)\n",
    "print(test_targets.shape)"
   ]
  },
  {
   "cell_type": "markdown",
   "metadata": {},
   "source": [
    "### FeedFoward Rede Neural"
   ]
  },
  {
   "cell_type": "code",
   "execution_count": 9,
   "metadata": {},
   "outputs": [],
   "source": [
    "from tensorflow.keras.models import Sequential\n",
    "from tensorflow.keras.layers import Dense\n",
    "\n",
    "\n",
    "#Criando a rede Neural\n",
    "\n",
    "def get_model():\n",
    "  model = Sequential([\n",
    "          Dense(128, activation=\"relu\", input_shape=(train_data.shape[1],)),\n",
    "          Dense(128, activation=\"relu\"),\n",
    "          Dense(128, activation=\"relu\"),\n",
    "          Dense(128, activation=\"relu\"),\n",
    "          Dense(128, activation=\"relu\"),\n",
    "          Dense(128, activation=\"relu\"),\n",
    "          Dense(1, activation=\"sigmoid\")\n",
    "  ])\n",
    "\n",
    "  return model"
   ]
  },
  {
   "cell_type": "code",
   "execution_count": 10,
   "metadata": {},
   "outputs": [],
   "source": [
    "#Criando uma variavel para a rede neural\n",
    "model = get_model()"
   ]
  },
  {
   "cell_type": "code",
   "execution_count": 11,
   "metadata": {},
   "outputs": [
    {
     "name": "stdout",
     "output_type": "stream",
     "text": [
      "Model: \"sequential\"\n",
      "_________________________________________________________________\n",
      " Layer (type)                Output Shape              Param #   \n",
      "=================================================================\n",
      " dense (Dense)               (None, 128)               1408      \n",
      "                                                                 \n",
      " dense_1 (Dense)             (None, 128)               16512     \n",
      "                                                                 \n",
      " dense_2 (Dense)             (None, 128)               16512     \n",
      "                                                                 \n",
      " dense_3 (Dense)             (None, 128)               16512     \n",
      "                                                                 \n",
      " dense_4 (Dense)             (None, 128)               16512     \n",
      "                                                                 \n",
      " dense_5 (Dense)             (None, 128)               16512     \n",
      "                                                                 \n",
      " dense_6 (Dense)             (None, 1)                 129       \n",
      "                                                                 \n",
      "=================================================================\n",
      "Total params: 84,097\n",
      "Trainable params: 84,097\n",
      "Non-trainable params: 0\n",
      "_________________________________________________________________\n"
     ]
    }
   ],
   "source": [
    "#Ver o sumario da rede neural\n",
    "\n",
    "model.summary()"
   ]
  },
  {
   "cell_type": "code",
   "execution_count": 12,
   "metadata": {},
   "outputs": [],
   "source": [
    "#Copilar o modelo\n",
    "\n",
    "opt = tf.keras.optimizers.Adam(learning_rate=0.005)\n",
    "mse = tf.keras.metrics.mean_squared_error\n",
    "\n",
    "model.compile(\n",
    "      optimizer=opt,\n",
    "      loss=\"mse\",\n",
    "      metrics=mse\n",
    ")"
   ]
  },
  {
   "cell_type": "code",
   "execution_count": 13,
   "metadata": {},
   "outputs": [
    {
     "name": "stdout",
     "output_type": "stream",
     "text": [
      "Epoch 1/100\n",
      "6/6 - 1s - loss: 1.1573 - mean_squared_error: 1.1573 - val_loss: 1.2184 - val_mean_squared_error: 1.2184 - 1s/epoch - 232ms/step\n",
      "Epoch 2/100\n",
      "6/6 - 0s - loss: 0.9639 - mean_squared_error: 0.9639 - val_loss: 0.9739 - val_mean_squared_error: 0.9739 - 41ms/epoch - 7ms/step\n",
      "Epoch 3/100\n",
      "6/6 - 0s - loss: 0.8723 - mean_squared_error: 0.8723 - val_loss: 0.9667 - val_mean_squared_error: 0.9667 - 40ms/epoch - 7ms/step\n",
      "Epoch 4/100\n",
      "6/6 - 0s - loss: 0.8616 - mean_squared_error: 0.8616 - val_loss: 0.9905 - val_mean_squared_error: 0.9905 - 40ms/epoch - 7ms/step\n",
      "Epoch 5/100\n",
      "6/6 - 0s - loss: 0.7950 - mean_squared_error: 0.7950 - val_loss: 0.7908 - val_mean_squared_error: 0.7908 - 40ms/epoch - 7ms/step\n",
      "Epoch 6/100\n",
      "6/6 - 0s - loss: 0.7371 - mean_squared_error: 0.7371 - val_loss: 0.8873 - val_mean_squared_error: 0.8873 - 39ms/epoch - 7ms/step\n",
      "Epoch 7/100\n",
      "6/6 - 0s - loss: 0.7713 - mean_squared_error: 0.7713 - val_loss: 0.9244 - val_mean_squared_error: 0.9244 - 40ms/epoch - 7ms/step\n",
      "Epoch 8/100\n",
      "6/6 - 0s - loss: 0.7601 - mean_squared_error: 0.7601 - val_loss: 0.8927 - val_mean_squared_error: 0.8927 - 40ms/epoch - 7ms/step\n",
      "Epoch 9/100\n",
      "6/6 - 0s - loss: 0.7445 - mean_squared_error: 0.7445 - val_loss: 0.8405 - val_mean_squared_error: 0.8405 - 41ms/epoch - 7ms/step\n",
      "Epoch 10/100\n",
      "6/6 - 0s - loss: 0.7721 - mean_squared_error: 0.7721 - val_loss: 0.9621 - val_mean_squared_error: 0.9621 - 41ms/epoch - 7ms/step\n",
      "Epoch 11/100\n",
      "6/6 - 0s - loss: 0.7807 - mean_squared_error: 0.7807 - val_loss: 0.9093 - val_mean_squared_error: 0.9093 - 40ms/epoch - 7ms/step\n",
      "Epoch 12/100\n",
      "6/6 - 0s - loss: 0.8517 - mean_squared_error: 0.8517 - val_loss: 0.8200 - val_mean_squared_error: 0.8200 - 38ms/epoch - 6ms/step\n",
      "Epoch 13/100\n",
      "6/6 - 0s - loss: 0.9752 - mean_squared_error: 0.9752 - val_loss: 0.7964 - val_mean_squared_error: 0.7964 - 41ms/epoch - 7ms/step\n",
      "Epoch 14/100\n",
      "6/6 - 0s - loss: 0.8294 - mean_squared_error: 0.8294 - val_loss: 0.9472 - val_mean_squared_error: 0.9472 - 39ms/epoch - 7ms/step\n",
      "Epoch 15/100\n",
      "6/6 - 0s - loss: 0.7780 - mean_squared_error: 0.7780 - val_loss: 0.9515 - val_mean_squared_error: 0.9515 - 40ms/epoch - 7ms/step\n",
      "Epoch 16/100\n",
      "6/6 - 0s - loss: 0.7631 - mean_squared_error: 0.7631 - val_loss: 0.9658 - val_mean_squared_error: 0.9658 - 40ms/epoch - 7ms/step\n",
      "Epoch 17/100\n",
      "6/6 - 0s - loss: 0.7717 - mean_squared_error: 0.7717 - val_loss: 1.0060 - val_mean_squared_error: 1.0060 - 42ms/epoch - 7ms/step\n",
      "Epoch 18/100\n",
      "6/6 - 0s - loss: 0.7805 - mean_squared_error: 0.7805 - val_loss: 0.8631 - val_mean_squared_error: 0.8631 - 40ms/epoch - 7ms/step\n",
      "Epoch 19/100\n",
      "6/6 - 0s - loss: 0.7715 - mean_squared_error: 0.7715 - val_loss: 0.9363 - val_mean_squared_error: 0.9363 - 44ms/epoch - 7ms/step\n",
      "Epoch 20/100\n",
      "6/6 - 0s - loss: 0.7516 - mean_squared_error: 0.7516 - val_loss: 0.9248 - val_mean_squared_error: 0.9248 - 49ms/epoch - 8ms/step\n",
      "Epoch 21/100\n",
      "6/6 - 0s - loss: 0.7771 - mean_squared_error: 0.7771 - val_loss: 0.9223 - val_mean_squared_error: 0.9223 - 41ms/epoch - 7ms/step\n",
      "Epoch 22/100\n",
      "6/6 - 0s - loss: 0.7659 - mean_squared_error: 0.7659 - val_loss: 0.9201 - val_mean_squared_error: 0.9201 - 44ms/epoch - 7ms/step\n",
      "Epoch 23/100\n",
      "6/6 - 0s - loss: 0.7518 - mean_squared_error: 0.7518 - val_loss: 0.8400 - val_mean_squared_error: 0.8400 - 39ms/epoch - 7ms/step\n",
      "Epoch 24/100\n",
      "6/6 - 0s - loss: 0.7652 - mean_squared_error: 0.7652 - val_loss: 0.8860 - val_mean_squared_error: 0.8860 - 54ms/epoch - 9ms/step\n",
      "Epoch 25/100\n",
      "6/6 - 0s - loss: 0.7558 - mean_squared_error: 0.7558 - val_loss: 0.9716 - val_mean_squared_error: 0.9716 - 39ms/epoch - 7ms/step\n",
      "Epoch 26/100\n",
      "6/6 - 0s - loss: 0.8160 - mean_squared_error: 0.8160 - val_loss: 0.9764 - val_mean_squared_error: 0.9764 - 38ms/epoch - 6ms/step\n",
      "Epoch 27/100\n",
      "6/6 - 0s - loss: 0.7844 - mean_squared_error: 0.7844 - val_loss: 0.9607 - val_mean_squared_error: 0.9607 - 39ms/epoch - 7ms/step\n",
      "Epoch 28/100\n",
      "6/6 - 0s - loss: 0.7588 - mean_squared_error: 0.7588 - val_loss: 0.9583 - val_mean_squared_error: 0.9583 - 39ms/epoch - 7ms/step\n",
      "Epoch 29/100\n",
      "6/6 - 0s - loss: 0.7783 - mean_squared_error: 0.7783 - val_loss: 0.9143 - val_mean_squared_error: 0.9143 - 39ms/epoch - 7ms/step\n",
      "Epoch 30/100\n",
      "6/6 - 0s - loss: 0.7661 - mean_squared_error: 0.7661 - val_loss: 0.9036 - val_mean_squared_error: 0.9036 - 40ms/epoch - 7ms/step\n",
      "Epoch 31/100\n",
      "6/6 - 0s - loss: 0.7590 - mean_squared_error: 0.7590 - val_loss: 0.8861 - val_mean_squared_error: 0.8861 - 39ms/epoch - 7ms/step\n",
      "Epoch 32/100\n",
      "6/6 - 0s - loss: 0.7503 - mean_squared_error: 0.7503 - val_loss: 0.8901 - val_mean_squared_error: 0.8901 - 46ms/epoch - 8ms/step\n",
      "Epoch 33/100\n",
      "6/6 - 0s - loss: 0.7469 - mean_squared_error: 0.7469 - val_loss: 0.8857 - val_mean_squared_error: 0.8857 - 56ms/epoch - 9ms/step\n",
      "Epoch 34/100\n",
      "6/6 - 0s - loss: 0.7480 - mean_squared_error: 0.7480 - val_loss: 0.8864 - val_mean_squared_error: 0.8864 - 42ms/epoch - 7ms/step\n",
      "Epoch 35/100\n",
      "6/6 - 0s - loss: 0.7480 - mean_squared_error: 0.7480 - val_loss: 0.8863 - val_mean_squared_error: 0.8863 - 38ms/epoch - 6ms/step\n",
      "Epoch 36/100\n",
      "6/6 - 0s - loss: 0.7514 - mean_squared_error: 0.7514 - val_loss: 0.8960 - val_mean_squared_error: 0.8960 - 40ms/epoch - 7ms/step\n",
      "Epoch 37/100\n",
      "6/6 - 0s - loss: 0.7469 - mean_squared_error: 0.7469 - val_loss: 0.8878 - val_mean_squared_error: 0.8878 - 40ms/epoch - 7ms/step\n",
      "Epoch 38/100\n",
      "6/6 - 0s - loss: 0.7453 - mean_squared_error: 0.7453 - val_loss: 0.8861 - val_mean_squared_error: 0.8861 - 42ms/epoch - 7ms/step\n",
      "Epoch 39/100\n",
      "6/6 - 0s - loss: 0.7478 - mean_squared_error: 0.7478 - val_loss: 0.8697 - val_mean_squared_error: 0.8697 - 45ms/epoch - 8ms/step\n",
      "Epoch 40/100\n",
      "6/6 - 0s - loss: 0.7352 - mean_squared_error: 0.7352 - val_loss: 0.8260 - val_mean_squared_error: 0.8260 - 44ms/epoch - 7ms/step\n",
      "Epoch 41/100\n",
      "6/6 - 0s - loss: 0.7292 - mean_squared_error: 0.7292 - val_loss: 0.8489 - val_mean_squared_error: 0.8489 - 41ms/epoch - 7ms/step\n",
      "Epoch 42/100\n",
      "6/6 - 0s - loss: 0.7231 - mean_squared_error: 0.7231 - val_loss: 0.8318 - val_mean_squared_error: 0.8318 - 45ms/epoch - 8ms/step\n",
      "Epoch 43/100\n",
      "6/6 - 0s - loss: 0.7186 - mean_squared_error: 0.7186 - val_loss: 0.8362 - val_mean_squared_error: 0.8362 - 44ms/epoch - 7ms/step\n",
      "Epoch 44/100\n",
      "6/6 - 0s - loss: 0.7158 - mean_squared_error: 0.7158 - val_loss: 0.8466 - val_mean_squared_error: 0.8466 - 46ms/epoch - 8ms/step\n",
      "Epoch 45/100\n",
      "6/6 - 0s - loss: 0.7157 - mean_squared_error: 0.7157 - val_loss: 0.8228 - val_mean_squared_error: 0.8228 - 40ms/epoch - 7ms/step\n",
      "Epoch 46/100\n",
      "6/6 - 0s - loss: 0.7136 - mean_squared_error: 0.7136 - val_loss: 0.8735 - val_mean_squared_error: 0.8735 - 40ms/epoch - 7ms/step\n",
      "Epoch 47/100\n",
      "6/6 - 0s - loss: 0.7142 - mean_squared_error: 0.7142 - val_loss: 0.8171 - val_mean_squared_error: 0.8171 - 41ms/epoch - 7ms/step\n",
      "Epoch 48/100\n",
      "6/6 - 0s - loss: 0.7263 - mean_squared_error: 0.7263 - val_loss: 0.8624 - val_mean_squared_error: 0.8624 - 40ms/epoch - 7ms/step\n",
      "Epoch 49/100\n",
      "6/6 - 0s - loss: 0.7114 - mean_squared_error: 0.7114 - val_loss: 0.8737 - val_mean_squared_error: 0.8737 - 44ms/epoch - 7ms/step\n",
      "Epoch 50/100\n",
      "6/6 - 0s - loss: 0.7178 - mean_squared_error: 0.7178 - val_loss: 0.8589 - val_mean_squared_error: 0.8589 - 41ms/epoch - 7ms/step\n",
      "Epoch 51/100\n",
      "6/6 - 0s - loss: 0.7127 - mean_squared_error: 0.7127 - val_loss: 0.8623 - val_mean_squared_error: 0.8623 - 39ms/epoch - 7ms/step\n",
      "Epoch 52/100\n",
      "6/6 - 0s - loss: 0.7098 - mean_squared_error: 0.7098 - val_loss: 0.8815 - val_mean_squared_error: 0.8815 - 39ms/epoch - 7ms/step\n",
      "Epoch 53/100\n",
      "6/6 - 0s - loss: 0.7106 - mean_squared_error: 0.7106 - val_loss: 0.8853 - val_mean_squared_error: 0.8853 - 43ms/epoch - 7ms/step\n",
      "Epoch 54/100\n",
      "6/6 - 0s - loss: 0.7060 - mean_squared_error: 0.7060 - val_loss: 0.8907 - val_mean_squared_error: 0.8907 - 39ms/epoch - 7ms/step\n",
      "Epoch 55/100\n",
      "6/6 - 0s - loss: 0.7052 - mean_squared_error: 0.7052 - val_loss: 0.8855 - val_mean_squared_error: 0.8855 - 42ms/epoch - 7ms/step\n",
      "Epoch 56/100\n",
      "6/6 - 0s - loss: 0.7040 - mean_squared_error: 0.7040 - val_loss: 0.8842 - val_mean_squared_error: 0.8842 - 50ms/epoch - 8ms/step\n",
      "Epoch 57/100\n",
      "6/6 - 0s - loss: 0.7113 - mean_squared_error: 0.7113 - val_loss: 0.9038 - val_mean_squared_error: 0.9038 - 50ms/epoch - 8ms/step\n",
      "Epoch 58/100\n",
      "6/6 - 0s - loss: 0.8099 - mean_squared_error: 0.8099 - val_loss: 0.8484 - val_mean_squared_error: 0.8484 - 45ms/epoch - 8ms/step\n",
      "Epoch 59/100\n",
      "6/6 - 0s - loss: 0.7106 - mean_squared_error: 0.7106 - val_loss: 0.9066 - val_mean_squared_error: 0.9066 - 42ms/epoch - 7ms/step\n",
      "Epoch 60/100\n",
      "6/6 - 0s - loss: 0.7151 - mean_squared_error: 0.7151 - val_loss: 0.8901 - val_mean_squared_error: 0.8901 - 40ms/epoch - 7ms/step\n",
      "Epoch 61/100\n",
      "6/6 - 0s - loss: 0.7110 - mean_squared_error: 0.7110 - val_loss: 0.8551 - val_mean_squared_error: 0.8551 - 40ms/epoch - 7ms/step\n",
      "Epoch 62/100\n",
      "6/6 - 0s - loss: 0.7082 - mean_squared_error: 0.7082 - val_loss: 0.8850 - val_mean_squared_error: 0.8850 - 40ms/epoch - 7ms/step\n",
      "Epoch 63/100\n",
      "6/6 - 0s - loss: 0.7102 - mean_squared_error: 0.7102 - val_loss: 0.9123 - val_mean_squared_error: 0.9123 - 39ms/epoch - 7ms/step\n",
      "Epoch 64/100\n",
      "6/6 - 0s - loss: 0.7562 - mean_squared_error: 0.7562 - val_loss: 1.0124 - val_mean_squared_error: 1.0124 - 39ms/epoch - 7ms/step\n",
      "Epoch 65/100\n",
      "6/6 - 0s - loss: 0.8219 - mean_squared_error: 0.8219 - val_loss: 0.9544 - val_mean_squared_error: 0.9544 - 37ms/epoch - 6ms/step\n",
      "Epoch 66/100\n",
      "6/6 - 0s - loss: 0.7805 - mean_squared_error: 0.7805 - val_loss: 0.9918 - val_mean_squared_error: 0.9918 - 39ms/epoch - 7ms/step\n",
      "Epoch 67/100\n",
      "6/6 - 0s - loss: 0.7541 - mean_squared_error: 0.7541 - val_loss: 0.8664 - val_mean_squared_error: 0.8664 - 38ms/epoch - 6ms/step\n",
      "Epoch 68/100\n",
      "6/6 - 0s - loss: 0.7778 - mean_squared_error: 0.7778 - val_loss: 0.9531 - val_mean_squared_error: 0.9531 - 38ms/epoch - 6ms/step\n",
      "Epoch 69/100\n",
      "6/6 - 0s - loss: 0.7623 - mean_squared_error: 0.7623 - val_loss: 0.9393 - val_mean_squared_error: 0.9393 - 39ms/epoch - 7ms/step\n",
      "Epoch 70/100\n",
      "6/6 - 0s - loss: 0.7675 - mean_squared_error: 0.7675 - val_loss: 0.9373 - val_mean_squared_error: 0.9373 - 39ms/epoch - 7ms/step\n",
      "Epoch 71/100\n",
      "6/6 - 0s - loss: 0.7633 - mean_squared_error: 0.7633 - val_loss: 0.9371 - val_mean_squared_error: 0.9371 - 38ms/epoch - 6ms/step\n",
      "Epoch 72/100\n",
      "6/6 - 0s - loss: 0.7623 - mean_squared_error: 0.7623 - val_loss: 0.9812 - val_mean_squared_error: 0.9812 - 38ms/epoch - 6ms/step\n",
      "Epoch 73/100\n",
      "6/6 - 0s - loss: 0.7859 - mean_squared_error: 0.7859 - val_loss: 0.9362 - val_mean_squared_error: 0.9362 - 40ms/epoch - 7ms/step\n",
      "Epoch 74/100\n",
      "6/6 - 0s - loss: 0.7796 - mean_squared_error: 0.7796 - val_loss: 0.9518 - val_mean_squared_error: 0.9518 - 40ms/epoch - 7ms/step\n",
      "Epoch 75/100\n",
      "6/6 - 0s - loss: 0.7639 - mean_squared_error: 0.7639 - val_loss: 0.9390 - val_mean_squared_error: 0.9390 - 38ms/epoch - 6ms/step\n",
      "Epoch 76/100\n",
      "6/6 - 0s - loss: 0.7624 - mean_squared_error: 0.7624 - val_loss: 0.8699 - val_mean_squared_error: 0.8699 - 39ms/epoch - 7ms/step\n",
      "Epoch 77/100\n",
      "6/6 - 0s - loss: 1.0350 - mean_squared_error: 1.0350 - val_loss: 0.9218 - val_mean_squared_error: 0.9218 - 39ms/epoch - 7ms/step\n",
      "Epoch 78/100\n",
      "6/6 - 0s - loss: 0.7481 - mean_squared_error: 0.7481 - val_loss: 0.9143 - val_mean_squared_error: 0.9143 - 47ms/epoch - 8ms/step\n",
      "Epoch 79/100\n",
      "6/6 - 0s - loss: 0.7683 - mean_squared_error: 0.7683 - val_loss: 0.8273 - val_mean_squared_error: 0.8273 - 46ms/epoch - 8ms/step\n",
      "Epoch 80/100\n",
      "6/6 - 0s - loss: 0.7637 - mean_squared_error: 0.7637 - val_loss: 0.9421 - val_mean_squared_error: 0.9421 - 43ms/epoch - 7ms/step\n",
      "Epoch 81/100\n",
      "6/6 - 0s - loss: 0.7992 - mean_squared_error: 0.7992 - val_loss: 1.0680 - val_mean_squared_error: 1.0680 - 43ms/epoch - 7ms/step\n",
      "Epoch 82/100\n",
      "6/6 - 0s - loss: 0.8839 - mean_squared_error: 0.8839 - val_loss: 1.0657 - val_mean_squared_error: 1.0657 - 43ms/epoch - 7ms/step\n",
      "Epoch 83/100\n",
      "6/6 - 0s - loss: 0.8322 - mean_squared_error: 0.8322 - val_loss: 0.9569 - val_mean_squared_error: 0.9569 - 39ms/epoch - 7ms/step\n",
      "Epoch 84/100\n",
      "6/6 - 0s - loss: 0.7808 - mean_squared_error: 0.7808 - val_loss: 0.8663 - val_mean_squared_error: 0.8663 - 39ms/epoch - 7ms/step\n",
      "Epoch 85/100\n",
      "6/6 - 0s - loss: 0.7689 - mean_squared_error: 0.7689 - val_loss: 0.7505 - val_mean_squared_error: 0.7505 - 39ms/epoch - 7ms/step\n",
      "Epoch 86/100\n",
      "6/6 - 0s - loss: 0.7948 - mean_squared_error: 0.7948 - val_loss: 0.7369 - val_mean_squared_error: 0.7369 - 45ms/epoch - 8ms/step\n",
      "Epoch 87/100\n",
      "6/6 - 0s - loss: 0.7869 - mean_squared_error: 0.7869 - val_loss: 0.7992 - val_mean_squared_error: 0.7992 - 46ms/epoch - 8ms/step\n",
      "Epoch 88/100\n",
      "6/6 - 0s - loss: 0.7679 - mean_squared_error: 0.7679 - val_loss: 0.9018 - val_mean_squared_error: 0.9018 - 39ms/epoch - 7ms/step\n",
      "Epoch 89/100\n",
      "6/6 - 0s - loss: 0.7524 - mean_squared_error: 0.7524 - val_loss: 0.8673 - val_mean_squared_error: 0.8673 - 38ms/epoch - 6ms/step\n",
      "Epoch 90/100\n",
      "6/6 - 0s - loss: 0.7435 - mean_squared_error: 0.7435 - val_loss: 0.7481 - val_mean_squared_error: 0.7481 - 39ms/epoch - 7ms/step\n",
      "Epoch 91/100\n",
      "6/6 - 0s - loss: 0.7583 - mean_squared_error: 0.7583 - val_loss: 0.7983 - val_mean_squared_error: 0.7983 - 41ms/epoch - 7ms/step\n",
      "Epoch 92/100\n",
      "6/6 - 0s - loss: 0.7303 - mean_squared_error: 0.7303 - val_loss: 0.7977 - val_mean_squared_error: 0.7977 - 38ms/epoch - 6ms/step\n",
      "Epoch 93/100\n",
      "6/6 - 0s - loss: 0.7175 - mean_squared_error: 0.7175 - val_loss: 0.8390 - val_mean_squared_error: 0.8390 - 38ms/epoch - 6ms/step\n",
      "Epoch 94/100\n",
      "6/6 - 0s - loss: 0.7115 - mean_squared_error: 0.7115 - val_loss: 0.7978 - val_mean_squared_error: 0.7978 - 38ms/epoch - 6ms/step\n",
      "Epoch 95/100\n",
      "6/6 - 0s - loss: 0.7307 - mean_squared_error: 0.7307 - val_loss: 0.7893 - val_mean_squared_error: 0.7893 - 38ms/epoch - 6ms/step\n",
      "Epoch 96/100\n",
      "6/6 - 0s - loss: 0.7291 - mean_squared_error: 0.7291 - val_loss: 0.8511 - val_mean_squared_error: 0.8511 - 38ms/epoch - 6ms/step\n",
      "Epoch 97/100\n",
      "6/6 - 0s - loss: 0.7156 - mean_squared_error: 0.7156 - val_loss: 0.8458 - val_mean_squared_error: 0.8458 - 38ms/epoch - 6ms/step\n",
      "Epoch 98/100\n",
      "6/6 - 0s - loss: 0.7135 - mean_squared_error: 0.7135 - val_loss: 0.8020 - val_mean_squared_error: 0.8020 - 39ms/epoch - 7ms/step\n",
      "Epoch 99/100\n",
      "6/6 - 0s - loss: 0.7107 - mean_squared_error: 0.7107 - val_loss: 0.7909 - val_mean_squared_error: 0.7909 - 38ms/epoch - 6ms/step\n",
      "Epoch 100/100\n",
      "6/6 - 0s - loss: 0.7098 - mean_squared_error: 0.7098 - val_loss: 0.8377 - val_mean_squared_error: 0.8377 - 39ms/epoch - 7ms/step\n"
     ]
    }
   ],
   "source": [
    "history = model.fit(train_data, train_targets, epochs=100, validation_split=0.15,batch_size=64, verbose=2)"
   ]
  },
  {
   "cell_type": "code",
   "execution_count": 14,
   "metadata": {},
   "outputs": [
    {
     "name": "stdout",
     "output_type": "stream",
     "text": [
      "2/2 - 0s - loss: 0.4233 - mean_squared_error: 0.4233 - 26ms/epoch - 13ms/step\n"
     ]
    },
    {
     "data": {
      "text/plain": [
       "[0.423311710357666, 0.423311710357666]"
      ]
     },
     "execution_count": 14,
     "metadata": {},
     "output_type": "execute_result"
    }
   ],
   "source": [
    "model.evaluate(test_data, test_targets, verbose=2)"
   ]
  },
  {
   "cell_type": "markdown",
   "metadata": {},
   "source": [
    "### Plotando o gráfico de aprendizado"
   ]
  },
  {
   "cell_type": "code",
   "execution_count": 15,
   "metadata": {},
   "outputs": [],
   "source": [
    "import matplotlib.pyplot as plt\n",
    "%matplotlib inline"
   ]
  },
  {
   "cell_type": "code",
   "execution_count": 16,
   "metadata": {},
   "outputs": [
    {
     "data": {
      "image/png": "[encoded data removed]",
      "text/plain": [
       "<Figure size 432x288 with 1 Axes>"
      ]
     },
     "metadata": {
      "needs_background": "light"
     },
     "output_type": "display_data"
    }
   ],
   "source": [
    "plt.plot(history.history['loss'])\n",
    "plt.plot(history.history['val_loss'])\n",
    "plt.title('Loss vs. epochs')\n",
    "plt.ylabel('Loss')\n",
    "plt.xlabel('Epoch')\n",
    "plt.legend(['Training', 'Validation'], loc='upper right')\n",
    "plt.show()"
   ]
  },
  {
   "cell_type": "markdown",
   "metadata": {},
   "source": [
    "### Agora vamos analisar utilizando regularização no modelo"
   ]
  },
  {
   "cell_type": "code",
   "execution_count": 17,
   "metadata": {},
   "outputs": [],
   "source": [
    "from tensorflow.keras.layers import Dropout\n",
    "from tensorflow.keras import regularizers"
   ]
  },
  {
   "cell_type": "code",
   "execution_count": 19,
   "metadata": {},
   "outputs": [],
   "source": [
    "def get_regularised_model(wd, rate):\n",
    "  model = Sequential([\n",
    "    Dense(128, kernel_regularizer=regularizers.l2(wd), activation='relu', input_shape=(train_data.shape[1],)),\n",
    "    Dropout(rate),\n",
    "    Dense(128, kernel_regularizer=regularizers.l2(wd), activation='relu'),\n",
    "    Dropout(rate),\n",
    "    Dense(128, kernel_regularizer=regularizers.l2(wd), activation='relu'),\n",
    "    Dropout(rate),\n",
    "    Dense(128, kernel_regularizer=regularizers.l2(wd), activation='relu'),\n",
    "    Dropout(rate),\n",
    "    Dense(128, kernel_regularizer=regularizers.l2(wd), activation='relu'),\n",
    "    Dropout(rate),\n",
    "    Dense(128, kernel_regularizer=regularizers.l2(wd), activation='relu'),\n",
    "    Dropout(rate),\n",
    "    Dense(1, activation='sigmoid')\n",
    "  ])\n",
    "  return model"
   ]
  },
  {
   "cell_type": "code",
   "execution_count": 20,
   "metadata": {},
   "outputs": [],
   "source": [
    "model = get_regularised_model(1e-5, 0.3)"
   ]
  },
  {
   "cell_type": "code",
   "execution_count": 21,
   "metadata": {},
   "outputs": [],
   "source": [
    "opt = tf.keras.optimizers.Adam()\n",
    "\n",
    "model.compile(\n",
    "              optimizer=opt,\n",
    "              loss = 'mse',\n",
    "              metrics = [mse]\n",
    "              )"
   ]
  },
  {
   "cell_type": "code",
   "execution_count": 22,
   "metadata": {},
   "outputs": [
    {
     "name": "stdout",
     "output_type": "stream",
     "text": [
      "Epoch 1/100\n",
      "6/6 - 2s - loss: 1.2972 - mean_squared_error: 1.2906 - val_loss: 1.2403 - val_mean_squared_error: 1.2338 - 2s/epoch - 261ms/step\n",
      "Epoch 2/100\n",
      "6/6 - 0s - loss: 1.2503 - mean_squared_error: 1.2438 - val_loss: 1.1991 - val_mean_squared_error: 1.1926 - 50ms/epoch - 8ms/step\n",
      "Epoch 3/100\n",
      "6/6 - 0s - loss: 1.1250 - mean_squared_error: 1.1185 - val_loss: 1.1360 - val_mean_squared_error: 1.1295 - 56ms/epoch - 9ms/step\n",
      "Epoch 4/100\n",
      "6/6 - 0s - loss: 0.9964 - mean_squared_error: 0.9899 - val_loss: 1.2006 - val_mean_squared_error: 1.1941 - 60ms/epoch - 10ms/step\n",
      "Epoch 5/100\n",
      "6/6 - 0s - loss: 0.9805 - mean_squared_error: 0.9740 - val_loss: 1.2264 - val_mean_squared_error: 1.2199 - 53ms/epoch - 9ms/step\n",
      "Epoch 6/100\n",
      "6/6 - 0s - loss: 0.9789 - mean_squared_error: 0.9724 - val_loss: 1.2085 - val_mean_squared_error: 1.2020 - 50ms/epoch - 8ms/step\n",
      "Epoch 7/100\n",
      "6/6 - 0s - loss: 0.9581 - mean_squared_error: 0.9517 - val_loss: 1.1088 - val_mean_squared_error: 1.1024 - 50ms/epoch - 8ms/step\n",
      "Epoch 8/100\n",
      "6/6 - 0s - loss: 0.9141 - mean_squared_error: 0.9077 - val_loss: 0.9777 - val_mean_squared_error: 0.9713 - 50ms/epoch - 8ms/step\n",
      "Epoch 9/100\n",
      "6/6 - 0s - loss: 0.8948 - mean_squared_error: 0.8885 - val_loss: 0.9426 - val_mean_squared_error: 0.9363 - 50ms/epoch - 8ms/step\n",
      "Epoch 10/100\n",
      "6/6 - 0s - loss: 0.8724 - mean_squared_error: 0.8661 - val_loss: 0.9653 - val_mean_squared_error: 0.9589 - 50ms/epoch - 8ms/step\n",
      "Epoch 11/100\n",
      "6/6 - 0s - loss: 0.8639 - mean_squared_error: 0.8575 - val_loss: 0.9942 - val_mean_squared_error: 0.9879 - 52ms/epoch - 9ms/step\n",
      "Epoch 12/100\n",
      "6/6 - 0s - loss: 0.8436 - mean_squared_error: 0.8373 - val_loss: 0.9175 - val_mean_squared_error: 0.9112 - 57ms/epoch - 10ms/step\n",
      "Epoch 13/100\n",
      "6/6 - 0s - loss: 0.8320 - mean_squared_error: 0.8257 - val_loss: 0.8916 - val_mean_squared_error: 0.8853 - 56ms/epoch - 9ms/step\n",
      "Epoch 14/100\n",
      "6/6 - 0s - loss: 0.8246 - mean_squared_error: 0.8183 - val_loss: 0.9335 - val_mean_squared_error: 0.9272 - 54ms/epoch - 9ms/step\n",
      "Epoch 15/100\n",
      "6/6 - 0s - loss: 0.8050 - mean_squared_error: 0.7987 - val_loss: 0.9453 - val_mean_squared_error: 0.9391 - 50ms/epoch - 8ms/step\n",
      "Epoch 16/100\n",
      "6/6 - 0s - loss: 0.8112 - mean_squared_error: 0.8050 - val_loss: 0.8820 - val_mean_squared_error: 0.8758 - 50ms/epoch - 8ms/step\n",
      "Epoch 17/100\n",
      "6/6 - 0s - loss: 0.7898 - mean_squared_error: 0.7836 - val_loss: 0.8243 - val_mean_squared_error: 0.8181 - 52ms/epoch - 9ms/step\n",
      "Epoch 18/100\n",
      "6/6 - 0s - loss: 0.7664 - mean_squared_error: 0.7602 - val_loss: 0.9185 - val_mean_squared_error: 0.9122 - 62ms/epoch - 10ms/step\n",
      "Epoch 19/100\n",
      "6/6 - 0s - loss: 0.7646 - mean_squared_error: 0.7583 - val_loss: 0.9005 - val_mean_squared_error: 0.8942 - 61ms/epoch - 10ms/step\n",
      "Epoch 20/100\n",
      "6/6 - 0s - loss: 0.7588 - mean_squared_error: 0.7525 - val_loss: 0.8689 - val_mean_squared_error: 0.8626 - 50ms/epoch - 8ms/step\n",
      "Epoch 21/100\n",
      "6/6 - 0s - loss: 0.7478 - mean_squared_error: 0.7416 - val_loss: 0.8903 - val_mean_squared_error: 0.8840 - 50ms/epoch - 8ms/step\n",
      "Epoch 22/100\n",
      "6/6 - 0s - loss: 0.7416 - mean_squared_error: 0.7354 - val_loss: 0.8893 - val_mean_squared_error: 0.8831 - 49ms/epoch - 8ms/step\n",
      "Epoch 23/100\n",
      "6/6 - 0s - loss: 0.7440 - mean_squared_error: 0.7377 - val_loss: 0.8538 - val_mean_squared_error: 0.8476 - 49ms/epoch - 8ms/step\n",
      "Epoch 24/100\n",
      "6/6 - 0s - loss: 0.7286 - mean_squared_error: 0.7224 - val_loss: 0.8873 - val_mean_squared_error: 0.8812 - 52ms/epoch - 9ms/step\n",
      "Epoch 25/100\n",
      "6/6 - 0s - loss: 0.7423 - mean_squared_error: 0.7361 - val_loss: 0.8923 - val_mean_squared_error: 0.8861 - 49ms/epoch - 8ms/step\n",
      "Epoch 26/100\n",
      "6/6 - 0s - loss: 0.7607 - mean_squared_error: 0.7545 - val_loss: 0.8901 - val_mean_squared_error: 0.8840 - 47ms/epoch - 8ms/step\n",
      "Epoch 27/100\n",
      "6/6 - 0s - loss: 0.7429 - mean_squared_error: 0.7368 - val_loss: 0.8043 - val_mean_squared_error: 0.7982 - 50ms/epoch - 8ms/step\n",
      "Epoch 28/100\n",
      "6/6 - 0s - loss: 0.7515 - mean_squared_error: 0.7453 - val_loss: 0.8259 - val_mean_squared_error: 0.8198 - 51ms/epoch - 9ms/step\n",
      "Epoch 29/100\n",
      "6/6 - 0s - loss: 0.7369 - mean_squared_error: 0.7308 - val_loss: 0.8712 - val_mean_squared_error: 0.8651 - 49ms/epoch - 8ms/step\n",
      "Epoch 30/100\n",
      "6/6 - 0s - loss: 0.7610 - mean_squared_error: 0.7548 - val_loss: 0.8947 - val_mean_squared_error: 0.8886 - 53ms/epoch - 9ms/step\n",
      "Epoch 31/100\n",
      "6/6 - 0s - loss: 0.7567 - mean_squared_error: 0.7506 - val_loss: 0.8887 - val_mean_squared_error: 0.8826 - 57ms/epoch - 10ms/step\n",
      "Epoch 32/100\n",
      "6/6 - 0s - loss: 0.7341 - mean_squared_error: 0.7280 - val_loss: 0.8705 - val_mean_squared_error: 0.8644 - 55ms/epoch - 9ms/step\n",
      "Epoch 33/100\n",
      "6/6 - 0s - loss: 0.7374 - mean_squared_error: 0.7313 - val_loss: 0.8680 - val_mean_squared_error: 0.8620 - 57ms/epoch - 10ms/step\n",
      "Epoch 34/100\n",
      "6/6 - 0s - loss: 0.7470 - mean_squared_error: 0.7409 - val_loss: 0.8815 - val_mean_squared_error: 0.8754 - 57ms/epoch - 10ms/step\n",
      "Epoch 35/100\n",
      "6/6 - 0s - loss: 0.7334 - mean_squared_error: 0.7274 - val_loss: 0.8223 - val_mean_squared_error: 0.8163 - 50ms/epoch - 8ms/step\n",
      "Epoch 36/100\n",
      "6/6 - 0s - loss: 0.7418 - mean_squared_error: 0.7357 - val_loss: 0.8150 - val_mean_squared_error: 0.8090 - 51ms/epoch - 9ms/step\n",
      "Epoch 37/100\n",
      "6/6 - 0s - loss: 0.7519 - mean_squared_error: 0.7459 - val_loss: 0.8587 - val_mean_squared_error: 0.8527 - 49ms/epoch - 8ms/step\n",
      "Epoch 38/100\n",
      "6/6 - 0s - loss: 0.7350 - mean_squared_error: 0.7289 - val_loss: 0.8793 - val_mean_squared_error: 0.8733 - 48ms/epoch - 8ms/step\n",
      "Epoch 39/100\n",
      "6/6 - 0s - loss: 0.7418 - mean_squared_error: 0.7358 - val_loss: 0.8753 - val_mean_squared_error: 0.8693 - 49ms/epoch - 8ms/step\n",
      "Epoch 40/100\n",
      "6/6 - 0s - loss: 0.7464 - mean_squared_error: 0.7404 - val_loss: 0.8417 - val_mean_squared_error: 0.8357 - 50ms/epoch - 8ms/step\n",
      "Epoch 41/100\n",
      "6/6 - 0s - loss: 0.7442 - mean_squared_error: 0.7382 - val_loss: 0.8429 - val_mean_squared_error: 0.8370 - 49ms/epoch - 8ms/step\n",
      "Epoch 42/100\n",
      "6/6 - 0s - loss: 0.7315 - mean_squared_error: 0.7255 - val_loss: 0.8596 - val_mean_squared_error: 0.8536 - 49ms/epoch - 8ms/step\n",
      "Epoch 43/100\n",
      "6/6 - 0s - loss: 0.7282 - mean_squared_error: 0.7223 - val_loss: 0.8881 - val_mean_squared_error: 0.8822 - 48ms/epoch - 8ms/step\n",
      "Epoch 44/100\n",
      "6/6 - 0s - loss: 0.7283 - mean_squared_error: 0.7223 - val_loss: 0.8830 - val_mean_squared_error: 0.8771 - 51ms/epoch - 9ms/step\n",
      "Epoch 45/100\n",
      "6/6 - 0s - loss: 0.7336 - mean_squared_error: 0.7276 - val_loss: 0.8730 - val_mean_squared_error: 0.8671 - 51ms/epoch - 9ms/step\n",
      "Epoch 46/100\n",
      "6/6 - 0s - loss: 0.7234 - mean_squared_error: 0.7175 - val_loss: 0.8591 - val_mean_squared_error: 0.8531 - 50ms/epoch - 8ms/step\n",
      "Epoch 47/100\n",
      "6/6 - 0s - loss: 0.7268 - mean_squared_error: 0.7209 - val_loss: 0.8623 - val_mean_squared_error: 0.8564 - 49ms/epoch - 8ms/step\n",
      "Epoch 48/100\n",
      "6/6 - 0s - loss: 0.7301 - mean_squared_error: 0.7242 - val_loss: 0.8899 - val_mean_squared_error: 0.8840 - 51ms/epoch - 9ms/step\n",
      "Epoch 49/100\n",
      "6/6 - 0s - loss: 0.7279 - mean_squared_error: 0.7220 - val_loss: 0.8901 - val_mean_squared_error: 0.8842 - 48ms/epoch - 8ms/step\n",
      "Epoch 50/100\n",
      "6/6 - 0s - loss: 0.7191 - mean_squared_error: 0.7132 - val_loss: 0.8671 - val_mean_squared_error: 0.8612 - 48ms/epoch - 8ms/step\n",
      "Epoch 51/100\n",
      "6/6 - 0s - loss: 0.7062 - mean_squared_error: 0.7003 - val_loss: 0.8742 - val_mean_squared_error: 0.8683 - 49ms/epoch - 8ms/step\n",
      "Epoch 52/100\n",
      "6/6 - 0s - loss: 0.7282 - mean_squared_error: 0.7223 - val_loss: 0.8876 - val_mean_squared_error: 0.8817 - 51ms/epoch - 9ms/step\n",
      "Epoch 53/100\n",
      "6/6 - 0s - loss: 0.7280 - mean_squared_error: 0.7221 - val_loss: 0.8805 - val_mean_squared_error: 0.8746 - 50ms/epoch - 8ms/step\n",
      "Epoch 54/100\n",
      "6/6 - 0s - loss: 0.7322 - mean_squared_error: 0.7263 - val_loss: 0.8798 - val_mean_squared_error: 0.8740 - 48ms/epoch - 8ms/step\n",
      "Epoch 55/100\n",
      "6/6 - 0s - loss: 0.7207 - mean_squared_error: 0.7148 - val_loss: 0.8645 - val_mean_squared_error: 0.8587 - 48ms/epoch - 8ms/step\n",
      "Epoch 56/100\n",
      "6/6 - 0s - loss: 0.7339 - mean_squared_error: 0.7281 - val_loss: 0.8654 - val_mean_squared_error: 0.8596 - 63ms/epoch - 11ms/step\n",
      "Epoch 57/100\n",
      "6/6 - 0s - loss: 0.7457 - mean_squared_error: 0.7399 - val_loss: 0.8804 - val_mean_squared_error: 0.8745 - 53ms/epoch - 9ms/step\n",
      "Epoch 58/100\n",
      "6/6 - 0s - loss: 0.7282 - mean_squared_error: 0.7224 - val_loss: 0.8779 - val_mean_squared_error: 0.8721 - 47ms/epoch - 8ms/step\n",
      "Epoch 59/100\n",
      "6/6 - 0s - loss: 0.7247 - mean_squared_error: 0.7188 - val_loss: 0.8763 - val_mean_squared_error: 0.8705 - 49ms/epoch - 8ms/step\n",
      "Epoch 60/100\n",
      "6/6 - 0s - loss: 0.7148 - mean_squared_error: 0.7090 - val_loss: 0.8796 - val_mean_squared_error: 0.8738 - 50ms/epoch - 8ms/step\n",
      "Epoch 61/100\n",
      "6/6 - 0s - loss: 0.7248 - mean_squared_error: 0.7190 - val_loss: 0.8696 - val_mean_squared_error: 0.8638 - 51ms/epoch - 9ms/step\n",
      "Epoch 62/100\n",
      "6/6 - 0s - loss: 0.7086 - mean_squared_error: 0.7028 - val_loss: 0.8657 - val_mean_squared_error: 0.8599 - 51ms/epoch - 9ms/step\n",
      "Epoch 63/100\n",
      "6/6 - 0s - loss: 0.7303 - mean_squared_error: 0.7245 - val_loss: 0.8678 - val_mean_squared_error: 0.8620 - 50ms/epoch - 8ms/step\n",
      "Epoch 64/100\n",
      "6/6 - 0s - loss: 0.7231 - mean_squared_error: 0.7173 - val_loss: 0.8726 - val_mean_squared_error: 0.8669 - 50ms/epoch - 8ms/step\n",
      "Epoch 65/100\n",
      "6/6 - 0s - loss: 0.7191 - mean_squared_error: 0.7133 - val_loss: 0.8787 - val_mean_squared_error: 0.8729 - 49ms/epoch - 8ms/step\n",
      "Epoch 66/100\n",
      "6/6 - 0s - loss: 0.7254 - mean_squared_error: 0.7196 - val_loss: 0.8290 - val_mean_squared_error: 0.8232 - 48ms/epoch - 8ms/step\n",
      "Epoch 67/100\n",
      "6/6 - 0s - loss: 0.7423 - mean_squared_error: 0.7366 - val_loss: 0.8668 - val_mean_squared_error: 0.8610 - 47ms/epoch - 8ms/step\n",
      "Epoch 68/100\n",
      "6/6 - 0s - loss: 0.7095 - mean_squared_error: 0.7038 - val_loss: 0.8779 - val_mean_squared_error: 0.8721 - 48ms/epoch - 8ms/step\n",
      "Epoch 69/100\n",
      "6/6 - 0s - loss: 0.7194 - mean_squared_error: 0.7136 - val_loss: 0.8828 - val_mean_squared_error: 0.8770 - 50ms/epoch - 8ms/step\n",
      "Epoch 70/100\n",
      "6/6 - 0s - loss: 0.7245 - mean_squared_error: 0.7188 - val_loss: 0.8894 - val_mean_squared_error: 0.8837 - 52ms/epoch - 9ms/step\n",
      "Epoch 71/100\n",
      "6/6 - 0s - loss: 0.7259 - mean_squared_error: 0.7201 - val_loss: 0.8592 - val_mean_squared_error: 0.8535 - 49ms/epoch - 8ms/step\n",
      "Epoch 72/100\n",
      "6/6 - 0s - loss: 0.7390 - mean_squared_error: 0.7333 - val_loss: 0.8301 - val_mean_squared_error: 0.8244 - 47ms/epoch - 8ms/step\n",
      "Epoch 73/100\n",
      "6/6 - 0s - loss: 0.7207 - mean_squared_error: 0.7150 - val_loss: 0.8764 - val_mean_squared_error: 0.8707 - 49ms/epoch - 8ms/step\n",
      "Epoch 74/100\n",
      "6/6 - 0s - loss: 0.7268 - mean_squared_error: 0.7211 - val_loss: 0.8655 - val_mean_squared_error: 0.8598 - 50ms/epoch - 8ms/step\n",
      "Epoch 75/100\n",
      "6/6 - 0s - loss: 0.7265 - mean_squared_error: 0.7208 - val_loss: 0.8720 - val_mean_squared_error: 0.8663 - 48ms/epoch - 8ms/step\n",
      "Epoch 76/100\n",
      "6/6 - 0s - loss: 0.7155 - mean_squared_error: 0.7099 - val_loss: 0.8984 - val_mean_squared_error: 0.8928 - 49ms/epoch - 8ms/step\n",
      "Epoch 77/100\n",
      "6/6 - 0s - loss: 0.7290 - mean_squared_error: 0.7233 - val_loss: 0.8945 - val_mean_squared_error: 0.8889 - 48ms/epoch - 8ms/step\n",
      "Epoch 78/100\n",
      "6/6 - 0s - loss: 0.7121 - mean_squared_error: 0.7064 - val_loss: 0.8481 - val_mean_squared_error: 0.8424 - 49ms/epoch - 8ms/step\n",
      "Epoch 79/100\n",
      "6/6 - 0s - loss: 0.7245 - mean_squared_error: 0.7188 - val_loss: 0.8602 - val_mean_squared_error: 0.8545 - 49ms/epoch - 8ms/step\n",
      "Epoch 80/100\n",
      "6/6 - 0s - loss: 0.7081 - mean_squared_error: 0.7025 - val_loss: 0.8955 - val_mean_squared_error: 0.8899 - 48ms/epoch - 8ms/step\n",
      "Epoch 81/100\n",
      "6/6 - 0s - loss: 0.7277 - mean_squared_error: 0.7220 - val_loss: 0.8987 - val_mean_squared_error: 0.8931 - 47ms/epoch - 8ms/step\n",
      "Epoch 82/100\n",
      "6/6 - 0s - loss: 0.7279 - mean_squared_error: 0.7223 - val_loss: 0.8555 - val_mean_squared_error: 0.8498 - 49ms/epoch - 8ms/step\n",
      "Epoch 83/100\n",
      "6/6 - 0s - loss: 0.7277 - mean_squared_error: 0.7221 - val_loss: 0.8098 - val_mean_squared_error: 0.8042 - 48ms/epoch - 8ms/step\n",
      "Epoch 84/100\n",
      "6/6 - 0s - loss: 0.7228 - mean_squared_error: 0.7172 - val_loss: 0.8171 - val_mean_squared_error: 0.8115 - 48ms/epoch - 8ms/step\n",
      "Epoch 85/100\n",
      "6/6 - 0s - loss: 0.7165 - mean_squared_error: 0.7109 - val_loss: 0.8721 - val_mean_squared_error: 0.8664 - 50ms/epoch - 8ms/step\n",
      "Epoch 86/100\n",
      "6/6 - 0s - loss: 0.7101 - mean_squared_error: 0.7045 - val_loss: 0.8739 - val_mean_squared_error: 0.8683 - 49ms/epoch - 8ms/step\n",
      "Epoch 87/100\n",
      "6/6 - 0s - loss: 0.7094 - mean_squared_error: 0.7038 - val_loss: 0.8630 - val_mean_squared_error: 0.8574 - 49ms/epoch - 8ms/step\n",
      "Epoch 88/100\n",
      "6/6 - 0s - loss: 0.7128 - mean_squared_error: 0.7072 - val_loss: 0.8405 - val_mean_squared_error: 0.8348 - 49ms/epoch - 8ms/step\n",
      "Epoch 89/100\n",
      "6/6 - 0s - loss: 0.7221 - mean_squared_error: 0.7165 - val_loss: 0.8486 - val_mean_squared_error: 0.8430 - 48ms/epoch - 8ms/step\n",
      "Epoch 90/100\n",
      "6/6 - 0s - loss: 0.7160 - mean_squared_error: 0.7104 - val_loss: 0.8798 - val_mean_squared_error: 0.8742 - 49ms/epoch - 8ms/step\n",
      "Epoch 91/100\n",
      "6/6 - 0s - loss: 0.7032 - mean_squared_error: 0.6976 - val_loss: 0.8570 - val_mean_squared_error: 0.8514 - 48ms/epoch - 8ms/step\n",
      "Epoch 92/100\n",
      "6/6 - 0s - loss: 0.7160 - mean_squared_error: 0.7104 - val_loss: 0.8541 - val_mean_squared_error: 0.8485 - 62ms/epoch - 10ms/step\n",
      "Epoch 93/100\n",
      "6/6 - 0s - loss: 0.7131 - mean_squared_error: 0.7075 - val_loss: 0.8548 - val_mean_squared_error: 0.8492 - 52ms/epoch - 9ms/step\n",
      "Epoch 94/100\n",
      "6/6 - 0s - loss: 0.7218 - mean_squared_error: 0.7162 - val_loss: 0.8314 - val_mean_squared_error: 0.8258 - 47ms/epoch - 8ms/step\n",
      "Epoch 95/100\n",
      "6/6 - 0s - loss: 0.7164 - mean_squared_error: 0.7108 - val_loss: 0.8435 - val_mean_squared_error: 0.8379 - 48ms/epoch - 8ms/step\n",
      "Epoch 96/100\n",
      "6/6 - 0s - loss: 0.6988 - mean_squared_error: 0.6932 - val_loss: 0.8630 - val_mean_squared_error: 0.8574 - 47ms/epoch - 8ms/step\n",
      "Epoch 97/100\n",
      "6/6 - 0s - loss: 0.7141 - mean_squared_error: 0.7085 - val_loss: 0.8498 - val_mean_squared_error: 0.8443 - 49ms/epoch - 8ms/step\n",
      "Epoch 98/100\n",
      "6/6 - 0s - loss: 0.6909 - mean_squared_error: 0.6854 - val_loss: 0.8516 - val_mean_squared_error: 0.8460 - 49ms/epoch - 8ms/step\n",
      "Epoch 99/100\n",
      "6/6 - 0s - loss: 0.6885 - mean_squared_error: 0.6829 - val_loss: 0.8761 - val_mean_squared_error: 0.8705 - 47ms/epoch - 8ms/step\n",
      "Epoch 100/100\n",
      "6/6 - 0s - loss: 0.7114 - mean_squared_error: 0.7058 - val_loss: 0.8692 - val_mean_squared_error: 0.8636 - 49ms/epoch - 8ms/step\n"
     ]
    }
   ],
   "source": [
    "history = model.fit(train_data, train_targets, epochs=100, validation_split=0.15, batch_size=64, verbose=2)"
   ]
  },
  {
   "cell_type": "code",
   "execution_count": 23,
   "metadata": {},
   "outputs": [
    {
     "name": "stdout",
     "output_type": "stream",
     "text": [
      "2/2 - 0s - loss: 0.4244 - mean_squared_error: 0.4189 - 25ms/epoch - 13ms/step\n"
     ]
    },
    {
     "data": {
      "text/plain": [
       "[0.42444801330566406, 0.41886791586875916]"
      ]
     },
     "execution_count": 23,
     "metadata": {},
     "output_type": "execute_result"
    }
   ],
   "source": [
    "model.evaluate(test_data, test_targets, verbose=2)\n"
   ]
  },
  {
   "cell_type": "code",
   "execution_count": 24,
   "metadata": {},
   "outputs": [
    {
     "data": {
      "image/png": "[encoded data removed]",
      "text/plain": [
       "<Figure size 432x288 with 1 Axes>"
      ]
     },
     "metadata": {
      "needs_background": "light"
     },
     "output_type": "display_data"
    }
   ],
   "source": [
    "plt.plot(history.history['loss'])\n",
    "plt.plot(history.history['val_loss'])\n",
    "plt.title('Loss vs. epochs')\n",
    "plt.ylabel('Loss')\n",
    "plt.xlabel('Epoch')\n",
    "plt.legend(['Training', 'Validation'], loc='upper right')\n",
    "plt.show()"
   ]
  },
  {
   "cell_type": "markdown",
   "metadata": {},
   "source": [
    "### Normalização por lote"
   ]
  },
  {
   "cell_type": "code",
   "execution_count": 25,
   "metadata": {},
   "outputs": [],
   "source": [
    "from tensorflow.keras.models import Sequential\n",
    "from tensorflow.keras.layers import Flatten, Dense, Conv2D, MaxPooling2D, BatchNormalization, Dropout"
   ]
  },
  {
   "cell_type": "code",
   "execution_count": 26,
   "metadata": {},
   "outputs": [],
   "source": [
    "#Criando o modelo\n",
    "def get_batch_model():\n",
    "    model = Sequential([\n",
    "    Dense(64, input_shape=[train_data.shape[1],], activation=\"relu\"),\n",
    "    BatchNormalization(),  # <- Batch normalisation layer\n",
    "    Dropout(0.5),\n",
    "    BatchNormalization(),  # <- Batch normalisation layer\n",
    "    Dropout(0.5),\n",
    "    Dense(256, activation='relu'),\n",
    " \n",
    "])\n",
    "    \n",
    "    return model"
   ]
  },
  {
   "cell_type": "code",
   "execution_count": 27,
   "metadata": {},
   "outputs": [],
   "source": [
    "model = get_batch_model()"
   ]
  },
  {
   "cell_type": "code",
   "execution_count": 28,
   "metadata": {},
   "outputs": [
    {
     "name": "stdout",
     "output_type": "stream",
     "text": [
      "Model: \"sequential_2\"\n",
      "_________________________________________________________________\n",
      " Layer (type)                Output Shape              Param #   \n",
      "=================================================================\n",
      " dense_14 (Dense)            (None, 64)                704       \n",
      "                                                                 \n",
      " batch_normalization (BatchN  (None, 64)               256       \n",
      " ormalization)                                                   \n",
      "                                                                 \n",
      " dropout_6 (Dropout)         (None, 64)                0         \n",
      "                                                                 \n",
      " batch_normalization_1 (Batc  (None, 64)               256       \n",
      " hNormalization)                                                 \n",
      "                                                                 \n",
      " dropout_7 (Dropout)         (None, 64)                0         \n",
      "                                                                 \n",
      " dense_15 (Dense)            (None, 256)               16640     \n",
      "                                                                 \n",
      "=================================================================\n",
      "Total params: 17,856\n",
      "Trainable params: 17,600\n",
      "Non-trainable params: 256\n",
      "_________________________________________________________________\n"
     ]
    }
   ],
   "source": [
    "model.summary()"
   ]
  },
  {
   "cell_type": "code",
   "execution_count": 29,
   "metadata": {},
   "outputs": [],
   "source": [
    "#Definindo as configurações do lote\n",
    "model.add(tf.keras.layers.BatchNormalization(\n",
    "    momentum=0.95,\n",
    "    epsilon=0.005,\n",
    "    axis=-1,\n",
    "    beta_initializer=tf.initializers.RandomNormal(mean=0.0, stddev=0.05),\n",
    "    gamma_initializer=tf.keras.initializers.Constant(value=0.5)\n",
    "))"
   ]
  },
  {
   "cell_type": "code",
   "execution_count": 30,
   "metadata": {},
   "outputs": [],
   "source": [
    "model.add(Dense(1, activation='sigmoid'))"
   ]
  },
  {
   "cell_type": "code",
   "execution_count": 31,
   "metadata": {},
   "outputs": [],
   "source": [
    "opt = tf.keras.optimizers.Adam()\n",
    "\n",
    "model.compile(\n",
    "    optimizer=opt,\n",
    "    loss='mse',\n",
    "    metrics=['mse']\n",
    ")"
   ]
  },
  {
   "cell_type": "code",
   "execution_count": 32,
   "metadata": {},
   "outputs": [
    {
     "name": "stdout",
     "output_type": "stream",
     "text": [
      "Epoch 1/100\n",
      "6/6 - 2s - loss: 1.2304 - mse: 1.2304 - val_loss: 1.2215 - val_mse: 1.2215 - 2s/epoch - 274ms/step\n",
      "Epoch 2/100\n",
      "6/6 - 0s - loss: 1.0817 - mse: 1.0817 - val_loss: 1.1994 - val_mse: 1.1994 - 43ms/epoch - 7ms/step\n",
      "Epoch 3/100\n",
      "6/6 - 0s - loss: 0.9767 - mse: 0.9767 - val_loss: 1.1809 - val_mse: 1.1809 - 44ms/epoch - 7ms/step\n",
      "Epoch 4/100\n",
      "6/6 - 0s - loss: 0.9265 - mse: 0.9265 - val_loss: 1.1690 - val_mse: 1.1690 - 45ms/epoch - 8ms/step\n",
      "Epoch 5/100\n",
      "6/6 - 0s - loss: 0.8842 - mse: 0.8842 - val_loss: 1.1622 - val_mse: 1.1622 - 43ms/epoch - 7ms/step\n",
      "Epoch 6/100\n",
      "6/6 - 0s - loss: 0.8309 - mse: 0.8309 - val_loss: 1.1589 - val_mse: 1.1589 - 42ms/epoch - 7ms/step\n",
      "Epoch 7/100\n",
      "6/6 - 0s - loss: 0.8599 - mse: 0.8599 - val_loss: 1.1587 - val_mse: 1.1587 - 41ms/epoch - 7ms/step\n",
      "Epoch 8/100\n",
      "6/6 - 0s - loss: 0.8377 - mse: 0.8377 - val_loss: 1.1588 - val_mse: 1.1588 - 41ms/epoch - 7ms/step\n",
      "Epoch 9/100\n",
      "6/6 - 0s - loss: 0.8554 - mse: 0.8554 - val_loss: 1.1604 - val_mse: 1.1604 - 41ms/epoch - 7ms/step\n",
      "Epoch 10/100\n",
      "6/6 - 0s - loss: 0.8100 - mse: 0.8100 - val_loss: 1.1644 - val_mse: 1.1644 - 43ms/epoch - 7ms/step\n",
      "Epoch 11/100\n",
      "6/6 - 0s - loss: 0.8205 - mse: 0.8205 - val_loss: 1.1685 - val_mse: 1.1685 - 45ms/epoch - 8ms/step\n",
      "Epoch 12/100\n",
      "6/6 - 0s - loss: 0.8106 - mse: 0.8106 - val_loss: 1.1743 - val_mse: 1.1743 - 48ms/epoch - 8ms/step\n",
      "Epoch 13/100\n",
      "6/6 - 0s - loss: 0.8070 - mse: 0.8070 - val_loss: 1.1774 - val_mse: 1.1774 - 53ms/epoch - 9ms/step\n",
      "Epoch 14/100\n",
      "6/6 - 0s - loss: 0.7800 - mse: 0.7800 - val_loss: 1.1801 - val_mse: 1.1801 - 63ms/epoch - 11ms/step\n",
      "Epoch 15/100\n",
      "6/6 - 0s - loss: 0.7877 - mse: 0.7877 - val_loss: 1.1856 - val_mse: 1.1856 - 56ms/epoch - 9ms/step\n",
      "Epoch 16/100\n",
      "6/6 - 0s - loss: 0.7747 - mse: 0.7747 - val_loss: 1.1895 - val_mse: 1.1895 - 52ms/epoch - 9ms/step\n",
      "Epoch 17/100\n",
      "6/6 - 0s - loss: 0.7622 - mse: 0.7622 - val_loss: 1.1916 - val_mse: 1.1916 - 44ms/epoch - 7ms/step\n",
      "Epoch 18/100\n",
      "6/6 - 0s - loss: 0.7825 - mse: 0.7825 - val_loss: 1.1913 - val_mse: 1.1913 - 44ms/epoch - 7ms/step\n",
      "Epoch 19/100\n",
      "6/6 - 0s - loss: 0.7581 - mse: 0.7581 - val_loss: 1.1913 - val_mse: 1.1913 - 43ms/epoch - 7ms/step\n",
      "Epoch 20/100\n",
      "6/6 - 0s - loss: 0.7664 - mse: 0.7664 - val_loss: 1.1924 - val_mse: 1.1924 - 42ms/epoch - 7ms/step\n",
      "Epoch 21/100\n",
      "6/6 - 0s - loss: 0.7884 - mse: 0.7884 - val_loss: 1.1936 - val_mse: 1.1936 - 42ms/epoch - 7ms/step\n",
      "Epoch 22/100\n",
      "6/6 - 0s - loss: 0.7814 - mse: 0.7814 - val_loss: 1.1934 - val_mse: 1.1934 - 42ms/epoch - 7ms/step\n",
      "Epoch 23/100\n",
      "6/6 - 0s - loss: 0.7541 - mse: 0.7541 - val_loss: 1.1922 - val_mse: 1.1922 - 43ms/epoch - 7ms/step\n",
      "Epoch 24/100\n",
      "6/6 - 0s - loss: 0.7387 - mse: 0.7387 - val_loss: 1.1914 - val_mse: 1.1914 - 41ms/epoch - 7ms/step\n",
      "Epoch 25/100\n",
      "6/6 - 0s - loss: 0.7689 - mse: 0.7689 - val_loss: 1.1915 - val_mse: 1.1915 - 41ms/epoch - 7ms/step\n",
      "Epoch 26/100\n",
      "6/6 - 0s - loss: 0.7701 - mse: 0.7701 - val_loss: 1.1908 - val_mse: 1.1908 - 41ms/epoch - 7ms/step\n",
      "Epoch 27/100\n",
      "6/6 - 0s - loss: 0.7442 - mse: 0.7442 - val_loss: 1.1920 - val_mse: 1.1920 - 42ms/epoch - 7ms/step\n",
      "Epoch 28/100\n",
      "6/6 - 0s - loss: 0.7856 - mse: 0.7856 - val_loss: 1.1934 - val_mse: 1.1934 - 41ms/epoch - 7ms/step\n",
      "Epoch 29/100\n",
      "6/6 - 0s - loss: 0.7480 - mse: 0.7480 - val_loss: 1.1905 - val_mse: 1.1905 - 39ms/epoch - 7ms/step\n",
      "Epoch 30/100\n",
      "6/6 - 0s - loss: 0.7418 - mse: 0.7418 - val_loss: 1.1864 - val_mse: 1.1864 - 41ms/epoch - 7ms/step\n",
      "Epoch 31/100\n",
      "6/6 - 0s - loss: 0.7789 - mse: 0.7789 - val_loss: 1.1848 - val_mse: 1.1848 - 41ms/epoch - 7ms/step\n",
      "Epoch 32/100\n",
      "6/6 - 0s - loss: 0.7496 - mse: 0.7496 - val_loss: 1.1818 - val_mse: 1.1818 - 41ms/epoch - 7ms/step\n",
      "Epoch 33/100\n",
      "6/6 - 0s - loss: 0.7376 - mse: 0.7376 - val_loss: 1.1819 - val_mse: 1.1819 - 41ms/epoch - 7ms/step\n",
      "Epoch 34/100\n",
      "6/6 - 0s - loss: 0.7569 - mse: 0.7569 - val_loss: 1.1831 - val_mse: 1.1831 - 41ms/epoch - 7ms/step\n",
      "Epoch 35/100\n",
      "6/6 - 0s - loss: 0.7719 - mse: 0.7719 - val_loss: 1.1814 - val_mse: 1.1814 - 45ms/epoch - 8ms/step\n",
      "Epoch 36/100\n",
      "6/6 - 0s - loss: 0.7425 - mse: 0.7425 - val_loss: 1.1824 - val_mse: 1.1824 - 40ms/epoch - 7ms/step\n",
      "Epoch 37/100\n",
      "6/6 - 0s - loss: 0.7767 - mse: 0.7767 - val_loss: 1.1798 - val_mse: 1.1798 - 40ms/epoch - 7ms/step\n",
      "Epoch 38/100\n",
      "6/6 - 0s - loss: 0.7689 - mse: 0.7689 - val_loss: 1.1760 - val_mse: 1.1760 - 45ms/epoch - 7ms/step\n",
      "Epoch 39/100\n",
      "6/6 - 0s - loss: 0.7215 - mse: 0.7215 - val_loss: 1.1751 - val_mse: 1.1751 - 59ms/epoch - 10ms/step\n",
      "Epoch 40/100\n",
      "6/6 - 0s - loss: 0.7447 - mse: 0.7447 - val_loss: 1.1735 - val_mse: 1.1735 - 43ms/epoch - 7ms/step\n",
      "Epoch 41/100\n",
      "6/6 - 0s - loss: 0.7458 - mse: 0.7458 - val_loss: 1.1725 - val_mse: 1.1725 - 41ms/epoch - 7ms/step\n",
      "Epoch 42/100\n",
      "6/6 - 0s - loss: 0.7464 - mse: 0.7464 - val_loss: 1.1681 - val_mse: 1.1681 - 43ms/epoch - 7ms/step\n",
      "Epoch 43/100\n",
      "6/6 - 0s - loss: 0.7538 - mse: 0.7538 - val_loss: 1.1668 - val_mse: 1.1668 - 40ms/epoch - 7ms/step\n",
      "Epoch 44/100\n",
      "6/6 - 0s - loss: 0.7424 - mse: 0.7424 - val_loss: 1.1641 - val_mse: 1.1641 - 41ms/epoch - 7ms/step\n",
      "Epoch 45/100\n",
      "6/6 - 0s - loss: 0.7445 - mse: 0.7445 - val_loss: 1.1601 - val_mse: 1.1601 - 41ms/epoch - 7ms/step\n",
      "Epoch 46/100\n",
      "6/6 - 0s - loss: 0.7354 - mse: 0.7354 - val_loss: 1.1557 - val_mse: 1.1557 - 40ms/epoch - 7ms/step\n",
      "Epoch 47/100\n",
      "6/6 - 0s - loss: 0.7255 - mse: 0.7255 - val_loss: 1.1586 - val_mse: 1.1586 - 40ms/epoch - 7ms/step\n",
      "Epoch 48/100\n",
      "6/6 - 0s - loss: 0.7504 - mse: 0.7504 - val_loss: 1.1610 - val_mse: 1.1610 - 40ms/epoch - 7ms/step\n",
      "Epoch 49/100\n",
      "6/6 - 0s - loss: 0.7382 - mse: 0.7382 - val_loss: 1.1566 - val_mse: 1.1566 - 39ms/epoch - 7ms/step\n",
      "Epoch 50/100\n",
      "6/6 - 0s - loss: 0.7446 - mse: 0.7446 - val_loss: 1.1531 - val_mse: 1.1531 - 40ms/epoch - 7ms/step\n",
      "Epoch 51/100\n",
      "6/6 - 0s - loss: 0.7479 - mse: 0.7479 - val_loss: 1.1477 - val_mse: 1.1477 - 41ms/epoch - 7ms/step\n",
      "Epoch 52/100\n",
      "6/6 - 0s - loss: 0.7234 - mse: 0.7234 - val_loss: 1.1439 - val_mse: 1.1439 - 40ms/epoch - 7ms/step\n",
      "Epoch 53/100\n",
      "6/6 - 0s - loss: 0.7274 - mse: 0.7274 - val_loss: 1.1396 - val_mse: 1.1396 - 41ms/epoch - 7ms/step\n",
      "Epoch 54/100\n",
      "6/6 - 0s - loss: 0.7254 - mse: 0.7254 - val_loss: 1.1355 - val_mse: 1.1355 - 44ms/epoch - 7ms/step\n",
      "Epoch 55/100\n",
      "6/6 - 0s - loss: 0.7194 - mse: 0.7194 - val_loss: 1.1266 - val_mse: 1.1266 - 41ms/epoch - 7ms/step\n",
      "Epoch 56/100\n",
      "6/6 - 0s - loss: 0.7336 - mse: 0.7336 - val_loss: 1.1185 - val_mse: 1.1185 - 42ms/epoch - 7ms/step\n",
      "Epoch 57/100\n",
      "6/6 - 0s - loss: 0.7495 - mse: 0.7495 - val_loss: 1.1162 - val_mse: 1.1162 - 41ms/epoch - 7ms/step\n",
      "Epoch 58/100\n",
      "6/6 - 0s - loss: 0.7360 - mse: 0.7360 - val_loss: 1.1108 - val_mse: 1.1108 - 41ms/epoch - 7ms/step\n",
      "Epoch 59/100\n",
      "6/6 - 0s - loss: 0.7217 - mse: 0.7217 - val_loss: 1.1024 - val_mse: 1.1024 - 41ms/epoch - 7ms/step\n",
      "Epoch 60/100\n",
      "6/6 - 0s - loss: 0.7472 - mse: 0.7472 - val_loss: 1.0984 - val_mse: 1.0984 - 44ms/epoch - 7ms/step\n",
      "Epoch 61/100\n",
      "6/6 - 0s - loss: 0.7626 - mse: 0.7626 - val_loss: 1.0943 - val_mse: 1.0943 - 42ms/epoch - 7ms/step\n",
      "Epoch 62/100\n",
      "6/6 - 0s - loss: 0.7322 - mse: 0.7322 - val_loss: 1.0936 - val_mse: 1.0936 - 42ms/epoch - 7ms/step\n",
      "Epoch 63/100\n",
      "6/6 - 0s - loss: 0.7391 - mse: 0.7391 - val_loss: 1.0841 - val_mse: 1.0841 - 40ms/epoch - 7ms/step\n",
      "Epoch 64/100\n",
      "6/6 - 0s - loss: 0.7409 - mse: 0.7409 - val_loss: 1.0723 - val_mse: 1.0723 - 41ms/epoch - 7ms/step\n",
      "Epoch 65/100\n",
      "6/6 - 0s - loss: 0.7335 - mse: 0.7335 - val_loss: 1.0599 - val_mse: 1.0599 - 45ms/epoch - 8ms/step\n",
      "Epoch 66/100\n",
      "6/6 - 0s - loss: 0.7691 - mse: 0.7691 - val_loss: 1.0551 - val_mse: 1.0551 - 43ms/epoch - 7ms/step\n",
      "Epoch 67/100\n",
      "6/6 - 0s - loss: 0.7251 - mse: 0.7251 - val_loss: 1.0457 - val_mse: 1.0457 - 44ms/epoch - 7ms/step\n",
      "Epoch 68/100\n",
      "6/6 - 0s - loss: 0.7434 - mse: 0.7434 - val_loss: 1.0385 - val_mse: 1.0385 - 41ms/epoch - 7ms/step\n",
      "Epoch 69/100\n",
      "6/6 - 0s - loss: 0.7000 - mse: 0.7000 - val_loss: 1.0281 - val_mse: 1.0281 - 43ms/epoch - 7ms/step\n",
      "Epoch 70/100\n",
      "6/6 - 0s - loss: 0.7360 - mse: 0.7360 - val_loss: 1.0291 - val_mse: 1.0291 - 42ms/epoch - 7ms/step\n",
      "Epoch 71/100\n",
      "6/6 - 0s - loss: 0.7395 - mse: 0.7395 - val_loss: 1.0263 - val_mse: 1.0263 - 40ms/epoch - 7ms/step\n",
      "Epoch 72/100\n",
      "6/6 - 0s - loss: 0.7308 - mse: 0.7308 - val_loss: 1.0237 - val_mse: 1.0237 - 44ms/epoch - 7ms/step\n",
      "Epoch 73/100\n",
      "6/6 - 0s - loss: 0.7502 - mse: 0.7502 - val_loss: 1.0198 - val_mse: 1.0198 - 41ms/epoch - 7ms/step\n",
      "Epoch 74/100\n",
      "6/6 - 0s - loss: 0.7397 - mse: 0.7397 - val_loss: 1.0128 - val_mse: 1.0128 - 45ms/epoch - 8ms/step\n",
      "Epoch 75/100\n",
      "6/6 - 0s - loss: 0.7367 - mse: 0.7367 - val_loss: 1.0069 - val_mse: 1.0069 - 40ms/epoch - 7ms/step\n",
      "Epoch 76/100\n",
      "6/6 - 0s - loss: 0.7505 - mse: 0.7505 - val_loss: 1.0007 - val_mse: 1.0007 - 51ms/epoch - 9ms/step\n",
      "Epoch 77/100\n",
      "6/6 - 0s - loss: 0.7468 - mse: 0.7468 - val_loss: 0.9847 - val_mse: 0.9847 - 46ms/epoch - 8ms/step\n",
      "Epoch 78/100\n",
      "6/6 - 0s - loss: 0.7253 - mse: 0.7253 - val_loss: 0.9693 - val_mse: 0.9693 - 41ms/epoch - 7ms/step\n",
      "Epoch 79/100\n",
      "6/6 - 0s - loss: 0.7610 - mse: 0.7610 - val_loss: 0.9529 - val_mse: 0.9529 - 41ms/epoch - 7ms/step\n",
      "Epoch 80/100\n",
      "6/6 - 0s - loss: 0.7282 - mse: 0.7282 - val_loss: 0.9455 - val_mse: 0.9455 - 40ms/epoch - 7ms/step\n",
      "Epoch 81/100\n",
      "6/6 - 0s - loss: 0.7381 - mse: 0.7381 - val_loss: 0.9306 - val_mse: 0.9306 - 41ms/epoch - 7ms/step\n",
      "Epoch 82/100\n",
      "6/6 - 0s - loss: 0.7437 - mse: 0.7437 - val_loss: 0.9181 - val_mse: 0.9181 - 40ms/epoch - 7ms/step\n",
      "Epoch 83/100\n",
      "6/6 - 0s - loss: 0.7566 - mse: 0.7566 - val_loss: 0.9077 - val_mse: 0.9077 - 41ms/epoch - 7ms/step\n",
      "Epoch 84/100\n",
      "6/6 - 0s - loss: 0.7269 - mse: 0.7269 - val_loss: 0.9039 - val_mse: 0.9039 - 41ms/epoch - 7ms/step\n",
      "Epoch 85/100\n",
      "6/6 - 0s - loss: 0.7430 - mse: 0.7430 - val_loss: 0.8972 - val_mse: 0.8972 - 40ms/epoch - 7ms/step\n",
      "Epoch 86/100\n",
      "6/6 - 0s - loss: 0.7404 - mse: 0.7404 - val_loss: 0.8935 - val_mse: 0.8935 - 42ms/epoch - 7ms/step\n",
      "Epoch 87/100\n",
      "6/6 - 0s - loss: 0.7311 - mse: 0.7311 - val_loss: 0.8903 - val_mse: 0.8903 - 42ms/epoch - 7ms/step\n",
      "Epoch 88/100\n",
      "6/6 - 0s - loss: 0.7504 - mse: 0.7504 - val_loss: 0.8833 - val_mse: 0.8833 - 44ms/epoch - 7ms/step\n",
      "Epoch 89/100\n",
      "6/6 - 0s - loss: 0.7204 - mse: 0.7204 - val_loss: 0.8823 - val_mse: 0.8823 - 43ms/epoch - 7ms/step\n",
      "Epoch 90/100\n",
      "6/6 - 0s - loss: 0.7237 - mse: 0.7237 - val_loss: 0.8750 - val_mse: 0.8750 - 40ms/epoch - 7ms/step\n",
      "Epoch 91/100\n",
      "6/6 - 0s - loss: 0.7339 - mse: 0.7339 - val_loss: 0.8730 - val_mse: 0.8730 - 41ms/epoch - 7ms/step\n",
      "Epoch 92/100\n",
      "6/6 - 0s - loss: 0.7473 - mse: 0.7473 - val_loss: 0.8671 - val_mse: 0.8671 - 42ms/epoch - 7ms/step\n",
      "Epoch 93/100\n",
      "6/6 - 0s - loss: 0.7385 - mse: 0.7385 - val_loss: 0.8652 - val_mse: 0.8652 - 44ms/epoch - 7ms/step\n",
      "Epoch 94/100\n",
      "6/6 - 0s - loss: 0.7679 - mse: 0.7679 - val_loss: 0.8683 - val_mse: 0.8683 - 44ms/epoch - 7ms/step\n",
      "Epoch 95/100\n",
      "6/6 - 0s - loss: 0.7150 - mse: 0.7150 - val_loss: 0.8589 - val_mse: 0.8589 - 40ms/epoch - 7ms/step\n",
      "Epoch 96/100\n",
      "6/6 - 0s - loss: 0.7330 - mse: 0.7330 - val_loss: 0.8525 - val_mse: 0.8525 - 40ms/epoch - 7ms/step\n",
      "Epoch 97/100\n",
      "6/6 - 0s - loss: 0.7173 - mse: 0.7173 - val_loss: 0.8524 - val_mse: 0.8524 - 41ms/epoch - 7ms/step\n",
      "Epoch 98/100\n",
      "6/6 - 0s - loss: 0.7291 - mse: 0.7291 - val_loss: 0.8558 - val_mse: 0.8558 - 43ms/epoch - 7ms/step\n",
      "Epoch 99/100\n",
      "6/6 - 0s - loss: 0.7313 - mse: 0.7313 - val_loss: 0.8613 - val_mse: 0.8613 - 41ms/epoch - 7ms/step\n",
      "Epoch 100/100\n",
      "6/6 - 0s - loss: 0.7122 - mse: 0.7122 - val_loss: 0.8671 - val_mse: 0.8671 - 42ms/epoch - 7ms/step\n"
     ]
    }
   ],
   "source": [
    "history = model.fit(train_data, train_targets, epochs=100, validation_split=0.15, batch_size=64,verbose=2)"
   ]
  },
  {
   "cell_type": "code",
   "execution_count": 33,
   "metadata": {},
   "outputs": [
    {
     "name": "stdout",
     "output_type": "stream",
     "text": [
      "2/2 - 0s - loss: 0.4508 - mse: 0.4508 - 24ms/epoch - 12ms/step\n"
     ]
    },
    {
     "data": {
      "text/plain": [
       "[0.45079123973846436, 0.45079123973846436]"
      ]
     },
     "execution_count": 33,
     "metadata": {},
     "output_type": "execute_result"
    }
   ],
   "source": [
    "model.evaluate(test_data, test_targets, verbose=2)"
   ]
  },
  {
   "cell_type": "code",
   "execution_count": 34,
   "metadata": {},
   "outputs": [
    {
     "data": {
      "text/plain": [
       "<matplotlib.legend.Legend at 0x236c7a58e80>"
      ]
     },
     "execution_count": 34,
     "metadata": {},
     "output_type": "execute_result"
    },
    {
     "data": {
      "image/png": "[encoded data removed]",
      "text/plain": [
       "<Figure size 864x288 with 2 Axes>"
      ]
     },
     "metadata": {
      "needs_background": "light"
     },
     "output_type": "display_data"
    }
   ],
   "source": [
    "# Criando grafico de Perda e Precisão\n",
    "\n",
    "import pandas as pd\n",
    "import numpy as np\n",
    "import matplotlib.pyplot as plt\n",
    "%matplotlib inline\n",
    "\n",
    "frame = pd.DataFrame(history.history)\n",
    "epochs = np.arange(len(frame))\n",
    "\n",
    "fig = plt.figure(figsize=(12,4))\n",
    "\n",
    "# Perda\n",
    "ax = fig.add_subplot(121)\n",
    "ax.plot(epochs, frame['loss'], label=\"Train\")\n",
    "ax.plot(epochs, frame['val_loss'], label=\"Validation\")\n",
    "ax.set_xlabel(\"Epochs\")\n",
    "ax.set_ylabel(\"Loss\")\n",
    "ax.set_title(\"Loss vs Epochs\")\n",
    "ax.legend()\n",
    "\n",
    "# Precisão\n",
    "ax = fig.add_subplot(122)\n",
    "ax.plot(epochs, frame['mse'], label=\"Train\")\n",
    "ax.plot(epochs, frame['val_mse'], label=\"Validation\")\n",
    "ax.set_xlabel(\"Epochs\")\n",
    "ax.set_ylabel(\"Mean Absolute Error\")\n",
    "ax.set_title(\"Mean Absolute Error vs Epochs\")\n",
    "ax.legend()"
   ]
  },
  {
   "cell_type": "markdown",
   "metadata": {},
   "source": [
    "### Aprendendo a utilizar Callbacks simples"
   ]
  },
  {
   "cell_type": "code",
   "execution_count": 35,
   "metadata": {},
   "outputs": [],
   "source": [
    "from tensorflow.keras.callbacks import Callback"
   ]
  },
  {
   "cell_type": "code",
   "execution_count": 37,
   "metadata": {},
   "outputs": [],
   "source": [
    "#Exemplo de callback de treinamento\n",
    "\n",
    "class TrainingCallback(Callback):\n",
    "\n",
    "  def on_train_begin(self, log=None):\n",
    "    print(\"Começando o Treinamento...\")\n",
    "\n",
    "  def on_epoch_begin(self, epoch, logs=None):\n",
    "    print(f\"Começando as epoch {epoch} \")\n",
    "\n",
    "  def on_train_batch_begin(self, batch, logs=None):\n",
    "    print(f\"Treinamento: Comçando batch {batch}\")\n",
    "\n",
    "  def on_train_batch_end(self, batch, logs=None):\n",
    "    print(f\"Treinamento: Terminando batch {batch}\")\n",
    "\n",
    "  def on_epoch_end(self, epoch, logs=None):\n",
    "    print(f\"Terminando epoch {epoch}\")\n",
    "\n",
    "  def on_train_end(self, logs=None):\n",
    "    print(\"Terminando treinamento!\")"
   ]
  },
  {
   "cell_type": "code",
   "execution_count": 38,
   "metadata": {},
   "outputs": [],
   "source": [
    "#Exemplos de Callbacks de teste\n",
    "\n",
    "class TestCallback(Callback):\n",
    "    \n",
    "    def on_test_begin(self, logs=None):\n",
    "        print(\"Começando o teste...\")\n",
    "\n",
    "    def on_test_batch_begin(self, batch, logs=None):\n",
    "        print(f\"Teste: Começando batch {batch}\")\n",
    "\n",
    "    def on_test_batch_end(self, batch, logs=None):\n",
    "        print(f\"Teste: Terminando batch {batch}\")  \n",
    "\n",
    "    def on_test_end(self, logs=None):\n",
    "        print(\"Terminando treinamento!\")     "
   ]
  },
  {
   "cell_type": "code",
   "execution_count": 39,
   "metadata": {},
   "outputs": [],
   "source": [
    "#Exemplo de Callback de Previsão\n",
    "\n",
    "class PredictionCallback(Callback):\n",
    "    \n",
    "    def on_predict_begin(self, logs=None):\n",
    "        print(\"Começando previão...\")\n",
    "\n",
    "    def on_predict_batch_begin(self, batch, logs=None):\n",
    "        print(f\"Previsão: Comaçando batch {batch}\")\n",
    "\n",
    "    def on_predict_batch_end(self, batch, logs=None):\n",
    "        print(f\"Previsão: Terminando batch {batch}\")\n",
    "    \n",
    "    def on_predict_end(self, logs=None):\n",
    "        print(\"Terminando a previsão!\")\n",
    "         "
   ]
  },
  {
   "cell_type": "code",
   "execution_count": 40,
   "metadata": {},
   "outputs": [],
   "source": [
    "model = get_regularised_model(1e-5, 0.3)"
   ]
  },
  {
   "cell_type": "code",
   "execution_count": 41,
   "metadata": {},
   "outputs": [],
   "source": [
    "model.compile(optimizer=\"adam\", loss=\"mse\")"
   ]
  },
  {
   "cell_type": "code",
   "execution_count": 42,
   "metadata": {},
   "outputs": [
    {
     "name": "stdout",
     "output_type": "stream",
     "text": [
      "Começando o Treinamento...\n",
      "Começando as epoch 0 \n",
      "Treinamento: Comçando batch 0\n",
      "Treinamento: Terminando batch 0\n",
      "Treinamento: Comçando batch 1\n",
      "Treinamento: Terminando batch 1\n",
      "Treinamento: Comçando batch 2\n",
      "Treinamento: Terminando batch 2\n",
      "Treinamento: Comçando batch 3\n",
      "Treinamento: Terminando batch 3\n",
      "Terminando epoch 0\n",
      "Começando as epoch 1 \n",
      "Treinamento: Comçando batch 0\n",
      "Treinamento: Terminando batch 0\n",
      "Treinamento: Comçando batch 1\n",
      "Treinamento: Terminando batch 1\n",
      "Treinamento: Comçando batch 2\n",
      "Treinamento: Terminando batch 2\n",
      "Treinamento: Comçando batch 3\n",
      "Treinamento: Terminando batch 3\n",
      "Terminando epoch 1\n",
      "Começando as epoch 2 \n",
      "Treinamento: Comçando batch 0\n",
      "Treinamento: Terminando batch 0\n",
      "Treinamento: Comçando batch 1\n",
      "Treinamento: Terminando batch 1\n",
      "Treinamento: Comçando batch 2\n",
      "Treinamento: Terminando batch 2\n",
      "Treinamento: Comçando batch 3\n",
      "Treinamento: Terminando batch 3\n",
      "Terminando epoch 2\n",
      "Terminando treinamento!\n"
     ]
    },
    {
     "data": {
      "text/plain": [
       "<keras.callbacks.History at 0x236c7af5c40>"
      ]
     },
     "execution_count": 42,
     "metadata": {},
     "output_type": "execute_result"
    }
   ],
   "source": [
    "model.fit(train_data, train_targets, epochs=3, batch_size=128, verbose=False, callbacks=[TrainingCallback()])"
   ]
  },
  {
   "cell_type": "code",
   "execution_count": 43,
   "metadata": {},
   "outputs": [
    {
     "name": "stdout",
     "output_type": "stream",
     "text": [
      "Começando o teste...\n",
      "Teste: Começando batch 0\n",
      "Teste: Terminando batch 0\n",
      "Teste: Começando batch 1\n",
      "Teste: Terminando batch 1\n",
      "Terminando treinamento!\n"
     ]
    },
    {
     "data": {
      "text/plain": [
       "0.8059305548667908"
      ]
     },
     "execution_count": 43,
     "metadata": {},
     "output_type": "execute_result"
    }
   ],
   "source": [
    "model.evaluate(test_data, test_targets, verbose=False, callbacks=[TestCallback()])"
   ]
  },
  {
   "cell_type": "code",
   "execution_count": 44,
   "metadata": {},
   "outputs": [
    {
     "name": "stdout",
     "output_type": "stream",
     "text": [
      "Começando previão...\n",
      "Previsão: Comaçando batch 0\n",
      "Previsão: Terminando batch 0\n",
      "Previsão: Comaçando batch 1\n",
      "Previsão: Terminando batch 1\n",
      "Terminando a previsão!\n"
     ]
    },
    {
     "data": {
      "text/plain": [
       "array([[0.38112897],\n",
       "       [0.36487216],\n",
       "       [0.38215655],\n",
       "       [0.3629067 ],\n",
       "       [0.37973082],\n",
       "       [0.38419825],\n",
       "       [0.37876508],\n",
       "       [0.3775453 ],\n",
       "       [0.38076952],\n",
       "       [0.3557431 ],\n",
       "       [0.35901543],\n",
       "       [0.38888898],\n",
       "       [0.36342555],\n",
       "       [0.3913422 ],\n",
       "       [0.36697027],\n",
       "       [0.34965703],\n",
       "       [0.38431165],\n",
       "       [0.36746216],\n",
       "       [0.38367546],\n",
       "       [0.36732787],\n",
       "       [0.37924987],\n",
       "       [0.37368184],\n",
       "       [0.36004645],\n",
       "       [0.37467974],\n",
       "       [0.37068993],\n",
       "       [0.3719381 ],\n",
       "       [0.35358965],\n",
       "       [0.3742203 ],\n",
       "       [0.38610402],\n",
       "       [0.38802254],\n",
       "       [0.3639376 ],\n",
       "       [0.3815884 ],\n",
       "       [0.3796404 ],\n",
       "       [0.36950245],\n",
       "       [0.37927288],\n",
       "       [0.3668363 ],\n",
       "       [0.37343824],\n",
       "       [0.35410103],\n",
       "       [0.3851383 ],\n",
       "       [0.37485498],\n",
       "       [0.3791463 ],\n",
       "       [0.37877178],\n",
       "       [0.3662842 ],\n",
       "       [0.35620072],\n",
       "       [0.36729628]], dtype=float32)"
      ]
     },
     "execution_count": 44,
     "metadata": {},
     "output_type": "execute_result"
    }
   ],
   "source": [
    "model.predict(test_data, verbose=False, callbacks=[PredictionCallback()])"
   ]
  },
  {
   "cell_type": "markdown",
   "metadata": {},
   "source": [
    "# Manipulando as logs dos Callbacks"
   ]
  },
  {
   "cell_type": "markdown",
   "metadata": {},
   "source": [
    "Podemos utilizar os logs para passar informações de metricas."
   ]
  },
  {
   "cell_type": "code",
   "execution_count": 45,
   "metadata": {},
   "outputs": [],
   "source": [
    "#Criar um modelo\n",
    "model = tf.keras.Sequential([\n",
    "  Dense(128, activation='relu', input_shape=(train_data.shape[1],)),\n",
    "  Dense(64, activation=\"relu\"),\n",
    "  tf.keras.layers.BatchNormalization(),\n",
    "  Dense(64, activation=\"relu\"),\n",
    "  Dense(64, activation=\"relu\"),\n",
    "  Dense(1)\n",
    "\n",
    "])"
   ]
  },
  {
   "cell_type": "code",
   "execution_count": 46,
   "metadata": {},
   "outputs": [],
   "source": [
    "#compila o modelo\n",
    "\n",
    "model.compile(loss='mse', optimizer='adam', metrics=['mae'])"
   ]
  },
  {
   "cell_type": "markdown",
   "metadata": {},
   "source": [
    "# Customizar Callback"
   ]
  },
  {
   "cell_type": "markdown",
   "metadata": {},
   "source": [
    "Vamos customizar as Callback para os logs de dicionarios tenham acesso de perda e metrica de valores"
   ]
  },
  {
   "cell_type": "code",
   "execution_count": 48,
   "metadata": {},
   "outputs": [],
   "source": [
    "class LossAndMetricCallback(tf.keras.callbacks.Callback):\n",
    "\n",
    "  #Imprimir a perda a cada segundo do lote de treinamento\n",
    "  def on_train_batch_begin(self, batch, logs=None):\n",
    "    if logs is not None and 'loss' in logs:\n",
    "      if batch %2 == 0:\n",
    "        print('\\n After batch {}, the loss is {:7.2f}.'.format(batch, logs['loss']))\n",
    "\n",
    "   # Imprimir a perda após cada lote no conjunto de teste\n",
    "  def on_test_batch_end(self, batch, logs=None):\n",
    "    if logs is not None and 'loss' in logs:\n",
    "      print('\\n After batch {}, the loss is {:.2f}.'.format(batch, logs['loss']))\n",
    "\n",
    "   # Imprimir a perda e o erro médio absoluto após cada época\n",
    "  def on_epoch_end(self, epoch, logs=None):\n",
    "    if logs is not None and 'loss' in logs:\n",
    "      print('Epoch {}: Average loss is {:.2f}, mean absolute error is {:.2f}.'.format(epoch, logs['loss'], logs['mae']))\n",
    "\n",
    "# Notificar o utilizador quando a previsão tiver terminado em cada lote\n",
    "  def on_predict_batch_end(self, batch, logs=None):\n",
    "    print(\"Finished prediction on batch {}!\".format(batch))"
   ]
  },
  {
   "cell_type": "code",
   "execution_count": 49,
   "metadata": {},
   "outputs": [
    {
     "name": "stdout",
     "output_type": "stream",
     "text": [
      "Epoch 0: Average loss is 0.94, mean absolute error is 0.82.\n",
      "Epoch 1: Average loss is 0.64, mean absolute error is 0.66.\n",
      "Epoch 2: Average loss is 0.55, mean absolute error is 0.60.\n",
      "Epoch 3: Average loss is 0.50, mean absolute error is 0.57.\n",
      "Epoch 4: Average loss is 0.46, mean absolute error is 0.55.\n",
      "Epoch 5: Average loss is 0.45, mean absolute error is 0.53.\n",
      "Epoch 6: Average loss is 0.43, mean absolute error is 0.52.\n",
      "Epoch 7: Average loss is 0.41, mean absolute error is 0.51.\n",
      "Epoch 8: Average loss is 0.43, mean absolute error is 0.52.\n",
      "Epoch 9: Average loss is 0.40, mean absolute error is 0.50.\n",
      "Epoch 10: Average loss is 0.38, mean absolute error is 0.49.\n",
      "Epoch 11: Average loss is 0.37, mean absolute error is 0.48.\n",
      "Epoch 12: Average loss is 0.40, mean absolute error is 0.50.\n",
      "Epoch 13: Average loss is 0.36, mean absolute error is 0.47.\n",
      "Epoch 14: Average loss is 0.34, mean absolute error is 0.46.\n",
      "Epoch 15: Average loss is 0.33, mean absolute error is 0.46.\n",
      "Epoch 16: Average loss is 0.32, mean absolute error is 0.45.\n",
      "Epoch 17: Average loss is 0.31, mean absolute error is 0.44.\n",
      "Epoch 18: Average loss is 0.30, mean absolute error is 0.43.\n",
      "Epoch 19: Average loss is 0.30, mean absolute error is 0.43.\n"
     ]
    }
   ],
   "source": [
    "#treinar o modelo\n",
    "history = model.fit(train_data, train_targets, epochs=20,\n",
    "                    batch_size=100, callbacks=[LossAndMetricCallback()], verbose=False)"
   ]
  },
  {
   "cell_type": "code",
   "execution_count": 50,
   "metadata": {},
   "outputs": [
    {
     "name": "stdout",
     "output_type": "stream",
     "text": [
      "\n",
      " After batch 0, the loss is 0.78.\n",
      "\n",
      " After batch 1, the loss is 0.83.\n",
      "\n",
      " After batch 2, the loss is 0.69.\n",
      "\n",
      " After batch 3, the loss is 0.68.\n",
      "\n",
      " After batch 4, the loss is 0.66.\n"
     ]
    }
   ],
   "source": [
    "model_eval = model.evaluate(test_data, test_targets, batch_size=10, callbacks=[LossAndMetricCallback()], verbose=False)"
   ]
  },
  {
   "cell_type": "markdown",
   "metadata": {},
   "source": [
    "### CallBacks personalizadas"
   ]
  },
  {
   "cell_type": "markdown",
   "metadata": {},
   "source": [
    "Vamos definir uma callback para alterar a taxa de aprendizado do otimizador de um modelo durante o treinamento. Faremos isso especificando as épocas e as novas taxas de aprendizagem em que gostaríamos que fossem alteradas."
   ]
  },
  {
   "cell_type": "code",
   "execution_count": 59,
   "metadata": {},
   "outputs": [],
   "source": [
    "lr_schedule =[\n",
    "  (4, 0.03), (7, 0.02), (11, 0.005), (15, 0.007)\n",
    "]\n",
    "\n",
    "def get_new_epoch_lr(epoch, lr):\n",
    "  #Verifica se a época de entrada está listada na tabela de taxas de #aprendizagem e, se estiver, devolve o índice em lr_schedule\n",
    "  epoch_in_sched = [i for i in range(len(lr_schedule)) if lr_schedule[i][0]==int(epoch)]\n",
    "  if len(epoch_in_sched)>0:\n",
    "  # Se for, devolve a taxa de aprendizagem correspondente à época  \n",
    "    return lr_schedule[epoch_in_sched[0]][1]\n",
    "  else:\n",
    "    # Caso contrário, devolver a taxa de aprendizagem existente\n",
    "    return lr"
   ]
  },
  {
   "cell_type": "code",
   "execution_count": 64,
   "metadata": {},
   "outputs": [],
   "source": [
    "class LRScheduler(tf.keras.callbacks.Callback):\n",
    "\n",
    "  def __init__(self, new_lr):\n",
    "    super(LRScheduler, self).__init__()\n",
    "    # Adicionar a nova função de taxa de aprendizagem ao nosso retorno de chamada\n",
    "    self.new_lr = new_lr\n",
    "\n",
    "  def on_epoch_begin(self, epoch, logs=None):\n",
    "    # Certifique-se de que o optimizador que escolhemos tem uma taxa de aprendizagem e, se não tiver, assinala um erro\n",
    "    if not hasattr(self.model.optimizer, 'lr'):\n",
    "      raise ValueError('Erro: Optimizer does not have a learning rate.')\n",
    "    \n",
    "     # Obter a taxa de aprendizagem atual\n",
    "    curr_rate = float(tf.keras.backend.get_value(self.model.optimizer.lr))\n",
    "\n",
    "     # Chamar a função auxiliar para obter a taxa de aprendizagem programada para a época atual\n",
    "    scheduled_rate = self.new_lr(epoch, curr_rate)\n",
    "\n",
    "  # Definir a taxa de aprendizagem para a taxa de aprendizagem programada\n",
    "    tf.keras.backend.set_value(self.model.optimizer.lr, scheduled_rate)\n",
    "    print('Learning rate for epoch {} is {:.3f}'.format(epoch, scheduled_rate))\n",
    "\n"
   ]
  },
  {
   "cell_type": "code",
   "execution_count": 65,
   "metadata": {},
   "outputs": [],
   "source": [
    "new_model = tf.keras.Sequential([\n",
    "  Dense(128, activation='relu', input_shape=(train_data.shape[1],)),\n",
    "  Dense(64, activation='relu'),\n",
    "  tf.keras.layers.BatchNormalization(),\n",
    "  Dense(64, activation='relu'),\n",
    "  Dense(64, activation='relu'),\n",
    "  Dense(1)\n",
    "])"
   ]
  },
  {
   "cell_type": "code",
   "execution_count": 66,
   "metadata": {},
   "outputs": [],
   "source": [
    "new_model.compile(loss=\"mse\",\n",
    "                  optimizer=\"adam\",\n",
    "                  metrics=['mae', 'mse'])"
   ]
  },
  {
   "cell_type": "code",
   "execution_count": 67,
   "metadata": {},
   "outputs": [
    {
     "name": "stdout",
     "output_type": "stream",
     "text": [
      "Learning rate for epoch 0 is 0.001\n",
      "Learning rate for epoch 1 is 0.001\n",
      "Learning rate for epoch 2 is 0.001\n",
      "Learning rate for epoch 3 is 0.001\n",
      "Learning rate for epoch 4 is 0.030\n",
      "Learning rate for epoch 5 is 0.030\n",
      "Learning rate for epoch 6 is 0.030\n",
      "Learning rate for epoch 7 is 0.020\n",
      "Learning rate for epoch 8 is 0.020\n",
      "Learning rate for epoch 9 is 0.020\n",
      "Learning rate for epoch 10 is 0.020\n",
      "Learning rate for epoch 11 is 0.005\n",
      "Learning rate for epoch 12 is 0.005\n",
      "Learning rate for epoch 13 is 0.005\n",
      "Learning rate for epoch 14 is 0.005\n",
      "Learning rate for epoch 15 is 0.007\n",
      "Learning rate for epoch 16 is 0.007\n",
      "Learning rate for epoch 17 is 0.007\n",
      "Learning rate for epoch 18 is 0.007\n",
      "Learning rate for epoch 19 is 0.007\n"
     ]
    }
   ],
   "source": [
    "new_history = new_model.fit(train_data, train_targets, epochs=20,\n",
    "                            batch_size=100, callbacks=[LRScheduler(get_new_epoch_lr)], verbose=False)"
   ]
  }
 ],
 "metadata": {
  "kernelspec": {
   "display_name": "base",
   "language": "python",
   "name": "python3"
  },
  "language_info": {
   "codemirror_mode": {
    "name": "ipython",
    "version": 3
   },
   "file_extension": ".py",
   "mimetype": "text/x-python",
   "name": "python",
   "nbconvert_exporter": "python",
   "pygments_lexer": "ipython3",
   "version": "3.8.8"
  }
 },
 "nbformat": 4,
 "nbformat_minor": 2
}
