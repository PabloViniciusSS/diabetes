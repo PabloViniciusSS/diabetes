{
 "cells": [
  {
   "cell_type": "markdown",
   "metadata": {},
   "source": [
    "# Rede Neural de Dados sobre Diabetes"
   ]
  },
  {
   "cell_type": "code",
   "execution_count": 1,
   "metadata": {},
   "outputs": [
    {
     "name": "stdout",
     "output_type": "stream",
     "text": [
      ".. _diabetes_dataset:\n",
      "\n",
      "Diabetes dataset\n",
      "----------------\n",
      "\n",
      "Ten baseline variables, age, sex, body mass index, average blood\n",
      "pressure, and six blood serum measurements were obtained for each of n =\n",
      "442 diabetes patients, as well as the response of interest, a\n",
      "quantitative measure of disease progression one year after baseline.\n",
      "\n",
      "**Data Set Characteristics:**\n",
      "\n",
      "  :Number of Instances: 442\n",
      "\n",
      "  :Number of Attributes: First 10 columns are numeric predictive values\n",
      "\n",
      "  :Target: Column 11 is a quantitative measure of disease progression one year after baseline\n",
      "\n",
      "  :Attribute Information:\n",
      "      - age     age in years\n",
      "      - sex\n",
      "      - bmi     body mass index\n",
      "      - bp      average blood pressure\n",
      "      - s1      tc, T-Cells (a type of white blood cells)\n",
      "      - s2      ldl, low-density lipoproteins\n",
      "      - s3      hdl, high-density lipoproteins\n",
      "      - s4      tch, thyroid stimulating hormone\n",
      "      - s5      ltg, lamotrigine\n",
      "      - s6      glu, blood sugar level\n",
      "\n",
      "Note: Each of these 10 feature variables have been mean centered and scaled by the standard deviation times `n_samples` (i.e. the sum of squares of each column totals 1).\n",
      "\n",
      "Source URL:\n",
      "https://www4.stat.ncsu.edu/~boos/var.select/diabetes.html\n",
      "\n",
      "For more information see:\n",
      "Bradley Efron, Trevor Hastie, Iain Johnstone and Robert Tibshirani (2004) \"Least Angle Regression,\" Annals of Statistics (with discussion), 407-499.\n",
      "(https://web.stanford.edu/~hastie/Papers/LARS/LeastAngle_2002.pdf)\n"
     ]
    }
   ],
   "source": [
    "from sklearn.datasets import load_diabetes\n",
    "import tensorflow as tf\n",
    "#Load dos dados do dataset diabetes e ver a descrição do dataset\n",
    "diabetes_dataset = load_diabetes()\n",
    "print(diabetes_dataset['DESCR'])"
   ]
  },
  {
   "cell_type": "code",
   "execution_count": 2,
   "metadata": {},
   "outputs": [
    {
     "name": "stdout",
     "output_type": "stream",
     "text": [
      "dict_keys(['data', 'target', 'frame', 'DESCR', 'feature_names', 'data_filename', 'target_filename'])\n"
     ]
    }
   ],
   "source": [
    "#verificar as chaves existentes no dataset\n",
    "print(diabetes_dataset.keys())"
   ]
  },
  {
   "cell_type": "code",
   "execution_count": 3,
   "metadata": {},
   "outputs": [],
   "source": [
    "#Salvar as entras e os rotulos em variaveis\n",
    "data = diabetes_dataset[\"data\"]\n",
    "targets = diabetes_dataset[\"target\"]"
   ]
  },
  {
   "cell_type": "code",
   "execution_count": 4,
   "metadata": {},
   "outputs": [],
   "source": [
    "#Normalizar os dados\n",
    "targets = (targets - targets.mean(axis=0)) / targets.std()"
   ]
  },
  {
   "cell_type": "code",
   "execution_count": 5,
   "metadata": {},
   "outputs": [
    {
     "name": "stdout",
     "output_type": "stream",
     "text": [
      "(397, 10)\n",
      "(45, 10)\n",
      "(397,)\n",
      "(45,)\n"
     ]
    }
   ],
   "source": [
    "#Dividis os dados em treino e testes\n",
    "from sklearn.model_selection import train_test_split\n",
    "\n",
    "train_data, test_data, train_targets, test_targets = train_test_split(data, targets, test_size=0.1)\n",
    "\n",
    "print(train_data.shape)\n",
    "print(test_data.shape)\n",
    "print(train_targets.shape)\n",
    "print(test_targets.shape)"
   ]
  },
  {
   "cell_type": "markdown",
   "metadata": {},
   "source": [
    "### FeedFoward Rede Neural"
   ]
  },
  {
   "cell_type": "code",
   "execution_count": 6,
   "metadata": {},
   "outputs": [],
   "source": [
    "from tensorflow.keras.models import Sequential\n",
    "from tensorflow.keras.layers import Dense\n",
    "\n",
    "\n",
    "#Criando a rede Neural\n",
    "\n",
    "def get_model():\n",
    "  model = Sequential([\n",
    "          Dense(128, activation=\"relu\", input_shape=(train_data.shape[1],)),\n",
    "          Dense(128, activation=\"relu\"),\n",
    "          Dense(128, activation=\"relu\"),\n",
    "          Dense(128, activation=\"relu\"),\n",
    "          Dense(128, activation=\"relu\"),\n",
    "          Dense(128, activation=\"relu\"),\n",
    "          Dense(1, activation=\"sigmoid\")\n",
    "  ])\n",
    "\n",
    "  return model"
   ]
  },
  {
   "cell_type": "code",
   "execution_count": 7,
   "metadata": {},
   "outputs": [],
   "source": [
    "#Criando uma variavel para a rede neural\n",
    "model = get_model()"
   ]
  },
  {
   "cell_type": "code",
   "execution_count": 8,
   "metadata": {},
   "outputs": [
    {
     "name": "stdout",
     "output_type": "stream",
     "text": [
      "Model: \"sequential\"\n",
      "_________________________________________________________________\n",
      " Layer (type)                Output Shape              Param #   \n",
      "=================================================================\n",
      " dense (Dense)               (None, 128)               1408      \n",
      "                                                                 \n",
      " dense_1 (Dense)             (None, 128)               16512     \n",
      "                                                                 \n",
      " dense_2 (Dense)             (None, 128)               16512     \n",
      "                                                                 \n",
      " dense_3 (Dense)             (None, 128)               16512     \n",
      "                                                                 \n",
      " dense_4 (Dense)             (None, 128)               16512     \n",
      "                                                                 \n",
      " dense_5 (Dense)             (None, 128)               16512     \n",
      "                                                                 \n",
      " dense_6 (Dense)             (None, 1)                 129       \n",
      "                                                                 \n",
      "=================================================================\n",
      "Total params: 84,097\n",
      "Trainable params: 84,097\n",
      "Non-trainable params: 0\n",
      "_________________________________________________________________\n"
     ]
    }
   ],
   "source": [
    "#Ver o sumario da rede neural\n",
    "\n",
    "model.summary()"
   ]
  },
  {
   "cell_type": "code",
   "execution_count": 9,
   "metadata": {},
   "outputs": [],
   "source": [
    "#Copilar o modelo\n",
    "\n",
    "opt = tf.keras.optimizers.Adam(learning_rate=0.005)\n",
    "mse = tf.keras.metrics.mean_squared_error\n",
    "\n",
    "model.compile(\n",
    "      optimizer=opt,\n",
    "      loss=\"mse\",\n",
    "      metrics=mse\n",
    ")"
   ]
  },
  {
   "cell_type": "code",
   "execution_count": 10,
   "metadata": {},
   "outputs": [
    {
     "name": "stdout",
     "output_type": "stream",
     "text": [
      "Epoch 1/100\n",
      "6/6 - 1s - loss: 1.1557 - mean_squared_error: 1.1557 - val_loss: 0.9194 - val_mean_squared_error: 0.9194 - 1s/epoch - 234ms/step\n",
      "Epoch 2/100\n",
      "6/6 - 0s - loss: 0.9323 - mean_squared_error: 0.9323 - val_loss: 0.8719 - val_mean_squared_error: 0.8719 - 39ms/epoch - 7ms/step\n",
      "Epoch 3/100\n",
      "6/6 - 0s - loss: 0.8184 - mean_squared_error: 0.8184 - val_loss: 0.7840 - val_mean_squared_error: 0.7840 - 39ms/epoch - 6ms/step\n",
      "Epoch 4/100\n",
      "6/6 - 0s - loss: 0.7789 - mean_squared_error: 0.7789 - val_loss: 0.7495 - val_mean_squared_error: 0.7495 - 41ms/epoch - 7ms/step\n",
      "Epoch 5/100\n",
      "6/6 - 0s - loss: 0.7423 - mean_squared_error: 0.7423 - val_loss: 0.7456 - val_mean_squared_error: 0.7456 - 36ms/epoch - 6ms/step\n",
      "Epoch 6/100\n",
      "6/6 - 0s - loss: 0.7509 - mean_squared_error: 0.7509 - val_loss: 0.6993 - val_mean_squared_error: 0.6993 - 41ms/epoch - 7ms/step\n",
      "Epoch 7/100\n",
      "6/6 - 0s - loss: 0.7816 - mean_squared_error: 0.7816 - val_loss: 0.6688 - val_mean_squared_error: 0.6688 - 40ms/epoch - 7ms/step\n",
      "Epoch 8/100\n",
      "6/6 - 0s - loss: 0.7498 - mean_squared_error: 0.7498 - val_loss: 0.8029 - val_mean_squared_error: 0.8029 - 49ms/epoch - 8ms/step\n",
      "Epoch 9/100\n",
      "6/6 - 0s - loss: 0.7410 - mean_squared_error: 0.7410 - val_loss: 0.7211 - val_mean_squared_error: 0.7211 - 44ms/epoch - 7ms/step\n",
      "Epoch 10/100\n",
      "6/6 - 0s - loss: 0.7179 - mean_squared_error: 0.7179 - val_loss: 0.7242 - val_mean_squared_error: 0.7242 - 40ms/epoch - 7ms/step\n",
      "Epoch 11/100\n",
      "6/6 - 0s - loss: 0.7095 - mean_squared_error: 0.7095 - val_loss: 0.7216 - val_mean_squared_error: 0.7216 - 41ms/epoch - 7ms/step\n",
      "Epoch 12/100\n",
      "6/6 - 0s - loss: 0.7048 - mean_squared_error: 0.7048 - val_loss: 0.7210 - val_mean_squared_error: 0.7210 - 33ms/epoch - 5ms/step\n",
      "Epoch 13/100\n",
      "6/6 - 0s - loss: 0.7028 - mean_squared_error: 0.7028 - val_loss: 0.7471 - val_mean_squared_error: 0.7471 - 40ms/epoch - 7ms/step\n",
      "Epoch 14/100\n",
      "6/6 - 0s - loss: 0.7035 - mean_squared_error: 0.7035 - val_loss: 0.7108 - val_mean_squared_error: 0.7108 - 39ms/epoch - 7ms/step\n",
      "Epoch 15/100\n",
      "6/6 - 0s - loss: 0.7005 - mean_squared_error: 0.7005 - val_loss: 0.7936 - val_mean_squared_error: 0.7936 - 38ms/epoch - 6ms/step\n",
      "Epoch 16/100\n",
      "6/6 - 0s - loss: 0.7125 - mean_squared_error: 0.7125 - val_loss: 0.6936 - val_mean_squared_error: 0.6936 - 55ms/epoch - 9ms/step\n",
      "Epoch 17/100\n",
      "6/6 - 0s - loss: 0.7123 - mean_squared_error: 0.7123 - val_loss: 0.7665 - val_mean_squared_error: 0.7665 - 40ms/epoch - 7ms/step\n",
      "Epoch 18/100\n",
      "6/6 - 0s - loss: 0.7071 - mean_squared_error: 0.7071 - val_loss: 0.7507 - val_mean_squared_error: 0.7507 - 35ms/epoch - 6ms/step\n",
      "Epoch 19/100\n",
      "6/6 - 0s - loss: 0.6956 - mean_squared_error: 0.6956 - val_loss: 0.7115 - val_mean_squared_error: 0.7115 - 39ms/epoch - 7ms/step\n",
      "Epoch 20/100\n",
      "6/6 - 0s - loss: 0.6937 - mean_squared_error: 0.6937 - val_loss: 0.7392 - val_mean_squared_error: 0.7392 - 40ms/epoch - 7ms/step\n",
      "Epoch 21/100\n",
      "6/6 - 0s - loss: 0.6833 - mean_squared_error: 0.6833 - val_loss: 0.7132 - val_mean_squared_error: 0.7132 - 38ms/epoch - 6ms/step\n",
      "Epoch 22/100\n",
      "6/6 - 0s - loss: 0.6783 - mean_squared_error: 0.6783 - val_loss: 0.7690 - val_mean_squared_error: 0.7690 - 48ms/epoch - 8ms/step\n",
      "Epoch 23/100\n",
      "6/6 - 0s - loss: 0.6755 - mean_squared_error: 0.6755 - val_loss: 0.7322 - val_mean_squared_error: 0.7322 - 41ms/epoch - 7ms/step\n",
      "Epoch 24/100\n",
      "6/6 - 0s - loss: 0.6724 - mean_squared_error: 0.6724 - val_loss: 0.7641 - val_mean_squared_error: 0.7641 - 39ms/epoch - 6ms/step\n",
      "Epoch 25/100\n",
      "6/6 - 0s - loss: 0.6787 - mean_squared_error: 0.6787 - val_loss: 0.8099 - val_mean_squared_error: 0.8099 - 39ms/epoch - 6ms/step\n",
      "Epoch 26/100\n",
      "6/6 - 0s - loss: 0.6791 - mean_squared_error: 0.6791 - val_loss: 0.7669 - val_mean_squared_error: 0.7669 - 39ms/epoch - 6ms/step\n",
      "Epoch 27/100\n",
      "6/6 - 0s - loss: 0.6793 - mean_squared_error: 0.6793 - val_loss: 0.7116 - val_mean_squared_error: 0.7116 - 40ms/epoch - 7ms/step\n",
      "Epoch 28/100\n",
      "6/6 - 0s - loss: 0.6618 - mean_squared_error: 0.6618 - val_loss: 0.7395 - val_mean_squared_error: 0.7395 - 40ms/epoch - 7ms/step\n",
      "Epoch 29/100\n",
      "6/6 - 0s - loss: 0.6717 - mean_squared_error: 0.6717 - val_loss: 0.7103 - val_mean_squared_error: 0.7103 - 41ms/epoch - 7ms/step\n",
      "Epoch 30/100\n",
      "6/6 - 0s - loss: 0.6787 - mean_squared_error: 0.6787 - val_loss: 0.8161 - val_mean_squared_error: 0.8161 - 39ms/epoch - 7ms/step\n",
      "Epoch 31/100\n",
      "6/6 - 0s - loss: 0.6756 - mean_squared_error: 0.6756 - val_loss: 0.7211 - val_mean_squared_error: 0.7211 - 39ms/epoch - 7ms/step\n",
      "Epoch 32/100\n",
      "6/6 - 0s - loss: 0.6982 - mean_squared_error: 0.6982 - val_loss: 0.7491 - val_mean_squared_error: 0.7491 - 40ms/epoch - 7ms/step\n",
      "Epoch 33/100\n",
      "6/6 - 0s - loss: 0.6954 - mean_squared_error: 0.6954 - val_loss: 0.7255 - val_mean_squared_error: 0.7255 - 51ms/epoch - 9ms/step\n",
      "Epoch 34/100\n",
      "6/6 - 0s - loss: 0.7011 - mean_squared_error: 0.7011 - val_loss: 0.7231 - val_mean_squared_error: 0.7231 - 40ms/epoch - 7ms/step\n",
      "Epoch 35/100\n",
      "6/6 - 0s - loss: 0.7638 - mean_squared_error: 0.7638 - val_loss: 0.8163 - val_mean_squared_error: 0.8163 - 37ms/epoch - 6ms/step\n",
      "Epoch 36/100\n",
      "6/6 - 0s - loss: 0.8058 - mean_squared_error: 0.8058 - val_loss: 0.7542 - val_mean_squared_error: 0.7542 - 37ms/epoch - 6ms/step\n",
      "Epoch 37/100\n",
      "6/6 - 0s - loss: 0.7330 - mean_squared_error: 0.7330 - val_loss: 0.6907 - val_mean_squared_error: 0.6907 - 38ms/epoch - 6ms/step\n",
      "Epoch 38/100\n",
      "6/6 - 0s - loss: 0.7033 - mean_squared_error: 0.7033 - val_loss: 0.7098 - val_mean_squared_error: 0.7098 - 29ms/epoch - 5ms/step\n",
      "Epoch 39/100\n",
      "6/6 - 0s - loss: 0.6957 - mean_squared_error: 0.6957 - val_loss: 0.6964 - val_mean_squared_error: 0.6964 - 29ms/epoch - 5ms/step\n",
      "Epoch 40/100\n",
      "6/6 - 0s - loss: 0.6920 - mean_squared_error: 0.6920 - val_loss: 0.7293 - val_mean_squared_error: 0.7293 - 40ms/epoch - 7ms/step\n",
      "Epoch 41/100\n",
      "6/6 - 0s - loss: 0.6841 - mean_squared_error: 0.6841 - val_loss: 0.7554 - val_mean_squared_error: 0.7554 - 48ms/epoch - 8ms/step\n",
      "Epoch 42/100\n",
      "6/6 - 0s - loss: 0.6733 - mean_squared_error: 0.6733 - val_loss: 0.7454 - val_mean_squared_error: 0.7454 - 30ms/epoch - 5ms/step\n",
      "Epoch 43/100\n",
      "6/6 - 0s - loss: 0.6797 - mean_squared_error: 0.6797 - val_loss: 0.7965 - val_mean_squared_error: 0.7965 - 30ms/epoch - 5ms/step\n",
      "Epoch 44/100\n",
      "6/6 - 0s - loss: 0.6695 - mean_squared_error: 0.6695 - val_loss: 0.7834 - val_mean_squared_error: 0.7834 - 29ms/epoch - 5ms/step\n",
      "Epoch 45/100\n",
      "6/6 - 0s - loss: 0.6633 - mean_squared_error: 0.6633 - val_loss: 0.8064 - val_mean_squared_error: 0.8064 - 41ms/epoch - 7ms/step\n",
      "Epoch 46/100\n",
      "6/6 - 0s - loss: 0.6650 - mean_squared_error: 0.6650 - val_loss: 0.7995 - val_mean_squared_error: 0.7995 - 41ms/epoch - 7ms/step\n",
      "Epoch 47/100\n",
      "6/6 - 0s - loss: 0.6602 - mean_squared_error: 0.6602 - val_loss: 0.7458 - val_mean_squared_error: 0.7458 - 39ms/epoch - 6ms/step\n",
      "Epoch 48/100\n",
      "6/6 - 0s - loss: 0.6696 - mean_squared_error: 0.6696 - val_loss: 0.8318 - val_mean_squared_error: 0.8318 - 51ms/epoch - 9ms/step\n",
      "Epoch 49/100\n",
      "6/6 - 0s - loss: 0.6673 - mean_squared_error: 0.6673 - val_loss: 0.7932 - val_mean_squared_error: 0.7932 - 45ms/epoch - 8ms/step\n",
      "Epoch 50/100\n",
      "6/6 - 0s - loss: 0.6528 - mean_squared_error: 0.6528 - val_loss: 0.7812 - val_mean_squared_error: 0.7812 - 43ms/epoch - 7ms/step\n",
      "Epoch 51/100\n",
      "6/6 - 0s - loss: 0.6434 - mean_squared_error: 0.6434 - val_loss: 0.8059 - val_mean_squared_error: 0.8059 - 43ms/epoch - 7ms/step\n",
      "Epoch 52/100\n",
      "6/6 - 0s - loss: 0.6578 - mean_squared_error: 0.6578 - val_loss: 0.7738 - val_mean_squared_error: 0.7738 - 53ms/epoch - 9ms/step\n",
      "Epoch 53/100\n",
      "6/6 - 0s - loss: 0.6893 - mean_squared_error: 0.6893 - val_loss: 0.8408 - val_mean_squared_error: 0.8408 - 45ms/epoch - 7ms/step\n",
      "Epoch 54/100\n",
      "6/6 - 0s - loss: 0.6663 - mean_squared_error: 0.6663 - val_loss: 0.8915 - val_mean_squared_error: 0.8915 - 39ms/epoch - 7ms/step\n",
      "Epoch 55/100\n",
      "6/6 - 0s - loss: 0.6616 - mean_squared_error: 0.6616 - val_loss: 0.7226 - val_mean_squared_error: 0.7226 - 38ms/epoch - 6ms/step\n",
      "Epoch 56/100\n",
      "6/6 - 0s - loss: 0.6636 - mean_squared_error: 0.6636 - val_loss: 0.7869 - val_mean_squared_error: 0.7869 - 32ms/epoch - 5ms/step\n",
      "Epoch 57/100\n",
      "6/6 - 0s - loss: 0.6418 - mean_squared_error: 0.6418 - val_loss: 0.8532 - val_mean_squared_error: 0.8532 - 48ms/epoch - 8ms/step\n",
      "Epoch 58/100\n",
      "6/6 - 0s - loss: 0.6393 - mean_squared_error: 0.6393 - val_loss: 0.8328 - val_mean_squared_error: 0.8328 - 39ms/epoch - 6ms/step\n",
      "Epoch 59/100\n",
      "6/6 - 0s - loss: 0.6425 - mean_squared_error: 0.6425 - val_loss: 0.8740 - val_mean_squared_error: 0.8740 - 32ms/epoch - 5ms/step\n",
      "Epoch 60/100\n",
      "6/6 - 0s - loss: 0.6334 - mean_squared_error: 0.6334 - val_loss: 0.8074 - val_mean_squared_error: 0.8074 - 27ms/epoch - 5ms/step\n",
      "Epoch 61/100\n",
      "6/6 - 0s - loss: 0.6308 - mean_squared_error: 0.6308 - val_loss: 0.8385 - val_mean_squared_error: 0.8385 - 39ms/epoch - 6ms/step\n",
      "Epoch 62/100\n",
      "6/6 - 0s - loss: 0.6377 - mean_squared_error: 0.6377 - val_loss: 0.7683 - val_mean_squared_error: 0.7683 - 39ms/epoch - 7ms/step\n",
      "Epoch 63/100\n",
      "6/6 - 0s - loss: 0.6470 - mean_squared_error: 0.6470 - val_loss: 0.8622 - val_mean_squared_error: 0.8622 - 30ms/epoch - 5ms/step\n",
      "Epoch 64/100\n",
      "6/6 - 0s - loss: 0.6384 - mean_squared_error: 0.6384 - val_loss: 0.8773 - val_mean_squared_error: 0.8773 - 40ms/epoch - 7ms/step\n",
      "Epoch 65/100\n",
      "6/6 - 0s - loss: 0.6293 - mean_squared_error: 0.6293 - val_loss: 0.7485 - val_mean_squared_error: 0.7485 - 39ms/epoch - 7ms/step\n",
      "Epoch 66/100\n",
      "6/6 - 0s - loss: 0.6312 - mean_squared_error: 0.6312 - val_loss: 0.8111 - val_mean_squared_error: 0.8111 - 42ms/epoch - 7ms/step\n",
      "Epoch 67/100\n",
      "6/6 - 0s - loss: 0.6327 - mean_squared_error: 0.6327 - val_loss: 0.8769 - val_mean_squared_error: 0.8769 - 38ms/epoch - 6ms/step\n",
      "Epoch 68/100\n",
      "6/6 - 0s - loss: 0.6957 - mean_squared_error: 0.6957 - val_loss: 0.8264 - val_mean_squared_error: 0.8264 - 38ms/epoch - 6ms/step\n",
      "Epoch 69/100\n",
      "6/6 - 0s - loss: 0.6764 - mean_squared_error: 0.6764 - val_loss: 0.7880 - val_mean_squared_error: 0.7880 - 37ms/epoch - 6ms/step\n",
      "Epoch 70/100\n",
      "6/6 - 0s - loss: 0.6559 - mean_squared_error: 0.6559 - val_loss: 0.9224 - val_mean_squared_error: 0.9224 - 39ms/epoch - 7ms/step\n",
      "Epoch 71/100\n",
      "6/6 - 0s - loss: 0.6828 - mean_squared_error: 0.6828 - val_loss: 0.7920 - val_mean_squared_error: 0.7920 - 37ms/epoch - 6ms/step\n",
      "Epoch 72/100\n",
      "6/6 - 0s - loss: 0.6695 - mean_squared_error: 0.6695 - val_loss: 0.7823 - val_mean_squared_error: 0.7823 - 47ms/epoch - 8ms/step\n",
      "Epoch 73/100\n",
      "6/6 - 0s - loss: 0.6506 - mean_squared_error: 0.6506 - val_loss: 0.8249 - val_mean_squared_error: 0.8249 - 35ms/epoch - 6ms/step\n",
      "Epoch 74/100\n",
      "6/6 - 0s - loss: 0.6408 - mean_squared_error: 0.6408 - val_loss: 0.8679 - val_mean_squared_error: 0.8679 - 36ms/epoch - 6ms/step\n",
      "Epoch 75/100\n",
      "6/6 - 0s - loss: 0.6383 - mean_squared_error: 0.6383 - val_loss: 0.7478 - val_mean_squared_error: 0.7478 - 45ms/epoch - 8ms/step\n",
      "Epoch 76/100\n",
      "6/6 - 0s - loss: 0.6377 - mean_squared_error: 0.6377 - val_loss: 0.8605 - val_mean_squared_error: 0.8605 - 35ms/epoch - 6ms/step\n",
      "Epoch 77/100\n",
      "6/6 - 0s - loss: 0.6978 - mean_squared_error: 0.6978 - val_loss: 0.8619 - val_mean_squared_error: 0.8619 - 46ms/epoch - 8ms/step\n",
      "Epoch 78/100\n",
      "6/6 - 0s - loss: 0.6774 - mean_squared_error: 0.6774 - val_loss: 0.7682 - val_mean_squared_error: 0.7682 - 33ms/epoch - 5ms/step\n",
      "Epoch 79/100\n",
      "6/6 - 0s - loss: 0.6387 - mean_squared_error: 0.6387 - val_loss: 0.8120 - val_mean_squared_error: 0.8120 - 46ms/epoch - 8ms/step\n",
      "Epoch 80/100\n",
      "6/6 - 0s - loss: 0.6325 - mean_squared_error: 0.6325 - val_loss: 0.8269 - val_mean_squared_error: 0.8269 - 34ms/epoch - 6ms/step\n",
      "Epoch 81/100\n",
      "6/6 - 0s - loss: 0.6352 - mean_squared_error: 0.6352 - val_loss: 0.8564 - val_mean_squared_error: 0.8564 - 41ms/epoch - 7ms/step\n",
      "Epoch 82/100\n",
      "6/6 - 0s - loss: 0.6384 - mean_squared_error: 0.6384 - val_loss: 0.7491 - val_mean_squared_error: 0.7491 - 39ms/epoch - 6ms/step\n",
      "Epoch 83/100\n",
      "6/6 - 0s - loss: 0.6328 - mean_squared_error: 0.6328 - val_loss: 0.7895 - val_mean_squared_error: 0.7895 - 40ms/epoch - 7ms/step\n",
      "Epoch 84/100\n",
      "6/6 - 0s - loss: 0.6381 - mean_squared_error: 0.6381 - val_loss: 0.7824 - val_mean_squared_error: 0.7824 - 41ms/epoch - 7ms/step\n",
      "Epoch 85/100\n",
      "6/6 - 0s - loss: 0.6289 - mean_squared_error: 0.6289 - val_loss: 0.7901 - val_mean_squared_error: 0.7901 - 39ms/epoch - 7ms/step\n",
      "Epoch 86/100\n",
      "6/6 - 0s - loss: 0.6248 - mean_squared_error: 0.6248 - val_loss: 0.9031 - val_mean_squared_error: 0.9031 - 42ms/epoch - 7ms/step\n",
      "Epoch 87/100\n",
      "6/6 - 0s - loss: 0.6419 - mean_squared_error: 0.6419 - val_loss: 0.7679 - val_mean_squared_error: 0.7679 - 49ms/epoch - 8ms/step\n",
      "Epoch 88/100\n",
      "6/6 - 0s - loss: 0.6570 - mean_squared_error: 0.6570 - val_loss: 0.7687 - val_mean_squared_error: 0.7687 - 50ms/epoch - 8ms/step\n",
      "Epoch 89/100\n",
      "6/6 - 0s - loss: 0.6419 - mean_squared_error: 0.6419 - val_loss: 0.9233 - val_mean_squared_error: 0.9233 - 30ms/epoch - 5ms/step\n",
      "Epoch 90/100\n",
      "6/6 - 0s - loss: 0.6445 - mean_squared_error: 0.6445 - val_loss: 0.7742 - val_mean_squared_error: 0.7742 - 30ms/epoch - 5ms/step\n",
      "Epoch 91/100\n",
      "6/6 - 0s - loss: 0.6575 - mean_squared_error: 0.6575 - val_loss: 0.7983 - val_mean_squared_error: 0.7983 - 41ms/epoch - 7ms/step\n",
      "Epoch 92/100\n",
      "6/6 - 0s - loss: 0.6434 - mean_squared_error: 0.6434 - val_loss: 0.8298 - val_mean_squared_error: 0.8298 - 30ms/epoch - 5ms/step\n",
      "Epoch 93/100\n",
      "6/6 - 0s - loss: 0.6253 - mean_squared_error: 0.6253 - val_loss: 0.8093 - val_mean_squared_error: 0.8093 - 30ms/epoch - 5ms/step\n",
      "Epoch 94/100\n",
      "6/6 - 0s - loss: 0.6198 - mean_squared_error: 0.6198 - val_loss: 0.8242 - val_mean_squared_error: 0.8242 - 40ms/epoch - 7ms/step\n",
      "Epoch 95/100\n",
      "6/6 - 0s - loss: 0.6187 - mean_squared_error: 0.6187 - val_loss: 0.8174 - val_mean_squared_error: 0.8174 - 40ms/epoch - 7ms/step\n",
      "Epoch 96/100\n",
      "6/6 - 0s - loss: 0.6150 - mean_squared_error: 0.6150 - val_loss: 0.7870 - val_mean_squared_error: 0.7870 - 40ms/epoch - 7ms/step\n",
      "Epoch 97/100\n",
      "6/6 - 0s - loss: 0.6070 - mean_squared_error: 0.6070 - val_loss: 0.7880 - val_mean_squared_error: 0.7880 - 40ms/epoch - 7ms/step\n",
      "Epoch 98/100\n",
      "6/6 - 0s - loss: 0.6069 - mean_squared_error: 0.6069 - val_loss: 0.8127 - val_mean_squared_error: 0.8127 - 30ms/epoch - 5ms/step\n",
      "Epoch 99/100\n",
      "6/6 - 0s - loss: 0.6032 - mean_squared_error: 0.6032 - val_loss: 0.8276 - val_mean_squared_error: 0.8276 - 39ms/epoch - 7ms/step\n",
      "Epoch 100/100\n",
      "6/6 - 0s - loss: 0.6022 - mean_squared_error: 0.6022 - val_loss: 0.8316 - val_mean_squared_error: 0.8316 - 49ms/epoch - 8ms/step\n"
     ]
    }
   ],
   "source": [
    "history = model.fit(train_data, train_targets, epochs=100, validation_split=0.15,batch_size=64, verbose=2)"
   ]
  },
  {
   "cell_type": "code",
   "execution_count": 11,
   "metadata": {},
   "outputs": [
    {
     "name": "stdout",
     "output_type": "stream",
     "text": [
      "2/2 - 0s - loss: 0.9938 - mean_squared_error: 0.9938 - 25ms/epoch - 12ms/step\n"
     ]
    },
    {
     "data": {
      "text/plain": [
       "[0.9938220381736755, 0.9938220381736755]"
      ]
     },
     "execution_count": 11,
     "metadata": {},
     "output_type": "execute_result"
    }
   ],
   "source": [
    "model.evaluate(test_data, test_targets, verbose=2)"
   ]
  },
  {
   "cell_type": "markdown",
   "metadata": {},
   "source": [
    "### Plotando o gráfico de aprendizado"
   ]
  },
  {
   "cell_type": "code",
   "execution_count": 12,
   "metadata": {},
   "outputs": [],
   "source": [
    "import matplotlib.pyplot as plt\n",
    "%matplotlib inline"
   ]
  },
  {
   "cell_type": "code",
   "execution_count": 13,
   "metadata": {},
   "outputs": [
    {
     "data": {
      "image/png": "[encoded data removed]",
      "text/plain": [
       "<Figure size 432x288 with 1 Axes>"
      ]
     },
     "metadata": {
      "needs_background": "light"
     },
     "output_type": "display_data"
    }
   ],
   "source": [
    "plt.plot(history.history['loss'])\n",
    "plt.plot(history.history['val_loss'])\n",
    "plt.title('Loss vs. epochs')\n",
    "plt.ylabel('Loss')\n",
    "plt.xlabel('Epoch')\n",
    "plt.legend(['Training', 'Validation'], loc='upper right')\n",
    "plt.show()"
   ]
  },
  {
   "cell_type": "markdown",
   "metadata": {},
   "source": [
    "### Agora vamos analisar utilizando regularização no modelo"
   ]
  },
  {
   "cell_type": "code",
   "execution_count": 198,
   "metadata": {},
   "outputs": [],
   "source": [
    "from tensorflow.keras.layers import Dropout\n",
    "from tensorflow.keras import regularizers"
   ]
  },
  {
   "cell_type": "code",
   "execution_count": 200,
   "metadata": {},
   "outputs": [],
   "source": [
    "def get_regularised_model(wd, rate):\n",
    "  model = Sequential([\n",
    "    Dense(128, kernel_regularizer=regularizers.l2(wd), activation='relu', input_shape=(train_data.shape[1],)),\n",
    "    Dropout(rate),\n",
    "    Dense(128, kernel_regularizer=regularizers.l2(wd), activation='relu'),\n",
    "    Dropout(rate),\n",
    "    Dense(128, kernel_regularizer=regularizers.l2(wd), activation='relu'),\n",
    "    Dropout(rate),\n",
    "    Dense(128, kernel_regularizer=regularizers.l2(wd), activation='relu'),\n",
    "    Dropout(rate),\n",
    "    Dense(128, kernel_regularizer=regularizers.l2(wd), activation='relu'),\n",
    "    Dropout(rate),\n",
    "    Dense(128, kernel_regularizer=regularizers.l2(wd), activation='relu'),\n",
    "    Dropout(rate),\n",
    "    Dense(1, activation='sigmoid')\n",
    "  ])\n",
    "  return model"
   ]
  },
  {
   "cell_type": "code",
   "execution_count": 201,
   "metadata": {},
   "outputs": [],
   "source": [
    "model = get_regularised_model(1e-5, 0.3)"
   ]
  },
  {
   "cell_type": "code",
   "execution_count": 202,
   "metadata": {},
   "outputs": [],
   "source": [
    "opt = tf.keras.optimizers.Adam()\n",
    "\n",
    "model.compile(\n",
    "              optimizer=opt,\n",
    "              loss = 'mse',\n",
    "              metrics = [mse]\n",
    "              )"
   ]
  },
  {
   "cell_type": "code",
   "execution_count": 203,
   "metadata": {},
   "outputs": [
    {
     "name": "stdout",
     "output_type": "stream",
     "text": [
      "Epoch 1/100\n",
      "6/6 - 2s - loss: 1.2464 - mean_squared_error: 1.2398 - val_loss: 1.2503 - val_mean_squared_error: 1.2437 - 2s/epoch - 299ms/step\n",
      "Epoch 2/100\n",
      "6/6 - 0s - loss: 1.1898 - mean_squared_error: 1.1832 - val_loss: 1.1289 - val_mean_squared_error: 1.1224 - 54ms/epoch - 9ms/step\n",
      "Epoch 3/100\n",
      "6/6 - 0s - loss: 1.0549 - mean_squared_error: 1.0484 - val_loss: 0.9488 - val_mean_squared_error: 0.9423 - 54ms/epoch - 9ms/step\n",
      "Epoch 4/100\n",
      "6/6 - 0s - loss: 0.9789 - mean_squared_error: 0.9723 - val_loss: 0.9222 - val_mean_squared_error: 0.9157 - 55ms/epoch - 9ms/step\n",
      "Epoch 5/100\n",
      "6/6 - 0s - loss: 0.9605 - mean_squared_error: 0.9540 - val_loss: 0.8852 - val_mean_squared_error: 0.8787 - 57ms/epoch - 9ms/step\n",
      "Epoch 6/100\n",
      "6/6 - 0s - loss: 0.9009 - mean_squared_error: 0.8944 - val_loss: 0.8581 - val_mean_squared_error: 0.8517 - 46ms/epoch - 8ms/step\n",
      "Epoch 7/100\n",
      "6/6 - 0s - loss: 0.8632 - mean_squared_error: 0.8567 - val_loss: 0.8490 - val_mean_squared_error: 0.8426 - 44ms/epoch - 7ms/step\n",
      "Epoch 8/100\n",
      "6/6 - 0s - loss: 0.8383 - mean_squared_error: 0.8319 - val_loss: 0.8221 - val_mean_squared_error: 0.8157 - 53ms/epoch - 9ms/step\n",
      "Epoch 9/100\n",
      "6/6 - 0s - loss: 0.8267 - mean_squared_error: 0.8202 - val_loss: 0.8111 - val_mean_squared_error: 0.8047 - 53ms/epoch - 9ms/step\n",
      "Epoch 10/100\n",
      "6/6 - 0s - loss: 0.8184 - mean_squared_error: 0.8120 - val_loss: 0.8411 - val_mean_squared_error: 0.8347 - 50ms/epoch - 8ms/step\n",
      "Epoch 11/100\n",
      "6/6 - 0s - loss: 0.8110 - mean_squared_error: 0.8046 - val_loss: 0.8163 - val_mean_squared_error: 0.8099 - 51ms/epoch - 9ms/step\n",
      "Epoch 12/100\n",
      "6/6 - 0s - loss: 0.8012 - mean_squared_error: 0.7948 - val_loss: 0.7832 - val_mean_squared_error: 0.7768 - 57ms/epoch - 10ms/step\n",
      "Epoch 13/100\n",
      "6/6 - 0s - loss: 0.8048 - mean_squared_error: 0.7985 - val_loss: 0.7973 - val_mean_squared_error: 0.7909 - 62ms/epoch - 10ms/step\n",
      "Epoch 14/100\n",
      "6/6 - 0s - loss: 0.7728 - mean_squared_error: 0.7665 - val_loss: 0.8362 - val_mean_squared_error: 0.8299 - 58ms/epoch - 10ms/step\n",
      "Epoch 15/100\n",
      "6/6 - 0s - loss: 0.7680 - mean_squared_error: 0.7617 - val_loss: 0.8329 - val_mean_squared_error: 0.8266 - 49ms/epoch - 8ms/step\n",
      "Epoch 16/100\n",
      "6/6 - 0s - loss: 0.7540 - mean_squared_error: 0.7477 - val_loss: 0.7557 - val_mean_squared_error: 0.7494 - 50ms/epoch - 8ms/step\n",
      "Epoch 17/100\n",
      "6/6 - 0s - loss: 0.7386 - mean_squared_error: 0.7323 - val_loss: 0.7481 - val_mean_squared_error: 0.7418 - 65ms/epoch - 11ms/step\n",
      "Epoch 18/100\n",
      "6/6 - 0s - loss: 0.7390 - mean_squared_error: 0.7326 - val_loss: 0.8100 - val_mean_squared_error: 0.8037 - 51ms/epoch - 8ms/step\n",
      "Epoch 19/100\n",
      "6/6 - 0s - loss: 0.7580 - mean_squared_error: 0.7517 - val_loss: 0.8196 - val_mean_squared_error: 0.8133 - 45ms/epoch - 7ms/step\n",
      "Epoch 20/100\n",
      "6/6 - 0s - loss: 0.7221 - mean_squared_error: 0.7158 - val_loss: 0.7497 - val_mean_squared_error: 0.7434 - 50ms/epoch - 8ms/step\n",
      "Epoch 21/100\n",
      "6/6 - 0s - loss: 0.7369 - mean_squared_error: 0.7306 - val_loss: 0.7440 - val_mean_squared_error: 0.7377 - 51ms/epoch - 9ms/step\n",
      "Epoch 22/100\n",
      "6/6 - 0s - loss: 0.7258 - mean_squared_error: 0.7195 - val_loss: 0.7621 - val_mean_squared_error: 0.7559 - 50ms/epoch - 8ms/step\n",
      "Epoch 23/100\n",
      "6/6 - 0s - loss: 0.7249 - mean_squared_error: 0.7186 - val_loss: 0.7419 - val_mean_squared_error: 0.7356 - 49ms/epoch - 8ms/step\n",
      "Epoch 24/100\n",
      "6/6 - 0s - loss: 0.7289 - mean_squared_error: 0.7227 - val_loss: 0.7659 - val_mean_squared_error: 0.7597 - 49ms/epoch - 8ms/step\n",
      "Epoch 25/100\n",
      "6/6 - 0s - loss: 0.7375 - mean_squared_error: 0.7313 - val_loss: 0.8120 - val_mean_squared_error: 0.8058 - 50ms/epoch - 8ms/step\n",
      "Epoch 26/100\n",
      "6/6 - 0s - loss: 0.7306 - mean_squared_error: 0.7243 - val_loss: 0.7385 - val_mean_squared_error: 0.7323 - 49ms/epoch - 8ms/step\n",
      "Epoch 27/100\n",
      "6/6 - 0s - loss: 0.7080 - mean_squared_error: 0.7018 - val_loss: 0.7348 - val_mean_squared_error: 0.7286 - 50ms/epoch - 8ms/step\n",
      "Epoch 28/100\n",
      "6/6 - 0s - loss: 0.7302 - mean_squared_error: 0.7240 - val_loss: 0.7898 - val_mean_squared_error: 0.7836 - 50ms/epoch - 8ms/step\n",
      "Epoch 29/100\n",
      "6/6 - 0s - loss: 0.7273 - mean_squared_error: 0.7211 - val_loss: 0.7893 - val_mean_squared_error: 0.7831 - 49ms/epoch - 8ms/step\n",
      "Epoch 30/100\n",
      "6/6 - 0s - loss: 0.7328 - mean_squared_error: 0.7266 - val_loss: 0.7284 - val_mean_squared_error: 0.7222 - 56ms/epoch - 9ms/step\n",
      "Epoch 31/100\n",
      "6/6 - 0s - loss: 0.7230 - mean_squared_error: 0.7168 - val_loss: 0.7284 - val_mean_squared_error: 0.7222 - 54ms/epoch - 9ms/step\n",
      "Epoch 32/100\n",
      "6/6 - 0s - loss: 0.7058 - mean_squared_error: 0.6996 - val_loss: 0.7503 - val_mean_squared_error: 0.7441 - 53ms/epoch - 9ms/step\n",
      "Epoch 33/100\n",
      "6/6 - 0s - loss: 0.6988 - mean_squared_error: 0.6926 - val_loss: 0.7603 - val_mean_squared_error: 0.7541 - 53ms/epoch - 9ms/step\n",
      "Epoch 34/100\n",
      "6/6 - 0s - loss: 0.6883 - mean_squared_error: 0.6822 - val_loss: 0.7311 - val_mean_squared_error: 0.7249 - 41ms/epoch - 7ms/step\n",
      "Epoch 35/100\n",
      "6/6 - 0s - loss: 0.7011 - mean_squared_error: 0.6950 - val_loss: 0.7425 - val_mean_squared_error: 0.7363 - 57ms/epoch - 9ms/step\n",
      "Epoch 36/100\n",
      "6/6 - 0s - loss: 0.7153 - mean_squared_error: 0.7091 - val_loss: 0.7557 - val_mean_squared_error: 0.7495 - 60ms/epoch - 10ms/step\n",
      "Epoch 37/100\n",
      "6/6 - 0s - loss: 0.6980 - mean_squared_error: 0.6918 - val_loss: 0.7744 - val_mean_squared_error: 0.7682 - 50ms/epoch - 8ms/step\n",
      "Epoch 38/100\n",
      "6/6 - 0s - loss: 0.7042 - mean_squared_error: 0.6980 - val_loss: 0.7514 - val_mean_squared_error: 0.7452 - 50ms/epoch - 8ms/step\n",
      "Epoch 39/100\n",
      "6/6 - 0s - loss: 0.6949 - mean_squared_error: 0.6888 - val_loss: 0.7620 - val_mean_squared_error: 0.7559 - 49ms/epoch - 8ms/step\n",
      "Epoch 40/100\n",
      "6/6 - 0s - loss: 0.6960 - mean_squared_error: 0.6899 - val_loss: 0.7413 - val_mean_squared_error: 0.7352 - 50ms/epoch - 8ms/step\n",
      "Epoch 41/100\n",
      "6/6 - 0s - loss: 0.6942 - mean_squared_error: 0.6881 - val_loss: 0.7875 - val_mean_squared_error: 0.7813 - 46ms/epoch - 8ms/step\n",
      "Epoch 42/100\n",
      "6/6 - 0s - loss: 0.7057 - mean_squared_error: 0.6996 - val_loss: 0.8312 - val_mean_squared_error: 0.8251 - 52ms/epoch - 9ms/step\n",
      "Epoch 43/100\n",
      "6/6 - 0s - loss: 0.6929 - mean_squared_error: 0.6868 - val_loss: 0.7054 - val_mean_squared_error: 0.6993 - 53ms/epoch - 9ms/step\n",
      "Epoch 44/100\n",
      "6/6 - 0s - loss: 0.6995 - mean_squared_error: 0.6934 - val_loss: 0.7136 - val_mean_squared_error: 0.7074 - 53ms/epoch - 9ms/step\n",
      "Epoch 45/100\n",
      "6/6 - 0s - loss: 0.6972 - mean_squared_error: 0.6911 - val_loss: 0.7746 - val_mean_squared_error: 0.7685 - 53ms/epoch - 9ms/step\n",
      "Epoch 46/100\n",
      "6/6 - 0s - loss: 0.6927 - mean_squared_error: 0.6867 - val_loss: 0.7106 - val_mean_squared_error: 0.7045 - 43ms/epoch - 7ms/step\n",
      "Epoch 47/100\n",
      "6/6 - 0s - loss: 0.6967 - mean_squared_error: 0.6906 - val_loss: 0.7454 - val_mean_squared_error: 0.7393 - 41ms/epoch - 7ms/step\n",
      "Epoch 48/100\n",
      "6/6 - 0s - loss: 0.7153 - mean_squared_error: 0.7092 - val_loss: 0.7711 - val_mean_squared_error: 0.7650 - 53ms/epoch - 9ms/step\n",
      "Epoch 49/100\n",
      "6/6 - 0s - loss: 0.7005 - mean_squared_error: 0.6944 - val_loss: 0.7238 - val_mean_squared_error: 0.7178 - 53ms/epoch - 9ms/step\n",
      "Epoch 50/100\n",
      "6/6 - 0s - loss: 0.7031 - mean_squared_error: 0.6970 - val_loss: 0.6966 - val_mean_squared_error: 0.6905 - 57ms/epoch - 10ms/step\n",
      "Epoch 51/100\n",
      "6/6 - 0s - loss: 0.6975 - mean_squared_error: 0.6915 - val_loss: 0.7677 - val_mean_squared_error: 0.7616 - 53ms/epoch - 9ms/step\n",
      "Epoch 52/100\n",
      "6/6 - 0s - loss: 0.6948 - mean_squared_error: 0.6888 - val_loss: 0.7638 - val_mean_squared_error: 0.7578 - 54ms/epoch - 9ms/step\n",
      "Epoch 53/100\n",
      "6/6 - 0s - loss: 0.6879 - mean_squared_error: 0.6819 - val_loss: 0.7646 - val_mean_squared_error: 0.7585 - 52ms/epoch - 9ms/step\n",
      "Epoch 54/100\n",
      "6/6 - 0s - loss: 0.6777 - mean_squared_error: 0.6717 - val_loss: 0.7442 - val_mean_squared_error: 0.7382 - 44ms/epoch - 7ms/step\n",
      "Epoch 55/100\n",
      "6/6 - 0s - loss: 0.7063 - mean_squared_error: 0.7003 - val_loss: 0.7497 - val_mean_squared_error: 0.7437 - 53ms/epoch - 9ms/step\n",
      "Epoch 56/100\n",
      "6/6 - 0s - loss: 0.7054 - mean_squared_error: 0.6994 - val_loss: 0.8105 - val_mean_squared_error: 0.8045 - 53ms/epoch - 9ms/step\n",
      "Epoch 57/100\n",
      "6/6 - 0s - loss: 0.6987 - mean_squared_error: 0.6927 - val_loss: 0.7069 - val_mean_squared_error: 0.7008 - 53ms/epoch - 9ms/step\n",
      "Epoch 58/100\n",
      "6/6 - 0s - loss: 0.6913 - mean_squared_error: 0.6853 - val_loss: 0.7438 - val_mean_squared_error: 0.7378 - 54ms/epoch - 9ms/step\n",
      "Epoch 59/100\n",
      "6/6 - 0s - loss: 0.6935 - mean_squared_error: 0.6875 - val_loss: 0.7903 - val_mean_squared_error: 0.7843 - 53ms/epoch - 9ms/step\n",
      "Epoch 60/100\n",
      "6/6 - 0s - loss: 0.6861 - mean_squared_error: 0.6801 - val_loss: 0.7585 - val_mean_squared_error: 0.7525 - 40ms/epoch - 7ms/step\n",
      "Epoch 61/100\n",
      "6/6 - 0s - loss: 0.6949 - mean_squared_error: 0.6889 - val_loss: 0.7039 - val_mean_squared_error: 0.6979 - 67ms/epoch - 11ms/step\n",
      "Epoch 62/100\n",
      "6/6 - 0s - loss: 0.6820 - mean_squared_error: 0.6760 - val_loss: 0.7752 - val_mean_squared_error: 0.7692 - 53ms/epoch - 9ms/step\n",
      "Epoch 63/100\n",
      "6/6 - 0s - loss: 0.6917 - mean_squared_error: 0.6857 - val_loss: 0.8379 - val_mean_squared_error: 0.8319 - 53ms/epoch - 9ms/step\n",
      "Epoch 64/100\n",
      "6/6 - 0s - loss: 0.6829 - mean_squared_error: 0.6769 - val_loss: 0.7580 - val_mean_squared_error: 0.7520 - 55ms/epoch - 9ms/step\n",
      "Epoch 65/100\n",
      "6/6 - 0s - loss: 0.6854 - mean_squared_error: 0.6794 - val_loss: 0.7181 - val_mean_squared_error: 0.7122 - 48ms/epoch - 8ms/step\n",
      "Epoch 66/100\n",
      "6/6 - 0s - loss: 0.6936 - mean_squared_error: 0.6876 - val_loss: 0.7460 - val_mean_squared_error: 0.7400 - 38ms/epoch - 6ms/step\n",
      "Epoch 67/100\n",
      "6/6 - 0s - loss: 0.6978 - mean_squared_error: 0.6918 - val_loss: 0.8048 - val_mean_squared_error: 0.7989 - 47ms/epoch - 8ms/step\n",
      "Epoch 68/100\n",
      "6/6 - 0s - loss: 0.6779 - mean_squared_error: 0.6719 - val_loss: 0.7240 - val_mean_squared_error: 0.7181 - 47ms/epoch - 8ms/step\n",
      "Epoch 69/100\n",
      "6/6 - 0s - loss: 0.6744 - mean_squared_error: 0.6684 - val_loss: 0.7202 - val_mean_squared_error: 0.7142 - 47ms/epoch - 8ms/step\n",
      "Epoch 70/100\n",
      "6/6 - 0s - loss: 0.6781 - mean_squared_error: 0.6721 - val_loss: 0.7513 - val_mean_squared_error: 0.7453 - 54ms/epoch - 9ms/step\n",
      "Epoch 71/100\n",
      "6/6 - 0s - loss: 0.6808 - mean_squared_error: 0.6748 - val_loss: 0.7707 - val_mean_squared_error: 0.7647 - 46ms/epoch - 8ms/step\n",
      "Epoch 72/100\n",
      "6/6 - 0s - loss: 0.6728 - mean_squared_error: 0.6668 - val_loss: 0.7511 - val_mean_squared_error: 0.7451 - 42ms/epoch - 7ms/step\n",
      "Epoch 73/100\n",
      "6/6 - 0s - loss: 0.6636 - mean_squared_error: 0.6576 - val_loss: 0.7679 - val_mean_squared_error: 0.7620 - 53ms/epoch - 9ms/step\n",
      "Epoch 74/100\n",
      "6/6 - 0s - loss: 0.6666 - mean_squared_error: 0.6607 - val_loss: 0.8077 - val_mean_squared_error: 0.8018 - 55ms/epoch - 9ms/step\n",
      "Epoch 75/100\n",
      "6/6 - 0s - loss: 0.6711 - mean_squared_error: 0.6652 - val_loss: 0.7768 - val_mean_squared_error: 0.7708 - 52ms/epoch - 9ms/step\n",
      "Epoch 76/100\n",
      "6/6 - 0s - loss: 0.6635 - mean_squared_error: 0.6575 - val_loss: 0.7146 - val_mean_squared_error: 0.7087 - 55ms/epoch - 9ms/step\n",
      "Epoch 77/100\n",
      "6/6 - 0s - loss: 0.6683 - mean_squared_error: 0.6623 - val_loss: 0.7663 - val_mean_squared_error: 0.7604 - 48ms/epoch - 8ms/step\n",
      "Epoch 78/100\n",
      "6/6 - 0s - loss: 0.6790 - mean_squared_error: 0.6731 - val_loss: 0.8216 - val_mean_squared_error: 0.8157 - 47ms/epoch - 8ms/step\n",
      "Epoch 79/100\n",
      "6/6 - 0s - loss: 0.6755 - mean_squared_error: 0.6695 - val_loss: 0.7474 - val_mean_squared_error: 0.7414 - 47ms/epoch - 8ms/step\n",
      "Epoch 80/100\n",
      "6/6 - 0s - loss: 0.6749 - mean_squared_error: 0.6689 - val_loss: 0.7330 - val_mean_squared_error: 0.7271 - 41ms/epoch - 7ms/step\n",
      "Epoch 81/100\n",
      "6/6 - 0s - loss: 0.6720 - mean_squared_error: 0.6660 - val_loss: 0.7562 - val_mean_squared_error: 0.7502 - 58ms/epoch - 10ms/step\n",
      "Epoch 82/100\n",
      "6/6 - 0s - loss: 0.6849 - mean_squared_error: 0.6789 - val_loss: 0.7708 - val_mean_squared_error: 0.7648 - 52ms/epoch - 9ms/step\n",
      "Epoch 83/100\n",
      "6/6 - 0s - loss: 0.6637 - mean_squared_error: 0.6577 - val_loss: 0.7766 - val_mean_squared_error: 0.7707 - 39ms/epoch - 6ms/step\n",
      "Epoch 84/100\n",
      "6/6 - 0s - loss: 0.6689 - mean_squared_error: 0.6629 - val_loss: 0.8053 - val_mean_squared_error: 0.7994 - 47ms/epoch - 8ms/step\n",
      "Epoch 85/100\n",
      "6/6 - 0s - loss: 0.6686 - mean_squared_error: 0.6627 - val_loss: 0.7864 - val_mean_squared_error: 0.7804 - 47ms/epoch - 8ms/step\n",
      "Epoch 86/100\n",
      "6/6 - 0s - loss: 0.6484 - mean_squared_error: 0.6425 - val_loss: 0.7563 - val_mean_squared_error: 0.7504 - 54ms/epoch - 9ms/step\n",
      "Epoch 87/100\n",
      "6/6 - 0s - loss: 0.6650 - mean_squared_error: 0.6590 - val_loss: 0.7363 - val_mean_squared_error: 0.7304 - 54ms/epoch - 9ms/step\n",
      "Epoch 88/100\n",
      "6/6 - 0s - loss: 0.6570 - mean_squared_error: 0.6510 - val_loss: 0.7733 - val_mean_squared_error: 0.7674 - 47ms/epoch - 8ms/step\n",
      "Epoch 89/100\n",
      "6/6 - 0s - loss: 0.6677 - mean_squared_error: 0.6617 - val_loss: 0.8628 - val_mean_squared_error: 0.8568 - 47ms/epoch - 8ms/step\n",
      "Epoch 90/100\n",
      "6/6 - 0s - loss: 0.7060 - mean_squared_error: 0.7001 - val_loss: 0.7634 - val_mean_squared_error: 0.7575 - 63ms/epoch - 10ms/step\n",
      "Epoch 91/100\n",
      "6/6 - 0s - loss: 0.6748 - mean_squared_error: 0.6689 - val_loss: 0.7406 - val_mean_squared_error: 0.7347 - 47ms/epoch - 8ms/step\n",
      "Epoch 92/100\n",
      "6/6 - 0s - loss: 0.6668 - mean_squared_error: 0.6609 - val_loss: 0.7530 - val_mean_squared_error: 0.7471 - 59ms/epoch - 10ms/step\n",
      "Epoch 93/100\n",
      "6/6 - 0s - loss: 0.6862 - mean_squared_error: 0.6803 - val_loss: 0.8533 - val_mean_squared_error: 0.8474 - 52ms/epoch - 9ms/step\n",
      "Epoch 94/100\n",
      "6/6 - 0s - loss: 0.6795 - mean_squared_error: 0.6736 - val_loss: 0.7096 - val_mean_squared_error: 0.7037 - 43ms/epoch - 7ms/step\n",
      "Epoch 95/100\n",
      "6/6 - 0s - loss: 0.6793 - mean_squared_error: 0.6734 - val_loss: 0.7103 - val_mean_squared_error: 0.7044 - 52ms/epoch - 9ms/step\n",
      "Epoch 96/100\n",
      "6/6 - 0s - loss: 0.6578 - mean_squared_error: 0.6519 - val_loss: 0.7834 - val_mean_squared_error: 0.7775 - 53ms/epoch - 9ms/step\n",
      "Epoch 97/100\n",
      "6/6 - 0s - loss: 0.6635 - mean_squared_error: 0.6576 - val_loss: 0.7650 - val_mean_squared_error: 0.7591 - 53ms/epoch - 9ms/step\n",
      "Epoch 98/100\n",
      "6/6 - 0s - loss: 0.6740 - mean_squared_error: 0.6681 - val_loss: 0.7428 - val_mean_squared_error: 0.7369 - 60ms/epoch - 10ms/step\n",
      "Epoch 99/100\n",
      "6/6 - 0s - loss: 0.6692 - mean_squared_error: 0.6633 - val_loss: 0.7666 - val_mean_squared_error: 0.7607 - 57ms/epoch - 10ms/step\n",
      "Epoch 100/100\n",
      "6/6 - 0s - loss: 0.6639 - mean_squared_error: 0.6580 - val_loss: 0.7842 - val_mean_squared_error: 0.7784 - 55ms/epoch - 9ms/step\n"
     ]
    }
   ],
   "source": [
    "history = model.fit(train_data, train_targets, epochs=100, validation_split=0.15, batch_size=64, verbose=2)"
   ]
  },
  {
   "cell_type": "code",
   "execution_count": 35,
   "metadata": {},
   "outputs": [
    {
     "name": "stdout",
     "output_type": "stream",
     "text": [
      "2/2 - 0s - loss: 0.7294 - mean_squared_error: 0.7234 - 24ms/epoch - 12ms/step\n"
     ]
    },
    {
     "data": {
      "text/plain": [
       "[0.7294131517410278, 0.7233731746673584]"
      ]
     },
     "execution_count": 35,
     "metadata": {},
     "output_type": "execute_result"
    }
   ],
   "source": [
    "model.evaluate(test_data, test_targets, verbose=2)\n"
   ]
  },
  {
   "cell_type": "code",
   "execution_count": 36,
   "metadata": {},
   "outputs": [
    {
     "data": {
      "image/png": "[encoded data removed]",
      "text/plain": [
       "<Figure size 432x288 with 1 Axes>"
      ]
     },
     "metadata": {
      "needs_background": "light"
     },
     "output_type": "display_data"
    }
   ],
   "source": [
    "plt.plot(history.history['loss'])\n",
    "plt.plot(history.history['val_loss'])\n",
    "plt.title('Loss vs. epochs')\n",
    "plt.ylabel('Loss')\n",
    "plt.xlabel('Epoch')\n",
    "plt.legend(['Training', 'Validation'], loc='upper right')\n",
    "plt.show()"
   ]
  },
  {
   "cell_type": "markdown",
   "metadata": {},
   "source": [
    "### Normalização por lote"
   ]
  },
  {
   "cell_type": "code",
   "execution_count": 248,
   "metadata": {},
   "outputs": [],
   "source": [
    "from tensorflow.keras.models import Sequential\n",
    "from tensorflow.keras.layers import Flatten, Dense, Conv2D, MaxPooling2D, BatchNormalization, Dropout"
   ]
  },
  {
   "cell_type": "code",
   "execution_count": 258,
   "metadata": {},
   "outputs": [],
   "source": [
    "#Criando o modelo\n",
    "def get_batch_model():\n",
    "    model = Sequential([\n",
    "    Dense(64, input_shape=[train_data.shape[1],], activation=\"relu\"),\n",
    "    BatchNormalization(),  # <- Batch normalisation layer\n",
    "    Dropout(0.5),\n",
    "    BatchNormalization(),  # <- Batch normalisation layer\n",
    "    Dropout(0.5),\n",
    "    Dense(256, activation='relu'),\n",
    " \n",
    "])\n",
    "    \n",
    "    return model"
   ]
  },
  {
   "cell_type": "code",
   "execution_count": 259,
   "metadata": {},
   "outputs": [],
   "source": [
    "model = get_batch_model()"
   ]
  },
  {
   "cell_type": "code",
   "execution_count": 260,
   "metadata": {},
   "outputs": [
    {
     "name": "stdout",
     "output_type": "stream",
     "text": [
      "Model: \"sequential_30\"\n",
      "_________________________________________________________________\n",
      " Layer (type)                Output Shape              Param #   \n",
      "=================================================================\n",
      " dense_129 (Dense)           (None, 64)                704       \n",
      "                                                                 \n",
      " batch_normalization_103 (Ba  (None, 64)               256       \n",
      " tchNormalization)                                               \n",
      "                                                                 \n",
      " dropout_92 (Dropout)        (None, 64)                0         \n",
      "                                                                 \n",
      " batch_normalization_104 (Ba  (None, 64)               256       \n",
      " tchNormalization)                                               \n",
      "                                                                 \n",
      " dropout_93 (Dropout)        (None, 64)                0         \n",
      "                                                                 \n",
      " dense_130 (Dense)           (None, 256)               16640     \n",
      "                                                                 \n",
      "=================================================================\n",
      "Total params: 17,856\n",
      "Trainable params: 17,600\n",
      "Non-trainable params: 256\n",
      "_________________________________________________________________\n"
     ]
    }
   ],
   "source": [
    "model.summary()"
   ]
  },
  {
   "cell_type": "code",
   "execution_count": 261,
   "metadata": {},
   "outputs": [],
   "source": [
    "#Definindo as configurações do lote\n",
    "model.add(tf.keras.layers.BatchNormalization(\n",
    "    momentum=0.95,\n",
    "    epsilon=0.005,\n",
    "    axis=-1,\n",
    "    beta_initializer=tf.initializers.RandomNormal(mean=0.0, stddev=0.05),\n",
    "    gamma_initializer=tf.keras.initializers.Constant(value=0.5)\n",
    "))"
   ]
  },
  {
   "cell_type": "code",
   "execution_count": 262,
   "metadata": {},
   "outputs": [],
   "source": [
    "model.add(Dense(1, activation='sigmoid'))"
   ]
  },
  {
   "cell_type": "code",
   "execution_count": 263,
   "metadata": {},
   "outputs": [],
   "source": [
    "opt = tf.keras.optimizers.Adam()\n",
    "\n",
    "model.compile(\n",
    "    optimizer=opt,\n",
    "    loss='mse',\n",
    "    metrics=['mse']\n",
    ")"
   ]
  },
  {
   "cell_type": "code",
   "execution_count": 264,
   "metadata": {},
   "outputs": [
    {
     "name": "stdout",
     "output_type": "stream",
     "text": [
      "Epoch 1/100\n",
      "6/6 - 2s - loss: 1.2112 - mse: 1.2112 - val_loss: 1.2927 - val_mse: 1.2927 - 2s/epoch - 260ms/step\n",
      "Epoch 2/100\n",
      "6/6 - 0s - loss: 1.0353 - mse: 1.0353 - val_loss: 1.2310 - val_mse: 1.2310 - 40ms/epoch - 7ms/step\n",
      "Epoch 3/100\n",
      "6/6 - 0s - loss: 0.9630 - mse: 0.9630 - val_loss: 1.1700 - val_mse: 1.1700 - 42ms/epoch - 7ms/step\n",
      "Epoch 4/100\n",
      "6/6 - 0s - loss: 0.8932 - mse: 0.8932 - val_loss: 1.1154 - val_mse: 1.1154 - 41ms/epoch - 7ms/step\n",
      "Epoch 5/100\n",
      "6/6 - 0s - loss: 0.8636 - mse: 0.8636 - val_loss: 1.0729 - val_mse: 1.0729 - 42ms/epoch - 7ms/step\n",
      "Epoch 6/100\n",
      "6/6 - 0s - loss: 0.8521 - mse: 0.8521 - val_loss: 1.0427 - val_mse: 1.0427 - 41ms/epoch - 7ms/step\n",
      "Epoch 7/100\n",
      "6/6 - 0s - loss: 0.7994 - mse: 0.7994 - val_loss: 1.0200 - val_mse: 1.0200 - 43ms/epoch - 7ms/step\n",
      "Epoch 8/100\n",
      "6/6 - 0s - loss: 0.7792 - mse: 0.7792 - val_loss: 1.0025 - val_mse: 1.0025 - 43ms/epoch - 7ms/step\n",
      "Epoch 9/100\n",
      "6/6 - 0s - loss: 0.8060 - mse: 0.8060 - val_loss: 0.9899 - val_mse: 0.9899 - 41ms/epoch - 7ms/step\n",
      "Epoch 10/100\n",
      "6/6 - 0s - loss: 0.7919 - mse: 0.7919 - val_loss: 0.9800 - val_mse: 0.9800 - 43ms/epoch - 7ms/step\n",
      "Epoch 11/100\n",
      "6/6 - 0s - loss: 0.7618 - mse: 0.7618 - val_loss: 0.9735 - val_mse: 0.9735 - 43ms/epoch - 7ms/step\n",
      "Epoch 12/100\n",
      "6/6 - 0s - loss: 0.7731 - mse: 0.7731 - val_loss: 0.9685 - val_mse: 0.9685 - 39ms/epoch - 6ms/step\n",
      "Epoch 13/100\n",
      "6/6 - 0s - loss: 0.7719 - mse: 0.7719 - val_loss: 0.9640 - val_mse: 0.9640 - 46ms/epoch - 8ms/step\n",
      "Epoch 14/100\n",
      "6/6 - 0s - loss: 0.8073 - mse: 0.8073 - val_loss: 0.9604 - val_mse: 0.9604 - 40ms/epoch - 7ms/step\n",
      "Epoch 15/100\n",
      "6/6 - 0s - loss: 0.7539 - mse: 0.7539 - val_loss: 0.9579 - val_mse: 0.9579 - 42ms/epoch - 7ms/step\n",
      "Epoch 16/100\n",
      "6/6 - 0s - loss: 0.7801 - mse: 0.7801 - val_loss: 0.9550 - val_mse: 0.9550 - 36ms/epoch - 6ms/step\n",
      "Epoch 17/100\n",
      "6/6 - 0s - loss: 0.7358 - mse: 0.7358 - val_loss: 0.9523 - val_mse: 0.9523 - 50ms/epoch - 8ms/step\n",
      "Epoch 18/100\n",
      "6/6 - 0s - loss: 0.7689 - mse: 0.7689 - val_loss: 0.9498 - val_mse: 0.9498 - 42ms/epoch - 7ms/step\n",
      "Epoch 19/100\n",
      "6/6 - 0s - loss: 0.7426 - mse: 0.7426 - val_loss: 0.9483 - val_mse: 0.9483 - 44ms/epoch - 7ms/step\n",
      "Epoch 20/100\n",
      "6/6 - 0s - loss: 0.7341 - mse: 0.7341 - val_loss: 0.9470 - val_mse: 0.9470 - 42ms/epoch - 7ms/step\n",
      "Epoch 21/100\n",
      "6/6 - 0s - loss: 0.7292 - mse: 0.7292 - val_loss: 0.9454 - val_mse: 0.9454 - 43ms/epoch - 7ms/step\n",
      "Epoch 22/100\n",
      "6/6 - 0s - loss: 0.7617 - mse: 0.7617 - val_loss: 0.9446 - val_mse: 0.9446 - 42ms/epoch - 7ms/step\n",
      "Epoch 23/100\n",
      "6/6 - 0s - loss: 0.7543 - mse: 0.7543 - val_loss: 0.9435 - val_mse: 0.9435 - 42ms/epoch - 7ms/step\n",
      "Epoch 24/100\n",
      "6/6 - 0s - loss: 0.7400 - mse: 0.7400 - val_loss: 0.9427 - val_mse: 0.9427 - 40ms/epoch - 7ms/step\n",
      "Epoch 25/100\n",
      "6/6 - 0s - loss: 0.7484 - mse: 0.7484 - val_loss: 0.9417 - val_mse: 0.9417 - 41ms/epoch - 7ms/step\n",
      "Epoch 26/100\n",
      "6/6 - 0s - loss: 0.7229 - mse: 0.7229 - val_loss: 0.9402 - val_mse: 0.9402 - 40ms/epoch - 7ms/step\n",
      "Epoch 27/100\n",
      "6/6 - 0s - loss: 0.7359 - mse: 0.7359 - val_loss: 0.9394 - val_mse: 0.9394 - 42ms/epoch - 7ms/step\n",
      "Epoch 28/100\n",
      "6/6 - 0s - loss: 0.7245 - mse: 0.7245 - val_loss: 0.9382 - val_mse: 0.9382 - 43ms/epoch - 7ms/step\n",
      "Epoch 29/100\n",
      "6/6 - 0s - loss: 0.7536 - mse: 0.7536 - val_loss: 0.9370 - val_mse: 0.9370 - 62ms/epoch - 10ms/step\n",
      "Epoch 30/100\n",
      "6/6 - 0s - loss: 0.6991 - mse: 0.6991 - val_loss: 0.9356 - val_mse: 0.9356 - 61ms/epoch - 10ms/step\n",
      "Epoch 31/100\n",
      "6/6 - 0s - loss: 0.7352 - mse: 0.7352 - val_loss: 0.9336 - val_mse: 0.9336 - 45ms/epoch - 7ms/step\n",
      "Epoch 32/100\n",
      "6/6 - 0s - loss: 0.7346 - mse: 0.7346 - val_loss: 0.9323 - val_mse: 0.9323 - 47ms/epoch - 8ms/step\n",
      "Epoch 33/100\n",
      "6/6 - 0s - loss: 0.7268 - mse: 0.7268 - val_loss: 0.9313 - val_mse: 0.9313 - 40ms/epoch - 7ms/step\n",
      "Epoch 34/100\n",
      "6/6 - 0s - loss: 0.7026 - mse: 0.7026 - val_loss: 0.9293 - val_mse: 0.9293 - 53ms/epoch - 9ms/step\n",
      "Epoch 35/100\n",
      "6/6 - 0s - loss: 0.7326 - mse: 0.7326 - val_loss: 0.9268 - val_mse: 0.9268 - 40ms/epoch - 7ms/step\n",
      "Epoch 36/100\n",
      "6/6 - 0s - loss: 0.7390 - mse: 0.7390 - val_loss: 0.9240 - val_mse: 0.9240 - 66ms/epoch - 11ms/step\n",
      "Epoch 37/100\n",
      "6/6 - 0s - loss: 0.7439 - mse: 0.7439 - val_loss: 0.9228 - val_mse: 0.9228 - 54ms/epoch - 9ms/step\n",
      "Epoch 38/100\n",
      "6/6 - 0s - loss: 0.7131 - mse: 0.7131 - val_loss: 0.9214 - val_mse: 0.9214 - 43ms/epoch - 7ms/step\n",
      "Epoch 39/100\n",
      "6/6 - 0s - loss: 0.7264 - mse: 0.7264 - val_loss: 0.9196 - val_mse: 0.9196 - 41ms/epoch - 7ms/step\n",
      "Epoch 40/100\n",
      "6/6 - 0s - loss: 0.7390 - mse: 0.7390 - val_loss: 0.9176 - val_mse: 0.9176 - 40ms/epoch - 7ms/step\n",
      "Epoch 41/100\n",
      "6/6 - 0s - loss: 0.7126 - mse: 0.7126 - val_loss: 0.9168 - val_mse: 0.9168 - 45ms/epoch - 8ms/step\n",
      "Epoch 42/100\n",
      "6/6 - 0s - loss: 0.7237 - mse: 0.7237 - val_loss: 0.9147 - val_mse: 0.9147 - 42ms/epoch - 7ms/step\n",
      "Epoch 43/100\n",
      "6/6 - 0s - loss: 0.7277 - mse: 0.7277 - val_loss: 0.9112 - val_mse: 0.9112 - 41ms/epoch - 7ms/step\n",
      "Epoch 44/100\n",
      "6/6 - 0s - loss: 0.7558 - mse: 0.7558 - val_loss: 0.9082 - val_mse: 0.9082 - 41ms/epoch - 7ms/step\n",
      "Epoch 45/100\n",
      "6/6 - 0s - loss: 0.7218 - mse: 0.7218 - val_loss: 0.9055 - val_mse: 0.9055 - 40ms/epoch - 7ms/step\n",
      "Epoch 46/100\n",
      "6/6 - 0s - loss: 0.7106 - mse: 0.7106 - val_loss: 0.9028 - val_mse: 0.9028 - 40ms/epoch - 7ms/step\n",
      "Epoch 47/100\n",
      "6/6 - 0s - loss: 0.7084 - mse: 0.7084 - val_loss: 0.8999 - val_mse: 0.8999 - 41ms/epoch - 7ms/step\n",
      "Epoch 48/100\n",
      "6/6 - 0s - loss: 0.7428 - mse: 0.7428 - val_loss: 0.8953 - val_mse: 0.8953 - 42ms/epoch - 7ms/step\n",
      "Epoch 49/100\n",
      "6/6 - 0s - loss: 0.7649 - mse: 0.7649 - val_loss: 0.8919 - val_mse: 0.8919 - 42ms/epoch - 7ms/step\n",
      "Epoch 50/100\n",
      "6/6 - 0s - loss: 0.7374 - mse: 0.7374 - val_loss: 0.8907 - val_mse: 0.8907 - 42ms/epoch - 7ms/step\n",
      "Epoch 51/100\n",
      "6/6 - 0s - loss: 0.7309 - mse: 0.7309 - val_loss: 0.8915 - val_mse: 0.8915 - 39ms/epoch - 7ms/step\n",
      "Epoch 52/100\n",
      "6/6 - 0s - loss: 0.7386 - mse: 0.7386 - val_loss: 0.8885 - val_mse: 0.8885 - 40ms/epoch - 7ms/step\n",
      "Epoch 53/100\n",
      "6/6 - 0s - loss: 0.7339 - mse: 0.7339 - val_loss: 0.8844 - val_mse: 0.8844 - 43ms/epoch - 7ms/step\n",
      "Epoch 54/100\n",
      "6/6 - 0s - loss: 0.7155 - mse: 0.7155 - val_loss: 0.8793 - val_mse: 0.8793 - 40ms/epoch - 7ms/step\n",
      "Epoch 55/100\n",
      "6/6 - 0s - loss: 0.7028 - mse: 0.7028 - val_loss: 0.8779 - val_mse: 0.8779 - 42ms/epoch - 7ms/step\n",
      "Epoch 56/100\n",
      "6/6 - 0s - loss: 0.7364 - mse: 0.7364 - val_loss: 0.8736 - val_mse: 0.8736 - 40ms/epoch - 7ms/step\n",
      "Epoch 57/100\n",
      "6/6 - 0s - loss: 0.7058 - mse: 0.7058 - val_loss: 0.8645 - val_mse: 0.8645 - 38ms/epoch - 6ms/step\n",
      "Epoch 58/100\n",
      "6/6 - 0s - loss: 0.7287 - mse: 0.7287 - val_loss: 0.8595 - val_mse: 0.8595 - 46ms/epoch - 8ms/step\n",
      "Epoch 59/100\n",
      "6/6 - 0s - loss: 0.7133 - mse: 0.7133 - val_loss: 0.8533 - val_mse: 0.8533 - 40ms/epoch - 7ms/step\n",
      "Epoch 60/100\n",
      "6/6 - 0s - loss: 0.7404 - mse: 0.7404 - val_loss: 0.8519 - val_mse: 0.8519 - 41ms/epoch - 7ms/step\n",
      "Epoch 61/100\n",
      "6/6 - 0s - loss: 0.7504 - mse: 0.7504 - val_loss: 0.8477 - val_mse: 0.8477 - 41ms/epoch - 7ms/step\n",
      "Epoch 62/100\n",
      "6/6 - 0s - loss: 0.7221 - mse: 0.7221 - val_loss: 0.8461 - val_mse: 0.8461 - 39ms/epoch - 7ms/step\n",
      "Epoch 63/100\n",
      "6/6 - 0s - loss: 0.7013 - mse: 0.7013 - val_loss: 0.8412 - val_mse: 0.8412 - 37ms/epoch - 6ms/step\n",
      "Epoch 64/100\n",
      "6/6 - 0s - loss: 0.7383 - mse: 0.7383 - val_loss: 0.8372 - val_mse: 0.8372 - 40ms/epoch - 7ms/step\n",
      "Epoch 65/100\n",
      "6/6 - 0s - loss: 0.7437 - mse: 0.7437 - val_loss: 0.8325 - val_mse: 0.8325 - 43ms/epoch - 7ms/step\n",
      "Epoch 66/100\n",
      "6/6 - 0s - loss: 0.6996 - mse: 0.6996 - val_loss: 0.8271 - val_mse: 0.8271 - 50ms/epoch - 8ms/step\n",
      "Epoch 67/100\n",
      "6/6 - 0s - loss: 0.7098 - mse: 0.7098 - val_loss: 0.8163 - val_mse: 0.8163 - 46ms/epoch - 8ms/step\n",
      "Epoch 68/100\n",
      "6/6 - 0s - loss: 0.7179 - mse: 0.7179 - val_loss: 0.8047 - val_mse: 0.8047 - 33ms/epoch - 6ms/step\n",
      "Epoch 69/100\n",
      "6/6 - 0s - loss: 0.7090 - mse: 0.7090 - val_loss: 0.7997 - val_mse: 0.7997 - 31ms/epoch - 5ms/step\n",
      "Epoch 70/100\n",
      "6/6 - 0s - loss: 0.7368 - mse: 0.7368 - val_loss: 0.8009 - val_mse: 0.8009 - 40ms/epoch - 7ms/step\n",
      "Epoch 71/100\n",
      "6/6 - 0s - loss: 0.7076 - mse: 0.7076 - val_loss: 0.7990 - val_mse: 0.7990 - 41ms/epoch - 7ms/step\n",
      "Epoch 72/100\n",
      "6/6 - 0s - loss: 0.7395 - mse: 0.7395 - val_loss: 0.7925 - val_mse: 0.7925 - 41ms/epoch - 7ms/step\n",
      "Epoch 73/100\n",
      "6/6 - 0s - loss: 0.7210 - mse: 0.7210 - val_loss: 0.7835 - val_mse: 0.7835 - 40ms/epoch - 7ms/step\n",
      "Epoch 74/100\n",
      "6/6 - 0s - loss: 0.7059 - mse: 0.7059 - val_loss: 0.7747 - val_mse: 0.7747 - 40ms/epoch - 7ms/step\n",
      "Epoch 75/100\n",
      "6/6 - 0s - loss: 0.7127 - mse: 0.7127 - val_loss: 0.7645 - val_mse: 0.7645 - 39ms/epoch - 7ms/step\n",
      "Epoch 76/100\n",
      "6/6 - 0s - loss: 0.7050 - mse: 0.7050 - val_loss: 0.7577 - val_mse: 0.7577 - 36ms/epoch - 6ms/step\n",
      "Epoch 77/100\n",
      "6/6 - 0s - loss: 0.7113 - mse: 0.7113 - val_loss: 0.7541 - val_mse: 0.7541 - 40ms/epoch - 7ms/step\n",
      "Epoch 78/100\n",
      "6/6 - 0s - loss: 0.7011 - mse: 0.7011 - val_loss: 0.7552 - val_mse: 0.7552 - 41ms/epoch - 7ms/step\n",
      "Epoch 79/100\n",
      "6/6 - 0s - loss: 0.7117 - mse: 0.7117 - val_loss: 0.7548 - val_mse: 0.7548 - 39ms/epoch - 6ms/step\n",
      "Epoch 80/100\n",
      "6/6 - 0s - loss: 0.6946 - mse: 0.6946 - val_loss: 0.7504 - val_mse: 0.7504 - 40ms/epoch - 7ms/step\n",
      "Epoch 81/100\n",
      "6/6 - 0s - loss: 0.7119 - mse: 0.7119 - val_loss: 0.7441 - val_mse: 0.7441 - 35ms/epoch - 6ms/step\n",
      "Epoch 82/100\n",
      "6/6 - 0s - loss: 0.7002 - mse: 0.7002 - val_loss: 0.7355 - val_mse: 0.7355 - 40ms/epoch - 7ms/step\n",
      "Epoch 83/100\n",
      "6/6 - 0s - loss: 0.7197 - mse: 0.7197 - val_loss: 0.7300 - val_mse: 0.7300 - 39ms/epoch - 6ms/step\n",
      "Epoch 84/100\n",
      "6/6 - 0s - loss: 0.6985 - mse: 0.6985 - val_loss: 0.7287 - val_mse: 0.7287 - 40ms/epoch - 7ms/step\n",
      "Epoch 85/100\n",
      "6/6 - 0s - loss: 0.7088 - mse: 0.7088 - val_loss: 0.7274 - val_mse: 0.7274 - 42ms/epoch - 7ms/step\n",
      "Epoch 86/100\n",
      "6/6 - 0s - loss: 0.6999 - mse: 0.6999 - val_loss: 0.7281 - val_mse: 0.7281 - 40ms/epoch - 7ms/step\n",
      "Epoch 87/100\n",
      "6/6 - 0s - loss: 0.7114 - mse: 0.7114 - val_loss: 0.7263 - val_mse: 0.7263 - 41ms/epoch - 7ms/step\n",
      "Epoch 88/100\n",
      "6/6 - 0s - loss: 0.6968 - mse: 0.6968 - val_loss: 0.7235 - val_mse: 0.7235 - 39ms/epoch - 7ms/step\n",
      "Epoch 89/100\n",
      "6/6 - 0s - loss: 0.7125 - mse: 0.7125 - val_loss: 0.7194 - val_mse: 0.7194 - 41ms/epoch - 7ms/step\n",
      "Epoch 90/100\n",
      "6/6 - 0s - loss: 0.7081 - mse: 0.7081 - val_loss: 0.7178 - val_mse: 0.7178 - 42ms/epoch - 7ms/step\n",
      "Epoch 91/100\n",
      "6/6 - 0s - loss: 0.7229 - mse: 0.7229 - val_loss: 0.7152 - val_mse: 0.7152 - 41ms/epoch - 7ms/step\n",
      "Epoch 92/100\n",
      "6/6 - 0s - loss: 0.7361 - mse: 0.7361 - val_loss: 0.7119 - val_mse: 0.7119 - 44ms/epoch - 7ms/step\n",
      "Epoch 93/100\n",
      "6/6 - 0s - loss: 0.7151 - mse: 0.7151 - val_loss: 0.7076 - val_mse: 0.7076 - 40ms/epoch - 7ms/step\n",
      "Epoch 94/100\n",
      "6/6 - 0s - loss: 0.7297 - mse: 0.7297 - val_loss: 0.7048 - val_mse: 0.7048 - 40ms/epoch - 7ms/step\n",
      "Epoch 95/100\n",
      "6/6 - 0s - loss: 0.7123 - mse: 0.7123 - val_loss: 0.7030 - val_mse: 0.7030 - 40ms/epoch - 7ms/step\n",
      "Epoch 96/100\n",
      "6/6 - 0s - loss: 0.7124 - mse: 0.7124 - val_loss: 0.7032 - val_mse: 0.7032 - 40ms/epoch - 7ms/step\n",
      "Epoch 97/100\n",
      "6/6 - 0s - loss: 0.7137 - mse: 0.7137 - val_loss: 0.7017 - val_mse: 0.7017 - 45ms/epoch - 7ms/step\n",
      "Epoch 98/100\n",
      "6/6 - 0s - loss: 0.7125 - mse: 0.7125 - val_loss: 0.7038 - val_mse: 0.7038 - 41ms/epoch - 7ms/step\n",
      "Epoch 99/100\n",
      "6/6 - 0s - loss: 0.7024 - mse: 0.7024 - val_loss: 0.7066 - val_mse: 0.7066 - 41ms/epoch - 7ms/step\n",
      "Epoch 100/100\n",
      "6/6 - 0s - loss: 0.7107 - mse: 0.7107 - val_loss: 0.7081 - val_mse: 0.7081 - 40ms/epoch - 7ms/step\n"
     ]
    }
   ],
   "source": [
    "history = model.fit(train_data, train_targets, epochs=100, validation_split=0.15, batch_size=64,verbose=2)"
   ]
  },
  {
   "cell_type": "code",
   "execution_count": 266,
   "metadata": {},
   "outputs": [
    {
     "name": "stdout",
     "output_type": "stream",
     "text": [
      "2/2 - 0s - loss: 0.7017 - mse: 0.7017 - 35ms/epoch - 18ms/step\n"
     ]
    },
    {
     "data": {
      "text/plain": [
       "[0.7017076015472412, 0.7017076015472412]"
      ]
     },
     "execution_count": 266,
     "metadata": {},
     "output_type": "execute_result"
    }
   ],
   "source": [
    "model.evaluate(test_data, test_targets, verbose=2)"
   ]
  },
  {
   "cell_type": "code",
   "execution_count": 265,
   "metadata": {},
   "outputs": [
    {
     "data": {
      "text/plain": [
       "<matplotlib.legend.Legend at 0x2799ae9d880>"
      ]
     },
     "execution_count": 265,
     "metadata": {},
     "output_type": "execute_result"
    },
    {
     "data": {
      "image/png": "[encoded data removed]",
      "text/plain": [
       "<Figure size 864x288 with 2 Axes>"
      ]
     },
     "metadata": {
      "needs_background": "light"
     },
     "output_type": "display_data"
    }
   ],
   "source": [
    "# Criando grafico de Perda e Precisão\n",
    "\n",
    "import pandas as pd\n",
    "import numpy as np\n",
    "import matplotlib.pyplot as plt\n",
    "%matplotlib inline\n",
    "\n",
    "frame = pd.DataFrame(history.history)\n",
    "epochs = np.arange(len(frame))\n",
    "\n",
    "fig = plt.figure(figsize=(12,4))\n",
    "\n",
    "# Perda\n",
    "ax = fig.add_subplot(121)\n",
    "ax.plot(epochs, frame['loss'], label=\"Train\")\n",
    "ax.plot(epochs, frame['val_loss'], label=\"Validation\")\n",
    "ax.set_xlabel(\"Epochs\")\n",
    "ax.set_ylabel(\"Loss\")\n",
    "ax.set_title(\"Loss vs Epochs\")\n",
    "ax.legend()\n",
    "\n",
    "# Precisão\n",
    "ax = fig.add_subplot(122)\n",
    "ax.plot(epochs, frame['mse'], label=\"Train\")\n",
    "ax.plot(epochs, frame['val_mse'], label=\"Validation\")\n",
    "ax.set_xlabel(\"Epochs\")\n",
    "ax.set_ylabel(\"Mean Absolute Error\")\n",
    "ax.set_title(\"Mean Absolute Error vs Epochs\")\n",
    "ax.legend()"
   ]
  }
 ],
 "metadata": {
  "kernelspec": {
   "display_name": "base",
   "language": "python",
   "name": "python3"
  },
  "language_info": {
   "codemirror_mode": {
    "name": "ipython",
    "version": 3
   },
   "file_extension": ".py",
   "mimetype": "text/x-python",
   "name": "python",
   "nbconvert_exporter": "python",
   "pygments_lexer": "ipython3",
   "version": "3.8.8"
  }
 },
 "nbformat": 4,
 "nbformat_minor": 2
}
